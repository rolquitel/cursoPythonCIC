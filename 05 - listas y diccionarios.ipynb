{
 "cells": [
  {
   "attachments": {},
   "cell_type": "markdown",
   "metadata": {},
   "source": [
    "# 5. Listas y diccionarios"
   ]
  },
  {
   "attachments": {},
   "cell_type": "markdown",
   "metadata": {},
   "source": [
    "## 5.1. Listas\n",
    "\n",
    "Python tiene muchos tipos integrados, como cadenas y enteros. También tiene un tipo para almacenar una colección de valores: la lista.\n"
   ]
  },
  {
   "attachments": {},
   "cell_type": "markdown",
   "metadata": {},
   "source": [
    "### 5.1.1. Crear una lista\n",
    "Para crear una lista, asigne una secuencia de valores a una variable. Cada valor está separado por una coma y están entre corchetes (`[]`). En el ejemplo siguiente se almacena la lista de todos los planetas de la variable planets:"
   ]
  },
  {
   "cell_type": "code",
   "execution_count": null,
   "metadata": {},
   "outputs": [],
   "source": [
    "planetas = [\"Mercurio\", \"Venus\", \"Tierra\", \"Marte\", \"Jupiter\", \"Saturno\", \"Urano\", \"Neptuno\"]"
   ]
  },
  {
   "attachments": {},
   "cell_type": "markdown",
   "metadata": {},
   "source": [
    "### 5.1.2. Acceso a elementos de lista por índice\n",
    "Puede acceder a cualquier elemento de una lista colocando el índice entre corchetes `[]` después del nombre de la variable de lista. Los índices comienzan a partir de 0, por lo que en el código siguiente, `planetas[0]` es el primer elemento de la lista planets:\n"
   ]
  },
  {
   "cell_type": "code",
   "execution_count": null,
   "metadata": {},
   "outputs": [],
   "source": [
    "print(\"El primer planeta es\", planetas[0])\n",
    "print(\"El segundo planeta es\", planetas[1])\n",
    "print(\"El tercer planeta es\", planetas[2])"
   ]
  },
  {
   "attachments": {},
   "cell_type": "markdown",
   "metadata": {},
   "source": [
    "> **Nota:** Dado que todos los índices empiezan por `0`, `[1]` es el segundo elemento, `[2]` es el tercero, etc.\n",
    "\n",
    "También puede modificar valores de una lista mediante un índice. Para ello, asigne un nuevo valor, de la misma manera que asignaría un valor de variable. Por ejemplo, podría cambiar el nombre de Marte en la lista para usar su alias:"
   ]
  },
  {
   "cell_type": "code",
   "execution_count": null,
   "metadata": {},
   "outputs": [],
   "source": [
    "planetas[3] = \"el Planeta rojo\"\n",
    "print(\"Marte también es conocido como\", planetas[3])"
   ]
  },
  {
   "attachments": {},
   "cell_type": "markdown",
   "metadata": {},
   "source": [
    "### 5.1.3. Determinación de la longitud de una lista\n",
    "Para obtener la longitud de una lista, use la función integrada `len()`. El código siguiente crea una variable, `numero_de_planetas`. El código asigna esa variable con el número de elementos de la lista planets."
   ]
  },
  {
   "cell_type": "code",
   "execution_count": null,
   "metadata": {},
   "outputs": [],
   "source": [
    "numero_de_planetas = len(planetas)\n",
    "print(\"Hay\", numero_de_planetas, \"planetas en el sistema solar.\")"
   ]
  },
  {
   "attachments": {},
   "cell_type": "markdown",
   "metadata": {},
   "source": [
    "### 5.1.4. Incorporación de valores a listas\n",
    "Las listas de Python son dinámicas: puede agregar y quitar elementos después de crearlas. Para agregar un elemento a una lista, use el método `.append(value)`.\n",
    "\n",
    "Por ejemplo, el código siguiente agrega la cadena \"Plutón\" al final de la lista planets:"
   ]
  },
  {
   "cell_type": "code",
   "execution_count": null,
   "metadata": {},
   "outputs": [],
   "source": [
    "planetas.append(\"Plutón\")\n",
    "numero_de_planetas = len(planetas)\n",
    "print(\"De hecho hay\", numero_de_planetas, \"planetas en el sistema solar.\")"
   ]
  },
  {
   "attachments": {},
   "cell_type": "markdown",
   "metadata": {},
   "source": [
    "### 5.1.5. Eliminación de valores de listas\n",
    "Puede quitar el último elemento de una lista llamando al método `.pop()` en la variable de lista:\n"
   ]
  },
  {
   "cell_type": "code",
   "execution_count": null,
   "metadata": {},
   "outputs": [],
   "source": [
    "planetas.pop()  # Adiós Plutón\n",
    "numero_de_planetas = len(planetas)\n",
    "print(\"No, definitivamente hay\", numero_de_planetas, \"planetas en el sistema solar.\")"
   ]
  },
  {
   "attachments": {},
   "cell_type": "markdown",
   "metadata": {},
   "source": [
    "### 5.1.6. Uso de índices negativos\n",
    "Ha visto cómo usar índices para capturar un elemento individual en una lista:\n"
   ]
  },
  {
   "cell_type": "code",
   "execution_count": null,
   "metadata": {},
   "outputs": [],
   "source": [
    "print(\"El primer planeta es\", planetas[0])"
   ]
  },
  {
   "attachments": {},
   "cell_type": "markdown",
   "metadata": {},
   "source": [
    "Los índices comienzan en cero y van en aumento. Los índices negativos comienzan al final de la lista y van hacia atrás.\n",
    "\n",
    "En el ejemplo siguiente, un índice de -1 devuelve el último elemento de una lista. Un índice de -2 devuelve el penúltimo.\n"
   ]
  },
  {
   "cell_type": "code",
   "execution_count": null,
   "metadata": {},
   "outputs": [],
   "source": [
    "print(\"El último planeta es\", planetas[-1])\n",
    "print(\"El penultimo planeta es\", planetas[-2])"
   ]
  },
  {
   "attachments": {},
   "cell_type": "markdown",
   "metadata": {},
   "source": [
    "Si quisiera devolver el antepenúltimo, usaría un índice de `-3` (y así sucesivamente).\n"
   ]
  },
  {
   "attachments": {},
   "cell_type": "markdown",
   "metadata": {},
   "source": [
    "### 5.1.7. Búsqueda de un valor en una lista\n",
    "Para determinar dónde se almacena un valor en una lista, use el método index de la lista. Este método busca el valor y devuelve el índice de ese elemento en la lista. Si no encuentra ninguna coincidencia, devuelve `-1`.\n",
    "\n",
    "En el ejemplo siguiente se muestra el uso de \"Jupiter\" como el valor del índice:"
   ]
  },
  {
   "cell_type": "code",
   "execution_count": null,
   "metadata": {},
   "outputs": [],
   "source": [
    "jupiter_index = planetas.index(\"Jupiter\")\n",
    "print(\"Jupiter es el\", jupiter_index + 1, \"planeta del sistema solar.\")"
   ]
  },
  {
   "attachments": {},
   "cell_type": "markdown",
   "metadata": {},
   "source": [
    "> **Nota:** Dado que la indexación comienza por `0`, debe agregar `1` para mostrar el número adecuado."
   ]
  },
  {
   "attachments": {},
   "cell_type": "markdown",
   "metadata": {},
   "source": [
    "### 5.1.8. Trabajo con números en listas\n",
    "Hasta ahora, ha estado usando nombres de planetas en una lista. Es posible que se pregunte si trabaja con otros tipos de datos, como números.\n",
    "\n",
    "¿Sabía que la gravedad en otros planetas es más fuerte o más débil en función de la masa o el tamaño del planeta? La gravedad a menudo se mide en G, donde la gravedad en la Tierra es 1 y otros planetas se miden en relación con la Tierra.\n",
    "\n",
    "La gravedad en la Luna es de 0.166 G, por este motivo los astronautas pueden saltar tan alto sobre la Luna. La gravedad en Neptuno es de 1.12 G, por lo que saltar es más difícil. Incluso los grandes atletas tendrían dificultades para saltar más de 2 metros en Neptuno."
   ]
  },
  {
   "attachments": {},
   "cell_type": "markdown",
   "metadata": {},
   "source": [
    "#### Almacenamiento de números en listas\n",
    "Para almacenar números con decimales en Python, se debe usar el tipo float. Para crear un valor float, escriba el número con la posición decimal y asígnelo a una variable:"
   ]
  },
  {
   "cell_type": "code",
   "execution_count": null,
   "metadata": {},
   "outputs": [],
   "source": [
    "gravedad_en_la_tierra = 1.0\n",
    "gravedad_en_la_luna = 0.166"
   ]
  },
  {
   "attachments": {},
   "cell_type": "markdown",
   "metadata": {},
   "source": [
    "El código siguiente crea una lista en la que se muestran las fuerzas de los ocho planetas del sistema solar, en G:"
   ]
  },
  {
   "cell_type": "code",
   "execution_count": null,
   "metadata": {},
   "outputs": [],
   "source": [
    "gravedad_en_los_planetas = [0.378, 0.907, 1, 0.377, 2.36, 0.916, 0.889, 1.12]"
   ]
  },
  {
   "attachments": {},
   "cell_type": "markdown",
   "metadata": {},
   "source": [
    "En esta lista, `gravedad_en_los_planetas[0]` es la gravedad en Mercurio (0,378 G), `gravedad_en_los_planetas[1]` es la gravedad en Venus (0.907 G), y así sucesivamente.\n",
    "\n",
    "En la Tierra, un autobús de dos pisos pesa 12 650 kilogramos (kg), es decir, 12.65 toneladas. En Mercurio, donde la gravedad es de 0.378 G, el mismo autobús pesa 12.65 toneladas multiplicado por 0.378. \n",
    "\n",
    "En el ejemplo siguiente, puede averiguar el peso de un autobús de dos pisos en diferentes planetas obteniendo el valor de la lista:\n"
   ]
  },
  {
   "cell_type": "code",
   "execution_count": null,
   "metadata": {},
   "outputs": [],
   "source": [
    "peso_autobus = 12650 # kilogramos, en la tierra\n",
    "\n",
    "print(\"El peso de un autobús en la Tierra es de\", peso_autobus, \"kg\")\n",
    "print(\"El peso de un autobús en Mercurio es de\", peso_autobus * gravedad_en_los_planetas[0], \"kg\")"
   ]
  },
  {
   "attachments": {},
   "cell_type": "markdown",
   "metadata": {},
   "source": [
    "Uso de `min()` y `max()` con listas\n",
    "Python tiene funciones integradas para calcular los números más grandes y más pequeños de una lista. La función `max()` devuelve el número más grande y `min()` devuelve el más pequeño. Por lo tanto, `min(gravedad_en_los_planetas)` devuelve el número más pequeño de la lista `gravedad_en_los_planetas`, que es 0.377 (Marte).\n",
    "\n",
    "El código siguiente calcula los pesos mínimo y máximo en el sistema solar mediante esas funciones:"
   ]
  },
  {
   "cell_type": "code",
   "execution_count": null,
   "metadata": {},
   "outputs": [],
   "source": [
    "peso_autobus = 12650 # kilogramos, en la tierra\n",
    "\n",
    "print(\"El peso de un autobús en la Tierra es de\", peso_autobus, \"kg\")\n",
    "print(\"El menor peso del autobús en el sistema solar es\", peso_autobus * min(gravedad_en_los_planetas), \"kg\")\n",
    "print(\"El mayor peso del autobús en el sistema solar es\", peso_autobus * max(gravedad_en_los_planetas), \"kg\")"
   ]
  },
  {
   "attachments": {},
   "cell_type": "markdown",
   "metadata": {},
   "source": [
    "### 5.1.9. Manipulación de datos de la lista\n",
    "Es posible que tenga que trabajar con distintas partes de una lista. Por ejemplo, suponga que tiene una lista con cantidades de precipitaciones durante varios meses. Para analizar correctamente este tipo de datos, es posible que tenga que buscar las precipitaciones en otoño o en un periodo de tres meses. También puede que quiera ordenar la lista de mayor a menor cantidad de precipitaciones.\n",
    "\n",
    "Python proporciona una compatibilidad sólida para trabajar con los datos de las listas. Esta compatibilidad incluye la segmentación de datos (examinando solo una parte) y la ordenación.\n",
    "\n",
    "\n"
   ]
  },
  {
   "attachments": {},
   "cell_type": "markdown",
   "metadata": {},
   "source": [
    "#### Segmentación de listas\n",
    "Puede recuperar una parte de una lista mediante una segmentación. Una segmentación usa corchetes, pero en lugar de un solo elemento, tiene los índices inicial y final. Cuando se usa una segmentación, se crea una lista que comienza en el índice inicial y termina antes del índice final (y no lo incluye).\n",
    "\n",
    "La lista de planetas tiene ocho elementos. La Tierra es el tercero de la lista. Para mostrar los planetas que hay antes de la Tierra, use una segmentación a fin de obtener los elementos que empiezan en 0 y terminan en 2:"
   ]
  },
  {
   "cell_type": "code",
   "execution_count": null,
   "metadata": {},
   "outputs": [],
   "source": [
    "planetas = [\"Mercurio\", \"Venus\", \"Tierra\", \"Marte\", \"Jupiter\", \"Saturno\", \"Urano\", \"Neptuno\"]\n",
    "planetas_antes_de_la_tierra = planetas[0:2]\n",
    "print(planetas_antes_de_la_tierra)"
   ]
  },
  {
   "attachments": {},
   "cell_type": "markdown",
   "metadata": {},
   "source": [
    "Observe cómo la Tierra no está incluida en la lista. El motivo es que el índice finaliza antes del índice final.\n",
    "\n",
    "Para obtener todos los planetas después de la Tierra, comience en el tercero y vaya hasta el octavo:"
   ]
  },
  {
   "cell_type": "code",
   "execution_count": null,
   "metadata": {},
   "outputs": [],
   "source": [
    "planetas_despues_de_la_tierra = planetas[3:8]\n",
    "print(planetas_despues_de_la_tierra) "
   ]
  },
  {
   "attachments": {},
   "cell_type": "markdown",
   "metadata": {},
   "source": [
    "En este ejemplo, se muestra Neptuno. La razón es que el índice de Neptuno es 7, porque la indexación comienza en 0. Dado que el índice final era 8, incluye el último valor. Si no coloca el índice de detención en la segmentación, Python asume que quiere ir al final de la lista:"
   ]
  },
  {
   "cell_type": "code",
   "execution_count": null,
   "metadata": {},
   "outputs": [],
   "source": [
    "planetas_despues_de_la_tierra = planetas[3:]\n",
    "print(planetas_despues_de_la_tierra)"
   ]
  },
  {
   "attachments": {},
   "cell_type": "markdown",
   "metadata": {},
   "source": [
    "> **Importante:** Una segmentación crea una lista nueva. No modifica la lista actual.\n"
   ]
  },
  {
   "attachments": {},
   "cell_type": "markdown",
   "metadata": {},
   "source": [
    "#### Combinación de listas\n",
    "Ha visto cómo puede usar segmentaciones para dividir listas, pero ¿qué sucede con unirlas de nuevo?\n",
    "\n",
    "Para unir dos listas, debe usar el otro operador (`+`) con dos listas para devolver una nueva.\n",
    "\n",
    "Hay 79 lunas conocidas de Júpiter. Las cuatro más grandes son Ío, Europa, Ganímedes y Calisto. Estas lunas se denominan lunas galileanas, ya que Galileo Galilei las descubrió con su telescopio en 1610. El grupo de Amaltea está más cerca de Júpiter que el grupo galileano. Consta de las lunas Metis, Adrastea, Amaltea y Tebe.\n",
    "\n",
    "Cree dos listas. Rellene la primera lista con las cuatro lunas de Amaltea y la segunda lista con las cuatro lunas galileanas. Únalas mediante `+` para crear una lista:"
   ]
  },
  {
   "cell_type": "code",
   "execution_count": null,
   "metadata": {},
   "outputs": [],
   "source": [
    "grupo_de_amaltea = [\"Metis\", \"Adrastea\", \"Amalthea\", \"Thebe\"]\n",
    "lunas_galileanas = [\"Io\", \"Europa\", \"Ganymedes\", \"Callisto\"]\n",
    "\n",
    "lunas_de_jupiter = grupo_de_amaltea + lunas_galileanas\n",
    "print(\"Las lunas más importantes de Júpiter son\", lunas_de_jupiter)"
   ]
  },
  {
   "attachments": {},
   "cell_type": "markdown",
   "metadata": {},
   "source": [
    "> **Importante:** La unión de listas crean una lista nueva. No modifica la lista actual."
   ]
  },
  {
   "attachments": {},
   "cell_type": "markdown",
   "metadata": {},
   "source": [
    "### 5.1.10. Ordenación de listas\n",
    "Para ordenar una lista, use el método `.sort()` de la lista. Python ordenará una lista de cadenas en orden alfabético y una lista de números en orden numérico:"
   ]
  },
  {
   "cell_type": "code",
   "execution_count": null,
   "metadata": {},
   "outputs": [],
   "source": [
    "lunas_de_jupiter.sort()\n",
    "print(\"Las lunas más importantes de Júpiter son\", lunas_de_jupiter)"
   ]
  },
  {
   "attachments": {},
   "cell_type": "markdown",
   "metadata": {},
   "source": [
    "Para ordenar una lista en orden inverso, llame a `.sort(reverse=True)` en la lista:"
   ]
  },
  {
   "cell_type": "code",
   "execution_count": null,
   "metadata": {},
   "outputs": [],
   "source": [
    "lunas_de_jupiter.sort(reverse=True)\n",
    "print(\"Las lunas más importantes de Júpiter son\", lunas_de_jupiter)"
   ]
  },
  {
   "attachments": {},
   "cell_type": "markdown",
   "metadata": {},
   "source": [
    "> **Importante:** El uso de sort modifica la lista actual."
   ]
  },
  {
   "attachments": {},
   "cell_type": "markdown",
   "metadata": {},
   "source": [
    "## 5.2. Diccionarios"
   ]
  },
  {
   "attachments": {},
   "cell_type": "markdown",
   "metadata": {},
   "source": [
    "### 5.2.1. Introducción a los diccionarios\n",
    "\n",
    "Las variables de Python pueden almacenar varios tipos de datos. Anteriormente, ha aprendido que puede almacenar cadenas y números:"
   ]
  },
  {
   "cell_type": "code",
   "execution_count": null,
   "metadata": {},
   "outputs": [],
   "source": [
    "nombre = 'Tierra'\n",
    "lunas = 1"
   ]
  },
  {
   "cell_type": "markdown",
   "metadata": {},
   "source": [
    "Aunque este método funciona para cantidades más pequeñas de datos, puede ser cada vez más complejo cuando se trabaja con datos relacionados. Imagine que quiere almacenar información sobre las lunas de la Tierra y la Luna."
   ]
  },
  {
   "cell_type": "code",
   "execution_count": null,
   "metadata": {},
   "outputs": [],
   "source": [
    "tierra_nombre = 'Tirra'\n",
    "tierra_lunas = 1\n",
    "\n",
    "jupiter_nombre = 'Jupiter'\n",
    "jupiter_lunas = 79"
   ]
  },
  {
   "attachments": {},
   "cell_type": "markdown",
   "metadata": {},
   "source": [
    "Observe cómo se duplican las variables con prefijos diferentes. Esta duplicación puede resultar difícil de manejar. Como con frecuencia tendrá que trabajar con conjuntos de datos relacionados, como el promedio de precipitaciones durante varios meses en distintas ciudades, almacenar estas variables como valores individuales no es una opción viable. Alternativamente, puede usar diccionarios de Python.\n",
    "\n",
    "Los diccionarios de Python permiten trabajar con conjuntos de datos relacionados. Un diccionario es una colección de pares clave-valor. Piense que es como un grupo de variables dentro de un contenedor, donde la clave es el nombre de la variable y el valor es el valor almacenado en su interior."
   ]
  },
  {
   "attachments": {},
   "cell_type": "markdown",
   "metadata": {},
   "source": [
    "### 5.2.2. Creación de un diccionario\n",
    "Python usa llaves (`{ }`) y dos puntos (`:`) para indicar un diccionario. Puede crear un diccionario vacío y agregar valores más adelante, o bien rellenarlo en el momento de la creación. Cada clave o valor está separado por dos puntos y el nombre de cada clave se incluye entre comillas como un literal de cadena. Como la clave es un literal de cadena, puede usar el nombre que sea adecuado para describir el valor.\n",
    "\n",
    "Ahora se creará un diccionario para almacenar el nombre del planeta Tierra y el número de lunas que tiene:"
   ]
  },
  {
   "cell_type": "code",
   "execution_count": null,
   "metadata": {},
   "outputs": [],
   "source": [
    "planeta = {\n",
    "    'nombre': 'Tierra',\n",
    "    'lunas': 1\n",
    "}"
   ]
  },
  {
   "attachments": {},
   "cell_type": "markdown",
   "metadata": {},
   "source": [
    "Tiene dos claves, `'nombre'` y `'lunas'`. Cada clave se comporta igual que una variable: tienen un nombre único y almacenan un valor. Pero se incluyen dentro de una única variable más grande, denominada planet.\n",
    "\n",
    "Como sucede con las variables convencionales, debe asegurarse de que usa los tipos de datos correctos. En el valor moons de 1 en el ejemplo anterior, no se han incluido comillas alrededor del número, porque se quiere usar un entero. Si hubiera usado `'1'`, Python vería esta variable como una cadena, lo que afectaría a la capacidad de realizar cálculos.\n",
    "\n",
    "A diferencia de las variables convencionales, los nombres de clave no necesitan seguir las reglas de nomenclatura estándar para Python. Puede usar nombre clave para que sea más descriptivo en el código."
   ]
  },
  {
   "attachments": {},
   "cell_type": "markdown",
   "metadata": {},
   "source": [
    "### 5.2.3. Lectura de valores de diccionario\n",
    "Puede leer valores dentro de un diccionario. Los objetos de diccionario tienen un método get que puede usar para acceder a un valor mediante su clave. Si quiere imprimir name, puede usar el código siguiente:\n"
   ]
  },
  {
   "cell_type": "code",
   "execution_count": null,
   "metadata": {},
   "outputs": [],
   "source": [
    "print(planeta.get('nombre'))"
   ]
  },
  {
   "cell_type": "markdown",
   "metadata": {},
   "source": [
    "Como podría sospechar, el acceso a los valores de un diccionario es una operación común. Afortunadamente, hay un acceso directo. También puede pasar la clave entre corchetes (`[ ]`). Este método usa menos código que get y la mayoría de los programadores utilizan esta sintaxis en su lugar. Puede volver a escribir el ejemplo anterior mediante lo siguiente:\n"
   ]
  },
  {
   "cell_type": "code",
   "execution_count": null,
   "metadata": {},
   "outputs": [],
   "source": [
    "# planeta['nombre'] es idéntico a sar planeta.get('nombre')\n",
    "print(planeta['name'])"
   ]
  },
  {
   "cell_type": "markdown",
   "metadata": {},
   "source": [
    "Aunque el comportamiento de get y los corchetes (`[ ]`) suele ser el mismo para recuperar elementos, hay una diferencia principal. Si una clave no está disponible, get devuelve None y `[ ]` genera un error `KeyError`.\n"
   ]
  },
  {
   "cell_type": "code",
   "execution_count": null,
   "metadata": {},
   "outputs": [],
   "source": [
    "wibble = planeta.get('wibble') # regresa None\n",
    "wibble = planeta['wibble'] # Lanza KeyError"
   ]
  },
  {
   "attachments": {},
   "cell_type": "markdown",
   "metadata": {},
   "source": [
    "### 5.2.4. Modificación de valores de diccionario\n",
    "También puede modificar valores dentro de un objeto de diccionario, con el método `update()`. Este método acepta un diccionario como parámetro y actualiza los valores existentes con los nuevos que proporcione. Si quiere cambiar `nombre` para el diccionario planet, puede usar lo siguiente, por ejemplo:\n"
   ]
  },
  {
   "cell_type": "code",
   "execution_count": null,
   "metadata": {},
   "outputs": [],
   "source": [
    "planeta.update({'nombre': 'Makemake'})"
   ]
  },
  {
   "cell_type": "markdown",
   "metadata": {},
   "source": [
    "Al igual que se usa el acceso directo de corchetes (`[ ]`) para leer valores, se puede utilizar para modificar valores. La principal diferencia en la sintaxis es que se usa `=` (a veces denominado operador de asignación) para proporcionar un nuevo valor. Para volver a escribir el ejemplo anterior y cambiar el nombre, puede usar lo siguiente:\n"
   ]
  },
  {
   "cell_type": "code",
   "execution_count": null,
   "metadata": {},
   "outputs": [],
   "source": [
    "planeta['nombre'] = 'Makemake'"
   ]
  },
  {
   "attachments": {},
   "cell_type": "markdown",
   "metadata": {},
   "source": [
    "La principal ventaja de usar `update()` es la capacidad de modificar varios valores en una operación. Los dos ejemplos siguientes son lógicamente los mismos, pero la sintaxis es diferente. Puede usar la sintaxis que crea más adecuada. La mayoría de los desarrolladores eligen corchetes para actualizar valores individuales.\n",
    "\n",
    "En el ejemplo siguiente se hacen las mismas modificaciones en la variable planet y se actualizan el nombre y las lunas. Tenga en cuenta que al usar `update()` realiza una sola llamada a la función, mientras que el uso de corchetes implica dos llamadas."
   ]
  },
  {
   "cell_type": "code",
   "execution_count": null,
   "metadata": {},
   "outputs": [],
   "source": [
    "# Using update\n",
    "planeta.update({\n",
    "    'nombre': 'Jupiter',\n",
    "    'lunas': 79\n",
    "})\n",
    "\n",
    "# Using square brackets\n",
    "planeta['nombre'] = 'Jupiter'\n",
    "planeta['lunas'] = 79"
   ]
  },
  {
   "attachments": {},
   "cell_type": "markdown",
   "metadata": {},
   "source": [
    "### 5.2.5. Adición y eliminación de claves\n",
    "No es necesario crear todas las claves al inicializar un diccionario. De hecho, no es necesario crear ninguna. Siempre que quiera crear una clave, asígnela como haría con una existente.\n",
    "\n",
    "Imagine que quiere actualizar planet para incluir el período orbital en días:"
   ]
  },
  {
   "cell_type": "code",
   "execution_count": null,
   "metadata": {},
   "outputs": [],
   "source": [
    "planeta['periodo orbital'] = 4333\n",
    "\n",
    "# el diccionario planeta ahora tiene: {\n",
    "#   nombre: 'jupiter'\n",
    "#   lunas: 79\n",
    "#   periodo orbital: 4333\n",
    "# }"
   ]
  },
  {
   "cell_type": "markdown",
   "metadata": {},
   "source": [
    "> **Importante:** Los nombres de clave, como todo lo demás en Python, distinguen mayúsculas de minúsculas. Como resultado, 'name' y 'Name' se consideran dos claves independientes en un diccionario de Python.\n",
    "\n",
    "Para quitar una clave, use pop. pop devuelve el valor y quita la clave del diccionario. Para quitar orbital period, puede usar el código siguiente:"
   ]
  },
  {
   "cell_type": "code",
   "execution_count": null,
   "metadata": {},
   "outputs": [],
   "source": [
    "planeta.pop('orbital period')\n",
    "\n",
    "# el diccionario planeta ahora tiene: {\n",
    "#   nombre: 'jupiter'\n",
    "#   lunas: 79\n",
    "# }"
   ]
  },
  {
   "attachments": {},
   "cell_type": "markdown",
   "metadata": {},
   "source": [
    "### 5.2.6. Tipos de datos complejos\n",
    "Los diccionarios pueden almacenar cualquier tipo de valor, incluidos otros diccionarios. Esto le permite modelar datos complejos según sea necesario. Imagine que tiene que almacenar el diámetro de planet, que se podría medir alrededor de su ecuador o los polos. Puede crear otro diccionario dentro de planet para almacenar esta información:\n"
   ]
  },
  {
   "cell_type": "code",
   "execution_count": null,
   "metadata": {},
   "outputs": [],
   "source": [
    "# Add address\n",
    "planeta['diámetro (km)'] = {\n",
    "    'polar': 133709,\n",
    "    'ecuatorial': 142984\n",
    "}\n",
    "\n",
    "# el diccionario planeta ahora tiene: {\n",
    "#   nombre: 'Jupiter'\n",
    "#   lunas: 79\n",
    "#   diametro (km): {\n",
    "#      polar: 133709\n",
    "#      ecuatorial: 142984\n",
    "#   }\n",
    "# }"
   ]
  },
  {
   "cell_type": "markdown",
   "metadata": {},
   "source": [
    "Para recuperar valores en un diccionario anidado, debe encadenar corchetes o llamadas a `get`."
   ]
  },
  {
   "cell_type": "code",
   "execution_count": null,
   "metadata": {},
   "outputs": [],
   "source": [
    "print(f'{planeta[\"nombre\"]} diámetro polar: {planeta[\"diametro (km)\"][\"polar\"]}')"
   ]
  },
  {
   "attachments": {},
   "cell_type": "markdown",
   "metadata": {},
   "source": [
    "### 5.2.7. Programación dinámica con diccionarios\n",
    "En el programa, quiere realizar varios cálculos, como el del número total de lunas. Además, a medida que progrese en programación más avanzada, es posible que compruebe que carga este tipo de información desde archivos o una base de datos, en lugar de programar directamente en Python.\n",
    "\n",
    "Para ayudar a admitir estos escenarios, Python le permite tratar las claves y los valores dentro de un diccionario como una lista. Puede determinar de manera dinámica las claves y los valores, y realizar varios cálculos.\n",
    "\n",
    "Imagine un diccionario en el que se almacenan cantidades mensuales de precipitaciones. Es probable que tenga claves para cada mes y las precipitaciones asociadas. Quiere sumar el total de precipitaciones y escribir el código para realizar la operación mediante cada clave individual sería bastante tedioso.\n",
    "\n",
    "Recuperación de todas las claves y valores\n",
    "El método `keys()` devuelve un objeto de lista que contiene todas las claves. Puede usar este método para iterar por todos los elementos del diccionario.\n",
    "\n",
    "Imagine que tiene el siguiente diccionario, en el que se almacenan los últimos tres meses de precipitaciones.\n"
   ]
  },
  {
   "cell_type": "code",
   "execution_count": null,
   "metadata": {},
   "outputs": [],
   "source": [
    "precipitaciones = {\n",
    "    'octubre': 3.5,\n",
    "    'noviembre': 4.2,\n",
    "    'diciembre': 2.1\n",
    "}"
   ]
  },
  {
   "cell_type": "markdown",
   "metadata": {},
   "source": [
    "Imagine que quiere mostrar la lista de todas las precipitaciones. Puede escribir el nombre de cada mes, pero resultará tedioso."
   ]
  },
  {
   "cell_type": "code",
   "execution_count": null,
   "metadata": {},
   "outputs": [],
   "source": [
    "for key in precipitaciones.keys():\n",
    "    print(f'{key}: {precipitaciones[key]}cm')"
   ]
  },
  {
   "attachments": {},
   "cell_type": "markdown",
   "metadata": {},
   "source": [
    "> **Nota:** Todavía puede usar corchetes (`[ ]`) con un nombre de variable, en lugar del literal de cadena codificado de forma rígida.\n",
    "\n"
   ]
  },
  {
   "attachments": {},
   "cell_type": "markdown",
   "metadata": {},
   "source": [
    "### 5.2.8. Determinación de la existencia de una clave en un diccionario\n",
    "Al actualizar un valor en un diccionario, Python sobrescribirá el valor existente o creará uno, si la clave no existe. Si quiere agregar a un valor en lugar de sobrescribirlo, puede comprobar si la clave existe mediante in. Por ejemplo, si quiere agregar un valor a diciembre o crear uno si no existe, puede usar lo siguiente:"
   ]
  },
  {
   "cell_type": "code",
   "execution_count": null,
   "metadata": {},
   "outputs": [],
   "source": [
    "if 'diciembre' in precipitaciones:\n",
    "    precipitaciones['diciembre'] = precipitaciones['diciembre'] + 1\n",
    "else:\n",
    "    precipitaciones['diciembre'] = 1"
   ]
  },
  {
   "attachments": {},
   "cell_type": "markdown",
   "metadata": {},
   "source": [
    "### 5.2.9. Recuperación de todos los valores\n",
    "De forma similar a `keys()`, `values()` devuelve la lista de todos los valores de un diccionario sin sus claves correspondientes. `values()` puede resultar útil cuando se usa la clave con fines de etiquetado, como en el ejemplo anterior, en el que las claves son el nombre del mes. Puede usar para `values()` determinar el importe total de las precipitaciones:\n"
   ]
  },
  {
   "cell_type": "code",
   "execution_count": null,
   "metadata": {},
   "outputs": [],
   "source": [
    "total_precipitaciones = 0\n",
    "for value in precipitaciones.values():\n",
    "    total_precipitaciones = total_precipitaciones + value\n",
    "\n",
    "print(f'Cayeron {total_precipitaciones}cm de agua en el último cuarto del año.')"
   ]
  },
  {
   "attachments": {},
   "cell_type": "markdown",
   "metadata": {},
   "source": [
    "## 5.3. Ejercicios con listas y diccionarios"
   ]
  },
  {
   "attachments": {},
   "cell_type": "markdown",
   "metadata": {},
   "source": [
    "### 5.3.1. Crear una agenda\n",
    "\n",
    "Crear una agenda telefónica en la que se puedan guardar el nombre, teléfonos y correo electrónico de múltiples contactos."
   ]
  },
  {
   "attachments": {},
   "cell_type": "markdown",
   "metadata": {},
   "source": [
    "Conceptualicemos cómo estructurar los datos:\n",
    "\n",
    "* Los datos de cada contacto estarán guardados en un diccionario\n",
    "* La agenda es una lista de contactos\n",
    "\n",
    "Entonces, la definición de un contacto sería como sigue:"
   ]
  },
  {
   "cell_type": "code",
   "execution_count": 1,
   "metadata": {},
   "outputs": [],
   "source": [
    "contacto = {\n",
    "    'nombre': 'Juan',\n",
    "    'apellido': 'Pérez',\n",
    "    'teléfono': '555-555-5555',\n",
    "    'correo electrónico': 'juan.perez@mail.com',\n",
    "}"
   ]
  },
  {
   "attachments": {},
   "cell_type": "markdown",
   "metadata": {},
   "source": [
    "Y como se ha dicho, la agenda sería una lista de contactos:"
   ]
  },
  {
   "cell_type": "code",
   "execution_count": 2,
   "metadata": {},
   "outputs": [
    {
     "name": "stdout",
     "output_type": "stream",
     "text": [
      "[{'nombre': 'Juan', 'apellido': 'Pérez', 'teléfono': '555-555-5555', 'correo electrónico': 'juan.perez@mail.com'}]\n"
     ]
    }
   ],
   "source": [
    "agenda = []\n",
    "agenda.append(contacto)\n",
    "print(agenda)"
   ]
  },
  {
   "attachments": {},
   "cell_type": "markdown",
   "metadata": {},
   "source": [
    "Ahora, escribimos una función para crear un contacto:"
   ]
  },
  {
   "cell_type": "code",
   "execution_count": 3,
   "metadata": {},
   "outputs": [
    {
     "name": "stdout",
     "output_type": "stream",
     "text": [
      "[{'nombre': 'Juan', 'apellido': 'Pérez', 'teléfono': '555-555-5555', 'correo electrónico': 'juan.perez@mail.com'}, {'nombre': 'María', 'apellido': 'González', 'teléfono': '555-555-5556', 'correo electrónico': 'maria.gonzalez@mail.com'}, {'nombre': 'Pedro', 'apellido': 'Martínez', 'teléfono': '555-555-5557', 'correo electrónico': 'pedro@ipn.mx'}]\n"
     ]
    }
   ],
   "source": [
    "def crearContacto(nombre, apellido, telefono, email):\n",
    "    return {\n",
    "        'nombre': nombre,\n",
    "        'apellido': apellido,\n",
    "        'teléfono': telefono,\n",
    "        'correo electrónico': email\n",
    "    }\n",
    "\n",
    "agenda = []\n",
    "agenda.append(crearContacto('Juan', 'Pérez', '555-555-5555', 'juan.perez@mail.com'))\n",
    "agenda.append(crearContacto('María', 'González', '555-555-5556', 'maria.gonzalez@mail.com'))\n",
    "agenda.append(crearContacto('Pedro', 'Martínez', '555-555-5557', 'pedro@ipn.mx'))\n",
    "\n",
    "print(agenda)"
   ]
  },
  {
   "attachments": {},
   "cell_type": "markdown",
   "metadata": {},
   "source": [
    "Una función para mostrar un contacto:"
   ]
  },
  {
   "cell_type": "code",
   "execution_count": 20,
   "metadata": {},
   "outputs": [],
   "source": [
    "def printContacto(contacto):\n",
    "    print(f'Nombre: {contacto[\"nombre\"]}')\n",
    "    print(f'Apellido: {contacto[\"apellido\"]}')\n",
    "    print(f'Teléfono: {contacto[\"teléfono\"]}')\n",
    "    print(f'Correo electrónico: {contacto[\"correo electrónico\"]}')"
   ]
  },
  {
   "attachments": {},
   "cell_type": "markdown",
   "metadata": {},
   "source": [
    "Y la utilizamos para cada contacto en la agenda."
   ]
  },
  {
   "cell_type": "code",
   "execution_count": null,
   "metadata": {},
   "outputs": [],
   "source": [
    "for contacto in agenda:\n",
    "    printContacto(contacto)\n",
    "    print('')"
   ]
  },
  {
   "attachments": {},
   "cell_type": "markdown",
   "metadata": {},
   "source": [
    "Ahora bien, podemos escribir una función más general que utiliza el nombre de la llave como etiqueta. De esta forma la agenda puede tener cualquier número y tipo de valores."
   ]
  },
  {
   "cell_type": "code",
   "execution_count": 22,
   "metadata": {},
   "outputs": [
    {
     "name": "stdout",
     "output_type": "stream",
     "text": [
      "nombre: Juan\n",
      "apellido: Pérez\n",
      "teléfono: 555-555-5555\n",
      "correo electrónico: juan.perez@mail.com\n",
      "\n",
      "nombre: María\n",
      "apellido: González\n",
      "teléfono: 555-555-5556\n",
      "correo electrónico: maria.gonzalez@mail.com\n",
      "\n",
      "nombre: Pedro\n",
      "apellido: Martínez\n",
      "teléfono: 555-555-5557\n",
      "correo electrónico: pedro@ipn.mx\n",
      "\n",
      "nombre: Juan\n",
      "apellido: Robles\n",
      "teléfono: 555-555-5555\n",
      "correo electrónico: jrobles@cic.ipn.mx\n",
      "\n",
      "nombre: Juan\n",
      "apellido: Pérez\n",
      "teléfono: 555-555-5555\n",
      "correo electrónico: \n",
      "dirección: {'calle': 'Av. Universidad', 'número': 2500, 'colonia': 'Ciudad Universitaria', 'código postal': '04510', 'alcaldia': 'Tlalpan', 'estado': 'Ciudad de México', 'país': 'México'}\n",
      "\n"
     ]
    }
   ],
   "source": [
    "def printContacto(contacto):\n",
    "    for key in contacto.keys():\n",
    "        print(f'{key}: {contacto[key]}')\n",
    "\n",
    "for contacto in agenda:\n",
    "    printContacto(contacto)\n",
    "    print('')"
   ]
  },
  {
   "cell_type": "code",
   "execution_count": 6,
   "metadata": {},
   "outputs": [
    {
     "name": "stdout",
     "output_type": "stream",
     "text": [
      "nombre: Juan\n",
      "apellido: Pérez\n",
      "teléfono: 555-555-5555\n",
      "correo electrónico: juan.perez@mail.com\n",
      "\n",
      "nombre: María\n",
      "apellido: González\n",
      "teléfono: 555-555-5556\n",
      "correo electrónico: maria.gonzalez@mail.com\n",
      "\n",
      "nombre: Pedro\n",
      "apellido: Martínez\n",
      "teléfono: 555-555-5557\n",
      "correo electrónico: pedro@ipn.mx\n",
      "\n"
     ]
    }
   ],
   "source": [
    "def printAgenda(agenda):\n",
    "    for contacto in agenda:\n",
    "        printContacto(contacto)\n",
    "        print('')\n",
    "\n",
    "printAgenda(agenda)"
   ]
  },
  {
   "attachments": {},
   "cell_type": "markdown",
   "metadata": {},
   "source": [
    "Ahora para buscar contactos podemos buscar el valor en la lista. Sin embargo, deberíamos saber todos los valores del contacto."
   ]
  },
  {
   "cell_type": "code",
   "execution_count": 7,
   "metadata": {},
   "outputs": [
    {
     "name": "stdout",
     "output_type": "stream",
     "text": [
      "nombre: Juan\n",
      "apellido: Pérez\n",
      "teléfono: 555-555-5555\n",
      "correo electrónico: juan.perez@mail.com\n"
     ]
    }
   ],
   "source": [
    "juan = crearContacto('Juan', 'Pérez', '555-555-5555', 'juan.perez@mail.com')\n",
    "con = agenda.index(juan)\n",
    "\n",
    "printContacto(agenda[con])"
   ]
  },
  {
   "attachments": {},
   "cell_type": "markdown",
   "metadata": {},
   "source": [
    "Función para buscar el contacto sólo por su nombre completo."
   ]
  },
  {
   "cell_type": "code",
   "execution_count": 8,
   "metadata": {},
   "outputs": [
    {
     "name": "stdout",
     "output_type": "stream",
     "text": [
      "nombre: Pedro\n",
      "apellido: Martínez\n",
      "teléfono: 555-555-5557\n",
      "correo electrónico: pedro@ipn.mx\n"
     ]
    }
   ],
   "source": [
    "def buscarContacto(agenda, nombre, apellido):\n",
    "    for contacto in agenda:\n",
    "        if contacto['nombre'] == nombre and contacto['apellido'] == apellido:\n",
    "            return contacto\n",
    "    return None\n",
    "\n",
    "pedro = buscarContacto(agenda, 'Pedro', 'Martínez')\n",
    "printContacto(pedro)"
   ]
  },
  {
   "attachments": {},
   "cell_type": "markdown",
   "metadata": {},
   "source": [
    "Buscar contacto con múltiples coincidencias."
   ]
  },
  {
   "cell_type": "code",
   "execution_count": 9,
   "metadata": {},
   "outputs": [],
   "source": [
    "agenda.append(crearContacto('Juan', 'Robles', '555-555-5555', 'jrobles@cic.ipn.mx'))"
   ]
  },
  {
   "cell_type": "code",
   "execution_count": 10,
   "metadata": {},
   "outputs": [
    {
     "name": "stdout",
     "output_type": "stream",
     "text": [
      "nombre: Juan\n",
      "apellido: Pérez\n",
      "teléfono: 555-555-5555\n",
      "correo electrónico: juan.perez@mail.com\n",
      "\n",
      "nombre: Juan\n",
      "apellido: Robles\n",
      "teléfono: 555-555-5555\n",
      "correo electrónico: jrobles@cic.ipn.mx\n",
      "\n"
     ]
    }
   ],
   "source": [
    "def buscarContactoPorNombre(agenda, nombre):\n",
    "    ret = []\n",
    "    for contacto in agenda:\n",
    "        if contacto['nombre'] == nombre:\n",
    "            ret.append(contacto)\n",
    "    return ret\n",
    "\n",
    "juanes = buscarContactoPorNombre(agenda, 'Juan')\n",
    "printAgenda(juanes)"
   ]
  },
  {
   "attachments": {},
   "cell_type": "markdown",
   "metadata": {},
   "source": [
    "Se pueden utilizar diccionarios como campos, por ejemplo una dirección:"
   ]
  },
  {
   "cell_type": "code",
   "execution_count": 11,
   "metadata": {},
   "outputs": [
    {
     "name": "stdout",
     "output_type": "stream",
     "text": [
      "nombre: Juan\n",
      "apellido: Pérez\n",
      "teléfono: 555-555-5555\n",
      "correo electrónico: \n",
      "dirección: {'calle': 'Av. Universidad', 'número': 2500, 'colonia': 'Ciudad Universitaria', 'código postal': '04510', 'alcaldia': 'Tlalpan', 'estado': 'Ciudad de México', 'país': 'México'}\n"
     ]
    }
   ],
   "source": [
    "contacto = {\n",
    "    'nombre': 'Juan',\n",
    "    'apellido': 'Pérez',\n",
    "    'teléfono': '555-555-5555',\n",
    "    'correo electrónico': '',\n",
    "    'dirección': {\n",
    "        'calle': 'Av. Universidad',\n",
    "        'número': 2500,\n",
    "        'colonia': 'Ciudad Universitaria',\n",
    "        'código postal': '04510',\n",
    "        'alcaldia': 'Tlalpan',\n",
    "        'estado': 'Ciudad de México',\n",
    "        'país': 'México'\n",
    "    }\n",
    "}\n",
    "\n",
    "printContacto(contacto)"
   ]
  },
  {
   "cell_type": "code",
   "execution_count": 12,
   "metadata": {},
   "outputs": [
    {
     "name": "stdout",
     "output_type": "stream",
     "text": [
      "nombre: Juan\n",
      "apellido: Pérez\n",
      "teléfono: 555-555-5555\n",
      "correo electrónico: \n",
      "dirección:\n",
      "    calle: Av. Universidad\n",
      "    número: 2500\n",
      "    colonia: Ciudad Universitaria\n",
      "    código postal: 04510\n",
      "    alcaldia: Tlalpan\n",
      "    estado: Ciudad de México\n",
      "    país: México\n"
     ]
    }
   ],
   "source": [
    "def printContacto(contacto):\n",
    "    for key in contacto.keys():\n",
    "        if key == 'dirección':\n",
    "            print(f'{key}:')\n",
    "            printDireccion(contacto[key])\n",
    "        else:\n",
    "            print(f'{key}: {contacto[key]}')\n",
    "\n",
    "def printDireccion(direccion):\n",
    "    for key in direccion.keys():\n",
    "        print(f'    {key}: {direccion[key]}')\n",
    "\n",
    "printContacto(contacto)"
   ]
  },
  {
   "cell_type": "code",
   "execution_count": 13,
   "metadata": {},
   "outputs": [
    {
     "name": "stdout",
     "output_type": "stream",
     "text": [
      "nombre: Juan\n",
      "apellido: Pérez\n",
      "teléfono: 555-555-5555\n",
      "correo electrónico: juan.perez@mail.com\n",
      "\n",
      "nombre: María\n",
      "apellido: González\n",
      "teléfono: 555-555-5556\n",
      "correo electrónico: maria.gonzalez@mail.com\n",
      "\n",
      "nombre: Pedro\n",
      "apellido: Martínez\n",
      "teléfono: 555-555-5557\n",
      "correo electrónico: pedro@ipn.mx\n",
      "\n",
      "nombre: Juan\n",
      "apellido: Robles\n",
      "teléfono: 555-555-5555\n",
      "correo electrónico: jrobles@cic.ipn.mx\n",
      "\n",
      "nombre: Juan\n",
      "apellido: Pérez\n",
      "teléfono: 555-555-5555\n",
      "correo electrónico: \n",
      "dirección:\n",
      "    calle: Av. Universidad\n",
      "    número: 2500\n",
      "    colonia: Ciudad Universitaria\n",
      "    código postal: 04510\n",
      "    alcaldia: Tlalpan\n",
      "    estado: Ciudad de México\n",
      "    país: México\n",
      "\n"
     ]
    }
   ],
   "source": [
    "agenda.append(contacto)\n",
    "\n",
    "printAgenda(agenda)"
   ]
  },
  {
   "cell_type": "code",
   "execution_count": 14,
   "metadata": {},
   "outputs": [
    {
     "name": "stdout",
     "output_type": "stream",
     "text": [
      "Nombre\tApellido\tTeléfono\tCorreo electrónico\n",
      "Juan\tPérez     \t555-555-5555\tjuan.perez@mail.com\n",
      "María\tGonzález  \t555-555-5556\tmaria.gonzalez@mail.com\n",
      "Pedro\tMartínez  \t555-555-5557\tpedro@ipn.mx\n",
      "Juan\tRobles    \t555-555-5555\tjrobles@cic.ipn.mx\n",
      "Juan\tPérez     \t555-555-5555\t\n"
     ]
    }
   ],
   "source": [
    "def printAgendaComoTabla(agenda):\n",
    "    print('Nombre\\tApellido\\tTeléfono\\tCorreo electrónico')\n",
    "    for contacto in agenda:\n",
    "        print(f'{contacto[\"nombre\"]}\\t{contacto[\"apellido\"]:<10}\\t{contacto[\"teléfono\"]}\\t{contacto[\"correo electrónico\"]}')\n",
    "\n",
    "printAgendaComoTabla(agenda)"
   ]
  },
  {
   "cell_type": "code",
   "execution_count": 15,
   "metadata": {},
   "outputs": [
    {
     "name": "stdout",
     "output_type": "stream",
     "text": [
      "Nombre\tApellido\tTeléfono\tCorreo electrónico\tDirección\n",
      "Juan\tPérez     \t555-555-5555\tjuan.perez@mail.com\t\n",
      "María\tGonzález  \t555-555-5556\tmaria.gonzalez@mail.com\t\n",
      "Pedro\tMartínez  \t555-555-5557\tpedro@ipn.mx\t\n",
      "Juan\tRobles    \t555-555-5555\tjrobles@cic.ipn.mx\t\n",
      "Juan\tPérez     \t555-555-5555\t\tAv. Universidad 2500, Ciudad Universitaria, Tlalpan, Ciudad de México, México\n"
     ]
    }
   ],
   "source": [
    "def printDireccionParaTabla(direccion):\n",
    "    print(f'{direccion[\"calle\"]} {direccion[\"número\"]}, {direccion[\"colonia\"]}, {direccion[\"alcaldia\"]}, {direccion[\"estado\"]}, {direccion[\"país\"]}')\n",
    "\n",
    "def printAgendaComoTabla(agenda):\n",
    "    print('Nombre\\tApellido\\tTeléfono\\tCorreo electrónico\\tDirección')\n",
    "    for contacto in agenda:\n",
    "        print(f'{contacto[\"nombre\"]}\\t{contacto[\"apellido\"]:<10}\\t{contacto[\"teléfono\"]}\\t{contacto[\"correo electrónico\"]}\\t', end='')\n",
    "        if 'dirección' in contacto:\n",
    "            printDireccionParaTabla(contacto['dirección'])\n",
    "        else:\n",
    "            print('')\n",
    "\n",
    "printAgendaComoTabla(agenda)"
   ]
  },
  {
   "attachments": {},
   "cell_type": "markdown",
   "metadata": {},
   "source": [
    "Guardar agenda en un archico JSON."
   ]
  },
  {
   "cell_type": "code",
   "execution_count": 17,
   "metadata": {},
   "outputs": [],
   "source": [
    "import json\n",
    "\n",
    "with open('agenda.json', 'w') as f:\n",
    "    json.dump(agenda, f, indent=4)"
   ]
  },
  {
   "attachments": {},
   "cell_type": "markdown",
   "metadata": {},
   "source": [
    "Leer agenda desde el archivo JSON."
   ]
  },
  {
   "cell_type": "code",
   "execution_count": 18,
   "metadata": {},
   "outputs": [],
   "source": [
    "with open('agenda.json', 'r') as f:\n",
    "    agendaLeida = json.load(f)"
   ]
  },
  {
   "cell_type": "code",
   "execution_count": 19,
   "metadata": {},
   "outputs": [
    {
     "name": "stdout",
     "output_type": "stream",
     "text": [
      "nombre: Juan\n",
      "apellido: Pérez\n",
      "teléfono: 555-555-5555\n",
      "correo electrónico: juan.perez@mail.com\n",
      "\n",
      "nombre: María\n",
      "apellido: González\n",
      "teléfono: 555-555-5556\n",
      "correo electrónico: maria.gonzalez@mail.com\n",
      "\n",
      "nombre: Pedro\n",
      "apellido: Martínez\n",
      "teléfono: 555-555-5557\n",
      "correo electrónico: pedro@ipn.mx\n",
      "\n",
      "nombre: Juan\n",
      "apellido: Robles\n",
      "teléfono: 555-555-5555\n",
      "correo electrónico: jrobles@cic.ipn.mx\n",
      "\n",
      "nombre: Juan\n",
      "apellido: Pérez\n",
      "teléfono: 555-555-5555\n",
      "correo electrónico: \n",
      "dirección:\n",
      "    calle: Av. Universidad\n",
      "    número: 2500\n",
      "    colonia: Ciudad Universitaria\n",
      "    código postal: 04510\n",
      "    alcaldia: Tlalpan\n",
      "    estado: Ciudad de México\n",
      "    país: México\n",
      "\n"
     ]
    }
   ],
   "source": [
    "printAgenda(agendaLeida)"
   ]
  },
  {
   "cell_type": "code",
   "execution_count": null,
   "metadata": {},
   "outputs": [],
   "source": []
  }
 ],
 "metadata": {
  "kernelspec": {
   "display_name": "cursoMS",
   "language": "python",
   "name": "python3"
  },
  "language_info": {
   "codemirror_mode": {
    "name": "ipython",
    "version": 3
   },
   "file_extension": ".py",
   "mimetype": "text/x-python",
   "name": "python",
   "nbconvert_exporter": "python",
   "pygments_lexer": "ipython3",
   "version": "3.11.2"
  },
  "orig_nbformat": 4
 },
 "nbformat": 4,
 "nbformat_minor": 2
}
