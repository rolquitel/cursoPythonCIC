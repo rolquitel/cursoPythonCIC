{
 "cells": [
  {
   "attachments": {},
   "cell_type": "markdown",
   "metadata": {},
   "source": [
    "# Diccionarios\n",
    "\n",
    "## Introducción a los diccionarios\n",
    "\n",
    "Las variables de Python pueden almacenar varios tipos de datos. Anteriormente, ha aprendido que puede almacenar cadenas y números:"
   ]
  },
  {
   "cell_type": "code",
   "execution_count": null,
   "metadata": {},
   "outputs": [],
   "source": [
    "name = 'Earth'\n",
    "moons = 1"
   ]
  },
  {
   "attachments": {},
   "cell_type": "markdown",
   "metadata": {},
   "source": [
    "Aunque este método funciona para cantidades más pequeñas de datos, puede ser cada vez más complejo cuando se trabaja con datos relacionados. Imagine que quiere almacenar información sobre las lunas de la Tierra y la Luna."
   ]
  },
  {
   "cell_type": "code",
   "execution_count": null,
   "metadata": {},
   "outputs": [],
   "source": [
    "earth_name = 'Earth'\n",
    "earth_moons = 1\n",
    "\n",
    "jupiter_name = 'Jupiter'\n",
    "jupiter_moons = 79"
   ]
  },
  {
   "attachments": {},
   "cell_type": "markdown",
   "metadata": {},
   "source": [
    "Observe cómo se duplican las variables con prefijos diferentes. Esta duplicación puede resultar difícil de manejar. Como con frecuencia tendrá que trabajar con conjuntos de datos relacionados, como el promedio de precipitaciones durante varios meses en distintas ciudades, almacenar estas variables como valores individuales no es una opción viable. Alternativamente, puede usar diccionarios de Python.\n",
    "\n",
    "Los diccionarios de Python permiten trabajar con conjuntos de datos relacionados. Un diccionario es una colección de pares clave-valor. Piense que es como un grupo de variables dentro de un contenedor, donde la clave es el nombre de la variable y el valor es el valor almacenado en su interior.\n",
    "\n",
    "### Creación de un diccionario\n",
    "Python usa llaves (`{ }`) y dos puntos (`:`) para indicar un diccionario. Puede crear un diccionario vacío y agregar valores más adelante, o bien rellenarlo en el momento de la creación. Cada clave o valor está separado por dos puntos y el nombre de cada clave se incluye entre comillas como un literal de cadena. Como la clave es un literal de cadena, puede usar el nombre que sea adecuado para describir el valor.\n",
    "\n",
    "Ahora se creará un diccionario para almacenar el nombre del planeta Tierra y el número de lunas que tiene:"
   ]
  },
  {
   "cell_type": "code",
   "execution_count": null,
   "metadata": {},
   "outputs": [],
   "source": [
    "planet = {\n",
    "    'name': 'Earth',\n",
    "    'moons': 1\n",
    "}"
   ]
  },
  {
   "attachments": {},
   "cell_type": "markdown",
   "metadata": {},
   "source": [
    "Tiene dos claves, `'name'` y `'moons'`. Cada clave se comporta igual que una variable: tienen un nombre único y almacenan un valor. Pero se incluyen dentro de una única variable más grande, denominada planet.\n",
    "\n",
    "Como sucede con las variables convencionales, debe asegurarse de que usa los tipos de datos correctos. En el valor moons de 1 en el ejemplo anterior, no se han incluido comillas alrededor del número, porque se quiere usar un entero. Si hubiera usado `'1'`, Python vería esta variable como una cadena, lo que afectaría a la capacidad de realizar cálculos.\n",
    "\n",
    "A diferencia de las variables convencionales, los nombres de clave no necesitan seguir las reglas de nomenclatura estándar para Python. Puede usar nombre clave para que sea más descriptivo en el código.\n",
    "\n",
    "### Lectura de valores de diccionario\n",
    "Puede leer valores dentro de un diccionario. Los objetos de diccionario tienen un método get que puede usar para acceder a un valor mediante su clave. Si quiere imprimir name, puede usar el código siguiente:\n"
   ]
  },
  {
   "cell_type": "code",
   "execution_count": null,
   "metadata": {},
   "outputs": [],
   "source": [
    "print(planet.get('name'))"
   ]
  },
  {
   "attachments": {},
   "cell_type": "markdown",
   "metadata": {},
   "source": [
    "Como podría sospechar, el acceso a los valores de un diccionario es una operación común. Afortunadamente, hay un acceso directo. También puede pasar la clave entre corchetes (`[ ]`). Este método usa menos código que get y la mayoría de los programadores utilizan esta sintaxis en su lugar. Puede volver a escribir el ejemplo anterior mediante lo siguiente:\n"
   ]
  },
  {
   "cell_type": "code",
   "execution_count": null,
   "metadata": {},
   "outputs": [],
   "source": [
    "# planet['name'] is identical to using planet.get('name')\n",
    "print(planet['name'])"
   ]
  },
  {
   "attachments": {},
   "cell_type": "markdown",
   "metadata": {},
   "source": [
    "Aunque el comportamiento de get y los corchetes (`[ ]`) suele ser el mismo para recuperar elementos, hay una diferencia principal. Si una clave no está disponible, get devuelve None y `[ ]` genera un error `KeyError`.\n"
   ]
  },
  {
   "cell_type": "code",
   "execution_count": null,
   "metadata": {},
   "outputs": [],
   "source": [
    "wibble = planet.get('wibble') # Returns None\n",
    "wibble = planet['wibble'] # Throws KeyError"
   ]
  },
  {
   "attachments": {},
   "cell_type": "markdown",
   "metadata": {},
   "source": [
    "### Modificación de valores de diccionario\n",
    "También puede modificar valores dentro de un objeto de diccionario, con el método update. Este método acepta un diccionario como parámetro y actualiza los valores existentes con los nuevos que proporcione. Si quiere cambiar name para el diccionario planet, puede usar lo siguiente, por ejemplo:\n"
   ]
  },
  {
   "cell_type": "code",
   "execution_count": null,
   "metadata": {},
   "outputs": [],
   "source": [
    "planet.update({'name': 'Makemake'})"
   ]
  },
  {
   "attachments": {},
   "cell_type": "markdown",
   "metadata": {},
   "source": [
    "Al igual que se usa el acceso directo de corchetes (`[ ]`) para leer valores, se puede utilizar para modificar valores. La principal diferencia en la sintaxis es que se usa `=` (a veces denominado operador de asignación) para proporcionar un nuevo valor. Para volver a escribir el ejemplo anterior y cambiar el nombre, puede usar lo siguiente:\n"
   ]
  },
  {
   "cell_type": "code",
   "execution_count": null,
   "metadata": {},
   "outputs": [],
   "source": [
    "planet['name'] = 'Makemake'"
   ]
  },
  {
   "attachments": {},
   "cell_type": "markdown",
   "metadata": {},
   "source": [
    "La principal ventaja de usar update es la capacidad de modificar varios valores en una operación. Los dos ejemplos siguientes son lógicamente los mismos, pero la sintaxis es diferente. Puede usar la sintaxis que crea más adecuada. La mayoría de los desarrolladores eligen corchetes para actualizar valores individuales.\n",
    "\n",
    "En el ejemplo siguiente se hacen las mismas modificaciones en la variable planet y se actualizan el nombre y las lunas. Tenga en cuenta que al usar update realiza una sola llamada a la función, mientras que el uso de corchetes implica dos llamadas."
   ]
  },
  {
   "cell_type": "code",
   "execution_count": null,
   "metadata": {},
   "outputs": [],
   "source": [
    "# Using update\n",
    "planet.update({\n",
    "    'name': 'Jupiter',\n",
    "    'moons': 79\n",
    "})\n",
    "\n",
    "# Using square brackets\n",
    "planet['name'] = 'Jupiter'\n",
    "planet['moons'] = 79"
   ]
  },
  {
   "attachments": {},
   "cell_type": "markdown",
   "metadata": {},
   "source": [
    "### Adición y eliminación de claves\n",
    "No es necesario crear todas las claves al inicializar un diccionario. De hecho, no es necesario crear ninguna. Siempre que quiera crear una clave, asígnela como haría con una existente.\n",
    "\n",
    "Imagine que quiere actualizar planet para incluir el período orbital en días:"
   ]
  },
  {
   "cell_type": "code",
   "execution_count": null,
   "metadata": {},
   "outputs": [],
   "source": [
    "planet['orbital period'] = 4333\n",
    "\n",
    "# planet dictionary now contains: {\n",
    "#   name: 'jupiter'\n",
    "#   moons: 79\n",
    "#   orbital period: 4333\n",
    "# }"
   ]
  },
  {
   "attachments": {},
   "cell_type": "markdown",
   "metadata": {},
   "source": [
    "> **Importante:** Los nombres de clave, como todo lo demás en Python, distinguen mayúsculas de minúsculas. Como resultado, 'name' y 'Name' se consideran dos claves independientes en un diccionario de Python.\n",
    "\n",
    "Para quitar una clave, use pop. pop devuelve el valor y quita la clave del diccionario. Para quitar orbital period, puede usar el código siguiente:"
   ]
  },
  {
   "cell_type": "code",
   "execution_count": null,
   "metadata": {},
   "outputs": [],
   "source": [
    "planet.pop('orbital period')\n",
    "\n",
    "# planet dictionary now contains: {\n",
    "#   name: 'jupiter'\n",
    "#   moons: 79\n",
    "# }"
   ]
  },
  {
   "attachments": {},
   "cell_type": "markdown",
   "metadata": {},
   "source": [
    "### Tipos de datos complejos\n",
    "Los diccionarios pueden almacenar cualquier tipo de valor, incluidos otros diccionarios. Esto le permite modelar datos complejos según sea necesario. Imagine que tiene que almacenar el diámetro de planet, que se podría medir alrededor de su ecuador o los polos. Puede crear otro diccionario dentro de planet para almacenar esta información:\n"
   ]
  },
  {
   "cell_type": "code",
   "execution_count": null,
   "metadata": {},
   "outputs": [],
   "source": [
    "# Add address\n",
    "planet['diameter (km)'] = {\n",
    "    'polar': 133709,\n",
    "    'equatorial': 142984\n",
    "}\n",
    "\n",
    "# planet dictionary now contains: {\n",
    "#   name: 'Jupiter'\n",
    "#   moons: 79\n",
    "#   diameter (km): {\n",
    "#      polar: 133709\n",
    "#      equatorial: 142984\n",
    "#   }\n",
    "# }"
   ]
  },
  {
   "attachments": {},
   "cell_type": "markdown",
   "metadata": {},
   "source": [
    "Para recuperar valores en un diccionario anidado, debe encadenar corchetes o llamadas a `get`."
   ]
  },
  {
   "cell_type": "code",
   "execution_count": null,
   "metadata": {},
   "outputs": [],
   "source": [
    "print(f'{planet[\"name\"]} polar diameter: {planet[\"diameter (km)\"][\"polar\"]}')"
   ]
  },
  {
   "attachments": {},
   "cell_type": "markdown",
   "metadata": {},
   "source": [
    "## Programación dinámica con diccionarios\n",
    "En el programa, quiere realizar varios cálculos, como el del número total de lunas. Además, a medida que progrese en programación más avanzada, es posible que compruebe que carga este tipo de información desde archivos o una base de datos, en lugar de programar directamente en Python.\n",
    "\n",
    "Para ayudar a admitir estos escenarios, Python le permite tratar las claves y los valores dentro de un diccionario como una lista. Puede determinar de manera dinámica las claves y los valores, y realizar varios cálculos.\n",
    "\n",
    "Imagine un diccionario en el que se almacenan cantidades mensuales de precipitaciones. Es probable que tenga claves para cada mes y las precipitaciones asociadas. Quiere sumar el total de precipitaciones y escribir el código para realizar la operación mediante cada clave individual sería bastante tedioso.\n",
    "\n",
    "Recuperación de todas las claves y valores\n",
    "El método `keys()` devuelve un objeto de lista que contiene todas las claves. Puede usar este método para iterar por todos los elementos del diccionario.\n",
    "\n",
    "Imagine que tiene el siguiente diccionario, en el que se almacenan los últimos tres meses de precipitaciones.\n"
   ]
  },
  {
   "cell_type": "code",
   "execution_count": null,
   "metadata": {},
   "outputs": [],
   "source": [
    "rainfall = {\n",
    "    'october': 3.5,\n",
    "    'november': 4.2,\n",
    "    'december': 2.1\n",
    "}"
   ]
  },
  {
   "attachments": {},
   "cell_type": "markdown",
   "metadata": {},
   "source": [
    "Imagine que quiere mostrar la lista de todas las precipitaciones. Puede escribir el nombre de cada mes, pero resultará tedioso."
   ]
  },
  {
   "cell_type": "code",
   "execution_count": null,
   "metadata": {},
   "outputs": [],
   "source": [
    "for key in rainfall.keys():\n",
    "    print(f'{key}: {rainfall[key]}cm')"
   ]
  },
  {
   "attachments": {},
   "cell_type": "markdown",
   "metadata": {},
   "source": [
    "> **Nota:** Todavía puede usar corchetes (`[ ]`) con un nombre de variable, en lugar del literal de cadena codificado de forma rígida.\n",
    "\n",
    "### Determinación de la existencia de una clave en un diccionario\n",
    "Al actualizar un valor en un diccionario, Python sobrescribirá el valor existente o creará uno, si la clave no existe. Si quiere agregar a un valor en lugar de sobrescribirlo, puede comprobar si la clave existe mediante in. Por ejemplo, si quiere agregar un valor a diciembre o crear uno si no existe, puede usar lo siguiente:"
   ]
  },
  {
   "cell_type": "code",
   "execution_count": null,
   "metadata": {},
   "outputs": [],
   "source": [
    "if 'december' in rainfall:\n",
    "    rainfall['december'] = rainfall['december'] + 1\n",
    "else:\n",
    "    rainfall['december'] = 1"
   ]
  },
  {
   "attachments": {},
   "cell_type": "markdown",
   "metadata": {},
   "source": [
    "### Recuperación de todos los valores\n",
    "De forma similar a `keys()`, `values()` devuelve la lista de todos los valores de un diccionario sin sus claves correspondientes. `values()` puede resultar útil cuando se usa la clave con fines de etiquetado, como en el ejemplo anterior, en el que las claves son el nombre del mes. Puede usar para `values()` determinar el importe total de las precipitaciones:\n"
   ]
  },
  {
   "cell_type": "code",
   "execution_count": null,
   "metadata": {},
   "outputs": [],
   "source": [
    "total_rainfall = 0\n",
    "for value in rainfall.values():\n",
    "    total_rainfall = total_rainfall + value\n",
    "\n",
    "print(f'There was {total_rainfall}cm in the last quarter')"
   ]
  }
 ],
 "metadata": {
  "kernelspec": {
   "display_name": "cursoMS",
   "language": "python",
   "name": "python3"
  },
  "language_info": {
   "codemirror_mode": {
    "name": "ipython",
    "version": 3
   },
   "file_extension": ".py",
   "mimetype": "text/x-python",
   "name": "python",
   "nbconvert_exporter": "python",
   "pygments_lexer": "ipython3",
   "version": "3.10.10"
  },
  "orig_nbformat": 4
 },
 "nbformat": 4,
 "nbformat_minor": 2
}
