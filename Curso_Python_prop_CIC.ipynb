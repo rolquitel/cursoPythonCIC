{
  "cells": [
    {
      "cell_type": "markdown",
      "metadata": {
        "id": "h33dzCTWo4B1"
      },
      "source": [
        "# Abriendo tu apetito \n",
        "\n",
        "Si trabaja mucho en computadoras, eventualmente encontrará que hay alguna tarea que le gustaría automatizar. Por ejemplo, es posible que desee realizar una búsqueda y reemplazo en una gran cantidad de archivos de texto, o cambiar el nombre y reorganizar un montón de archivos de fotos de una manera complicada. Tal vez le gustaría escribir una pequeña base de datos personalizada, una aplicación GUI especializada o un juego simple.\n",
        "\n",
        "Si es un desarrollador de software profesional, es posible que deba trabajar con varias bibliotecas C/C++/Java, pero el ciclo habitual de escritura/compilación/prueba/recompilación es demasiado lento. Tal vez esté escribiendo un conjunto de pruebas para una biblioteca de este tipo y encuentre que escribir el código de prueba es una tarea tediosa. O tal vez haya escrito un programa que podría usar un lenguaje de extensión y no desea diseñar e implementar un lenguaje completamente nuevo para su aplicación.\n",
        "\n",
        "Puede escribir un script de shell de Unix o archivos por lotes de Windows para algunas de estas tareas, pero los scripts de shell son mejores para mover archivos y cambiar datos de texto, no son adecuados para aplicaciones GUI o juegos. Podría escribir un programa C/C++/Java, pero puede llevar mucho tiempo de desarrollo obtener incluso un programa preliminar. Python es más fácil de usar, está disponible en los sistemas operativos Windows, macOS y Unix, y lo ayudará a realizar el trabajo más rápidamente.\n",
        "\n",
        "Python es fácil de usar, pero es un lenguaje de programación real, que ofrece mucha más estructura y soporte para programas grandes de lo que pueden ofrecer los scripts de shell o los archivos por lotes. Por otro lado, Python también ofrece mucha más verificación de errores que C y, al ser un lenguaje de muy alto nivel , tiene tipos de datos de alto nivel incorporados, como matrices flexibles y diccionarios. Debido a sus tipos de datos más generales, Python es aplicable a un dominio de problemas mucho más grande que Awk o incluso Perl, sin embargo, muchas cosas son al menos tan fáciles en Python como en esos lenguajes.\n",
        "\n",
        "Python le permite dividir su programa en módulos que pueden reutilizarse en otros programas de Python. Viene con una gran colección de módulos estándar que puede usar como base de sus programas, o como ejemplos para comenzar a aprender a programar en Python. Algunos de estos módulos proporcionan cosas como E/S de archivos, llamadas al sistema, sockets e incluso interfaces para kits de herramientas de interfaz gráfica de usuario como Tk.\n",
        "\n",
        "Python es un lenguaje interpretado, lo que puede ahorrarle un tiempo considerable durante el desarrollo del programa porque no es necesario compilar ni vincular. El intérprete se puede utilizar de forma interactiva, lo que facilita experimentar con las características del lenguaje, escribir programas desechables o probar funciones durante el desarrollo de programas de abajo hacia arriba. También es una práctica calculadora de escritorio.\n",
        "\n",
        "Python permite que los programas se escriban de forma compacta y legible. Los programas escritos en Python suelen ser mucho más cortos que los programas equivalentes en C, C++ o Java, por varias razones:\n",
        "\n",
        "* los tipos de datos de alto nivel le permiten expresar operaciones complejas en una sola declaración;\n",
        "\n",
        "* la agrupación de declaraciones se realiza mediante sangría en lugar de corchetes iniciales y finales;\n",
        "\n",
        "* no se necesitan declaraciones de variables o argumentos.\n",
        "\n",
        "Python es *extensible*: si sabe programar en C, es fácil agregar una nueva función o módulo incorporado al intérprete, ya sea para realizar operaciones críticas a la máxima velocidad, o para vincular programas de Python a bibliotecas que pueden estar solo disponibles. en forma binaria (como una biblioteca de gráficos específica del proveedor). Una vez que esté realmente enganchado, puede vincular el intérprete de Python a una aplicación escrita en C y usarlo como una extensión o lenguaje de comandos para esa aplicación.\n",
        "\n"
      ]
    },
    {
      "cell_type": "markdown",
      "metadata": {
        "id": "GewZQ-lKqapx"
      },
      "source": [
        "Por cierto, el idioma lleva el nombre del programa de la BBC \"Monty Python's Flying Circus\" y no tiene nada que ver con los reptiles. Hacer referencias a los sketches de Monty Python en la documentación no solo está permitido, ¡es recomendable!\n",
        "\n",
        "Ahora que está entusiasmado con Python, querrá examinarlo con más detalle. Dado que la mejor manera de aprender un idioma es usarlo, el tutorial lo invita a jugar con el intérprete de Python mientras lee.\n",
        "\n",
        "En el próximo capítulo, se explican los mecanismos de uso del intérprete. Esta es información bastante mundana, pero esencial para probar los ejemplos que se muestran más adelante.\n",
        "\n",
        "El resto del tutorial presenta varias características del lenguaje y el sistema Python a través de ejemplos, comenzando con expresiones simples, declaraciones y tipos de datos, a través de funciones y módulos, y finalmente toca conceptos avanzados como excepciones y clases definidas por el usuario."
      ]
    },
    {
      "cell_type": "markdown",
      "metadata": {
        "id": "qtmrC0rnqyoL"
      },
      "source": [
        "# 1. Una introducción informal a Python ¶\n",
        "\n",
        "En los siguientes ejemplos, la entrada y la salida se distinguen por la presencia o ausencia de avisos ( >>> y ... ): para repetir el ejemplo, debe escribir todo después del aviso, cuando aparece el aviso; las líneas que no comienzan con un indicador se emiten desde el intérprete. Tenga en cuenta que un indicador secundario en una línea por sí mismo en un ejemplo significa que debe escribir una línea en blanco; esto se usa para finalizar un comando de varias líneas.\n",
        "\n",
        "Puede alternar la visualización de solicitudes y resultados haciendo clic en >>>en la esquina superior derecha de un cuadro de ejemplo. Si oculta las indicaciones y la salida para un ejemplo, puede copiar y pegar fácilmente las líneas de entrada en su intérprete.\n",
        "\n",
        "Muchos de los ejemplos de este manual, incluso aquellos ingresados ​​en el indicador interactivo, incluyen comentarios. Los comentarios en Python comienzan con el carácter hash #y se extienden hasta el final de la línea física. Un comentario puede aparecer al comienzo de una línea o después de un espacio en blanco o código, pero no dentro de un literal de cadena. Un carácter hash dentro de un literal de cadena es solo un carácter hash. Dado que los comentarios son para aclarar el código y Python no los interpreta, se pueden omitir al escribir ejemplos."
      ]
    },
    {
      "cell_type": "code",
      "execution_count": null,
      "metadata": {
        "id": "A-rqc6Nton6l"
      },
      "outputs": [],
      "source": [
        "# Éste es el primer comentario\n",
        "spam = 1  # Y este es el segundo comentario\n",
        "          # ... y el tercero!\n",
        "text = \"# Éste no es un comentario porque está entre comillas.\""
      ]
    },
    {
      "cell_type": "markdown",
      "metadata": {
        "id": "KZNPYeTNrJH-"
      },
      "source": [
        "## 1.1. Usando Python como calculadora \n",
        "Probemos algunos comandos simples de Python. Inicie el intérprete y espere el indicador principal, >>>. (No debería llevar mucho tiempo).\n",
        "\n",
        "### 1.1.1. Números \n",
        "El intérprete actúa como una simple calculadora: puede escribir una expresión y escribirá el valor. La sintaxis de las expresiones es sencilla: los operadores +, y funcionan como en la mayoría de los demás lenguajes (por ejemplo, Pascal o C) -; se pueden usar paréntesis ( ) para agrupar. Por ejemplo:*/()"
      ]
    },
    {
      "cell_type": "code",
      "execution_count": null,
      "metadata": {
        "colab": {
          "base_uri": "https://localhost:8080/"
        },
        "id": "WhzEuOv7rUjh",
        "outputId": "828fe375-e096-468c-cf99-cbd6546c3f6e"
      },
      "outputs": [],
      "source": [
        "2+2"
      ]
    },
    {
      "cell_type": "code",
      "execution_count": null,
      "metadata": {
        "id": "UqIKbmFUrVyG"
      },
      "outputs": [],
      "source": [
        "50 - 5*6"
      ]
    },
    {
      "cell_type": "code",
      "execution_count": null,
      "metadata": {},
      "outputs": [],
      "source": [
        "(50 - 5*6) / 4"
      ]
    },
    {
      "cell_type": "code",
      "execution_count": null,
      "metadata": {},
      "outputs": [],
      "source": [
        "8 / 5  # La división siempre regresa un número de punto flotante"
      ]
    },
    {
      "cell_type": "markdown",
      "metadata": {},
      "source": [
        "Los números enteros (ej 2, 4, 20) tienen tipo int, los que tienen parte fraccionaria (ej 5.0, 1.6) tienen tipo float. Veremos más sobre los tipos numéricos más adelante en el tutorial.\n",
        "\n",
        "La división ( /) siempre devuelve un flotante. Para hacer una división de piso y obtener un resultado entero, puede usar el //operador; para calcular el resto puedes usar %:"
      ]
    },
    {
      "cell_type": "code",
      "execution_count": null,
      "metadata": {},
      "outputs": [],
      "source": [
        "17 / 3  # La división clásica regresa un número de punto flotante"
      ]
    },
    {
      "cell_type": "code",
      "execution_count": null,
      "metadata": {},
      "outputs": [],
      "source": [
        "17 // 3  # La división piso descarta la parte fraccionaria"
      ]
    },
    {
      "cell_type": "code",
      "execution_count": null,
      "metadata": {},
      "outputs": [],
      "source": [
        "17 % 3  # el operador % regresa el resto de la división"
      ]
    },
    {
      "cell_type": "code",
      "execution_count": null,
      "metadata": {},
      "outputs": [],
      "source": [
        "5 * 3 + 2  # cociente piso * divisor + resto"
      ]
    },
    {
      "attachments": {},
      "cell_type": "markdown",
      "metadata": {},
      "source": [
        "Con Python, es posible usar el operador ** para calcular potencias"
      ]
    },
    {
      "cell_type": "code",
      "execution_count": null,
      "metadata": {},
      "outputs": [],
      "source": [
        "5**2 # 5 al cuadrado"
      ]
    },
    {
      "cell_type": "code",
      "execution_count": null,
      "metadata": {},
      "outputs": [],
      "source": [
        "2**7 # 2 a la 7ma potencia"
      ]
    },
    {
      "attachments": {},
      "cell_type": "markdown",
      "metadata": {},
      "source": [
        "El signo igual ( =) se utiliza para asignar un valor a una variable. Posteriormente, no se muestra ningún resultado antes del siguiente mensaje interactivo:"
      ]
    },
    {
      "cell_type": "code",
      "execution_count": null,
      "metadata": {},
      "outputs": [],
      "source": [
        "width = 20\n",
        "height = 5 * 9\n",
        "width * height"
      ]
    },
    {
      "attachments": {},
      "cell_type": "markdown",
      "metadata": {},
      "source": [
        "Si una variable no está \"definida\" (no se le ha asignado un valor), intentar usarla le dará un error:"
      ]
    },
    {
      "cell_type": "code",
      "execution_count": null,
      "metadata": {},
      "outputs": [],
      "source": [
        "n # intenta imprimir n"
      ]
    },
    {
      "attachments": {},
      "cell_type": "markdown",
      "metadata": {},
      "source": [
        "Hay soporte completo para punto flotante; Los operadores con operandos de tipo mixto convierten el operando entero en punto flotante:"
      ]
    },
    {
      "cell_type": "code",
      "execution_count": null,
      "metadata": {},
      "outputs": [],
      "source": [
        "4 * 3.75 - 1"
      ]
    },
    {
      "attachments": {},
      "cell_type": "markdown",
      "metadata": {},
      "source": [
        "En modo interactivo, la última expresión impresa se asigna a la variable _. Esto significa que cuando usa Python como calculadora de escritorio, es algo más fácil continuar con los cálculos, por ejemplo:"
      ]
    },
    {
      "cell_type": "code",
      "execution_count": null,
      "metadata": {},
      "outputs": [],
      "source": [
        "tax = 12.5 / 100"
      ]
    },
    {
      "cell_type": "code",
      "execution_count": null,
      "metadata": {},
      "outputs": [],
      "source": [
        "price = 100.50"
      ]
    },
    {
      "cell_type": "code",
      "execution_count": null,
      "metadata": {},
      "outputs": [],
      "source": [
        "price * tax"
      ]
    },
    {
      "cell_type": "code",
      "execution_count": null,
      "metadata": {},
      "outputs": [],
      "source": [
        "price + _"
      ]
    },
    {
      "cell_type": "code",
      "execution_count": null,
      "metadata": {},
      "outputs": [],
      "source": [
        "round(_, 2)"
      ]
    },
    {
      "attachments": {},
      "cell_type": "markdown",
      "metadata": {},
      "source": [
        "El usuario debe tratar esta variable como de solo lectura. No le asigne explícitamente un valor; crearía una variable local independiente con el mismo nombre enmascarando la variable integrada con su comportamiento mágico.\n",
        "\n",
        "Además de *int* y *float*, Python admite otros tipos de números, como *Decimal* y *Fraction*. Python también tiene soporte incorporado para *números complejos* y usa el sufijo jo Jpara indicar la parte imaginaria (por ejemplo 3+5j, )."
      ]
    },
    {
      "attachments": {},
      "cell_type": "markdown",
      "metadata": {},
      "source": [
        "### 1.1.2. Cadenas\n",
        "\n",
        "Además de los números, Python también puede manipular cadenas, que se pueden expresar de varias formas. Se pueden encerrar entre comillas simples ( '...') o comillas dobles ( \"...\") con el mismo resultado. \\ se puede usar para escapar de las comillas:"
      ]
    },
    {
      "cell_type": "code",
      "execution_count": null,
      "metadata": {},
      "outputs": [],
      "source": [
        "'spam eggs' # comillas simples"
      ]
    },
    {
      "cell_type": "code",
      "execution_count": null,
      "metadata": {},
      "outputs": [],
      "source": [
        "'doesn\\'t' # usa \\' para escapar las comillas simples..."
      ]
    },
    {
      "cell_type": "code",
      "execution_count": null,
      "metadata": {},
      "outputs": [],
      "source": [
        "\"doesn't\" # ... o usa comillas dobles en su lugar"
      ]
    },
    {
      "cell_type": "code",
      "execution_count": null,
      "metadata": {},
      "outputs": [],
      "source": [
        "'\"Yes ,\" they said.'"
      ]
    },
    {
      "cell_type": "code",
      "execution_count": null,
      "metadata": {},
      "outputs": [],
      "source": [
        "\"\\\"Yes,\\\" they said.\""
      ]
    },
    {
      "cell_type": "code",
      "execution_count": null,
      "metadata": {},
      "outputs": [],
      "source": [
        "'\"Isn\\'t,\" they said.'"
      ]
    },
    {
      "cell_type": "code",
      "execution_count": null,
      "metadata": {},
      "outputs": [],
      "source": []
    }
  ],
  "metadata": {
    "colab": {
      "provenance": []
    },
    "kernelspec": {
      "display_name": "Python 3",
      "name": "python3"
    },
    "language_info": {
      "codemirror_mode": {
        "name": "ipython",
        "version": 3
      },
      "file_extension": ".py",
      "mimetype": "text/x-python",
      "name": "python",
      "nbconvert_exporter": "python",
      "pygments_lexer": "ipython3",
      "version": "3.9.16"
    }
  },
  "nbformat": 4,
  "nbformat_minor": 0
}
