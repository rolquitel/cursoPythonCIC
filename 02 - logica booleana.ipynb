{
 "cells": [
  {
   "attachments": {},
   "cell_type": "markdown",
   "metadata": {},
   "source": [
    "# Escritura de instrucciones `if`\n",
    "\n",
    "Para expresar la lógica condicional en Python, se usan instrucciones `if`. Al escribir una instrucción `if`, se basa en otro concepto que se describe en este módulo, el de los operadores matemáticos. Python admite los operadores lógicos comunes de matemáticas: igual, no igual, menor que, menor o igual que, mayor que y mayor o igual que. Probablemente esté acostumbrado a ver que estos operadores se muestran mediante símbolos, que también es la forma en que se representan en Python.\n",
    "\n",
    "Es igual que: `a == b`\n",
    "No es igual a: `a != b`\n",
    "Menor que: `a < b`\n",
    "Menor o igual que: `a <= b`\n",
    "Mayor que: `a > b`\n",
    "Mayor o igual que: `a >= b`\n",
    "\n",
    "## Expresiones de prueba\n",
    "Debe usar una instrucción if para ejecutar código solo si se cumple una condición concreta. Lo primero que hace al escribir una instrucción if es comprobar la condición mediante una expresión de prueba. Después, se determina si la instrucción se evalúa como `True` o `False`. Si es `True`, se ejecuta el siguiente bloque de código con sangría:\n"
   ]
  },
  {
   "cell_type": "code",
   "execution_count": 1,
   "metadata": {},
   "outputs": [],
   "source": [
    "a = 97\n",
    "b = 55\n",
    "# test expression\n",
    "if a < b:\n",
    "    # statement to be run\n",
    "    print(b)"
   ]
  },
  {
   "attachments": {},
   "cell_type": "markdown",
   "metadata": {},
   "source": [
    "En este ejemplo, `a < b` es la expresión de prueba. El programa evalúa la expresión de prueba y, después, ejecuta el código dentro de la instrucción `if` solo si la expresión de prueba es `True`. Si evalúa la expresión, sabe que es `False`, por lo que no se ejecutará ningún código que escriba en la instrucción `if`.\n",
    "\n",
    "> **Nota:** En Python, `None` y `0` también se interpretan como `False`.\n",
    "\n",
    "## Escritura de instrucciones `if`\n",
    "Use una instrucción `if` si quiere ejecutar código solo si se cumple una condición concreta. La sintaxis de una instrucción `if` siempre es la siguiente:\n",
    "\n",
    "Por ejemplo:"
   ]
  },
  {
   "cell_type": "code",
   "execution_count": null,
   "metadata": {},
   "outputs": [],
   "source": [
    "if test_expression:\n",
    "    # statement(s) to be run"
   ]
  },
  {
   "attachments": {},
   "cell_type": "markdown",
   "metadata": {},
   "source": [
    "Por ejemplo:"
   ]
  },
  {
   "cell_type": "code",
   "execution_count": 2,
   "metadata": {},
   "outputs": [
    {
     "name": "stdout",
     "output_type": "stream",
     "text": [
      "93\n"
     ]
    }
   ],
   "source": [
    "a = 93\n",
    "b = 27\n",
    "if a >= b:\n",
    "    print(a)"
   ]
  },
  {
   "attachments": {},
   "cell_type": "markdown",
   "metadata": {},
   "source": [
    "En Python, se debe aplicar sangría al cuerpo de una instrucción `if`. Siempre se ejecutará cualquier código que siga a una expresión de prueba que no tenga sangría:"
   ]
  },
  {
   "cell_type": "code",
   "execution_count": 3,
   "metadata": {},
   "outputs": [
    {
     "name": "stdout",
     "output_type": "stream",
     "text": [
      "44\n"
     ]
    }
   ],
   "source": [
    "a = 24\n",
    "b = 44\n",
    "if a <= 0:\n",
    "    print(a)\n",
    "print(b)"
   ]
  },
  {
   "attachments": {},
   "cell_type": "markdown",
   "metadata": {},
   "source": [
    "En este ejemplo, la salida es 44 ya que la expresión de prueba es `False` y la instrucción `print(b)` no tiene sangría en el mismo nivel que la instrucción `if`.\n",
    "\n"
   ]
  },
  {
   "attachments": {},
   "cell_type": "markdown",
   "metadata": {},
   "source": [
    "## ¿Qué son las instrucciones `else` y `elif`?\n",
    "\n",
    "¿Qué ocurre si también quiere que el programa ejecute un fragmento de código cuando la expresión de prueba es `False`? ¿O bien, qué ocurre si quiere incluir otra expresión de prueba? Python tiene otras palabras clave que puede usar para crear instrucciones `if` más complejas, `else` y `elif`. Al usar `if`, `else` y `elif` de forma conjunta, puede escribir programas complejos con varias expresiones de prueba e instrucciones para ejecutar.\n",
    "\n",
    "### Uso de `else`\n",
    "Sabe que cuando se usa una instrucción `if`, el cuerpo del programa solo se ejecutará si la expresión de prueba es `True`. Para agregar más código que se ejecute cuando la expresión de prueba sea `False`, debe agregar una instrucción `else`.\n",
    "\n",
    "Ahora se volverá al ejemplo de la sección anterior:\n"
   ]
  },
  {
   "cell_type": "code",
   "execution_count": null,
   "metadata": {},
   "outputs": [],
   "source": [
    "a = 93\n",
    "b = 27\n",
    "if a >= b:\n",
    "    print(a)"
   ]
  },
  {
   "attachments": {},
   "cell_type": "markdown",
   "metadata": {},
   "source": [
    "En este ejemplo, si `a` no es mayor o igual que `b`, no ocurre nada. Imagine que en su lugar quiere imprimir `b` si la expresión de prueba es `False`:"
   ]
  },
  {
   "cell_type": "code",
   "execution_count": 4,
   "metadata": {},
   "outputs": [
    {
     "name": "stdout",
     "output_type": "stream",
     "text": [
      "93\n"
     ]
    }
   ],
   "source": [
    "a = 93\n",
    "b = 27\n",
    "if a >= b:\n",
    "    print(a)\n",
    "else:\n",
    "    print(b)"
   ]
  },
  {
   "attachments": {},
   "cell_type": "markdown",
   "metadata": {},
   "source": [
    "Si la expresión de prueba es `False`, se omite el código del cuerpo de la instrucción `if` y el programa continúa ejecutándose desde la instrucción `else`. La sintaxis de una instrucción `if`/`else` siempre es la siguiente:"
   ]
  },
  {
   "cell_type": "code",
   "execution_count": null,
   "metadata": {},
   "outputs": [],
   "source": [
    "if test_expression:\n",
    "    # statement(s) to be run\n",
    "else:\n",
    "    # statement(s) to be run"
   ]
  },
  {
   "attachments": {},
   "cell_type": "markdown",
   "metadata": {},
   "source": [
    "### Uso de `elif`\n",
    "En Python, la palabra clave `elif` es la abreviatura de else `if`. El uso de instrucciones `elif` permite agregar varias expresiones de prueba al programa. Estas instrucciones se ejecutan en el orden en que se escriben, por lo que el programa escribirá una instrucción `elif` solo si la primera instrucción if es `False`. Por ejemplo:"
   ]
  },
  {
   "cell_type": "code",
   "execution_count": 5,
   "metadata": {},
   "outputs": [
    {
     "name": "stdout",
     "output_type": "stream",
     "text": [
      "a is greater than or equal to b\n"
     ]
    }
   ],
   "source": [
    "a = 93\n",
    "b = 27\n",
    "if a >= b:\n",
    "    print(\"a is greater than or equal to b\")\n",
    "elif a == b:\n",
    "    print(\"a is equal to b\")"
   ]
  },
  {
   "attachments": {},
   "cell_type": "markdown",
   "metadata": {},
   "source": [
    "La instrucción `elif` de este bloque de código no se ejecutará, porque la instrucción `if` es `True`.\n",
    "\n",
    "La sintaxis de una instrucción `if`/`elif` siempre es la siguiente:\n"
   ]
  },
  {
   "cell_type": "code",
   "execution_count": null,
   "metadata": {},
   "outputs": [],
   "source": [
    "if test_expression:\n",
    "    # statement(s) to be run\n",
    "elif test_expression:\n",
    "    # statement(s) to be run\n"
   ]
  },
  {
   "attachments": {},
   "cell_type": "markdown",
   "metadata": {},
   "source": [
    "### Combinación de instrucciones `if`, `elif` y `else`\n",
    "Puede combinar instrucciones `if`, `elif` y `else` para crear programas con lógica condicional compleja. Recuerde que una instrucción `elif` solo se ejecuta cuando la condición `if` es false. Tenga en cuenta también que un bloque `if` solo puede tener un bloque `else`, pero puede tener varios bloques `elif`.\n",
    "\n",
    "Ahora se volverá a examinar el ejemplo con una instrucción `elif` agregada:\n"
   ]
  },
  {
   "cell_type": "code",
   "execution_count": null,
   "metadata": {},
   "outputs": [],
   "source": [
    "a = 93\n",
    "b = 27\n",
    "if a > b:\n",
    "    print(\"a is greater than b\")\n",
    "elif a < b:\n",
    "    print(\"a is less than b\")\n",
    "else: \n",
    "    print (\"a is equal to b\")    "
   ]
  },
  {
   "attachments": {},
   "cell_type": "markdown",
   "metadata": {},
   "source": [
    "Un bloque de código que usa los tres tipos de instrucciones tiene la sintaxis siguiente:"
   ]
  },
  {
   "cell_type": "code",
   "execution_count": null,
   "metadata": {},
   "outputs": [],
   "source": [
    "if test_expression:\n",
    "    # statement(s) to be run\n",
    "elif test_expression:\n",
    "    # statement(s) to be run\n",
    "elif test_expression:\n",
    "    # statement(s) to be run\n",
    "else:\n",
    "    # statement(s) to be run"
   ]
  },
  {
   "attachments": {},
   "cell_type": "markdown",
   "metadata": {},
   "source": [
    "## Uso de lógica condicional anidada\n",
    "Python también admite la lógica condicional anidada, lo que significa que puede anidar instrucciones `if`, `elif` y `else` para crear programas aún más complejos. Para anidar condiciones, aplique sangría a las condiciones internas y todo lo que esté en el mismo nivel de sangría se ejecutará en el mismo bloque de código:"
   ]
  },
  {
   "cell_type": "code",
   "execution_count": 6,
   "metadata": {},
   "outputs": [
    {
     "name": "stdout",
     "output_type": "stream",
     "text": [
      "a is less than b\n"
     ]
    }
   ],
   "source": [
    "a = 16\n",
    "b = 25\n",
    "c = 27\n",
    "if a > b:\n",
    "    if b > c:\n",
    "        print (\"a is greater than b and b is greater than c\")\n",
    "    else: \n",
    "        print (\"a is greater than b and less than c\")\n",
    "elif a == b:\n",
    "    print (\"a is equal to b\")\n",
    "else:\n",
    "    print (\"a is less than b\")"
   ]
  },
  {
   "attachments": {},
   "cell_type": "markdown",
   "metadata": {},
   "source": [
    "Este fragmento de código genera la salida `a is less than b`.\n",
    "\n",
    "La lógica condicional anidada sigue las mismas reglas que la lógica condicional convencional dentro de cada bloque de código. Este es un ejemplo de la sintaxis:"
   ]
  },
  {
   "cell_type": "code",
   "execution_count": null,
   "metadata": {},
   "outputs": [],
   "source": [
    "if test_expression:\n",
    "    # statement(s) to be run\n",
    "    if test_expression:\n",
    "        # statement(s) to be run\n",
    "    else: \n",
    "        # statement(s) to be run\n",
    "elif test_expression:\n",
    "    # statement(s) to be run\n",
    "    if test_expression:\n",
    "        # statement(s) to be run\n",
    "    else: \n",
    "        # statement(s) to be run\n",
    "else:\n",
    "    # statement(s) to be run"
   ]
  },
  {
   "attachments": {},
   "cell_type": "markdown",
   "metadata": {},
   "source": [
    "## ¿Qué son los operadores `and` y `or`?\n",
    "\n",
    "En ocasiones, es posible que quiera combinar expresiones de prueba para evaluar varias condiciones en una instrucción `if`, `elif` o `else`. En este caso, usaría los operadores booleanos `and` y `or`.\n",
    "\n",
    "### El operador `or`\n",
    "Puede conectar dos expresiones booleanas, o de prueba, mediante el operador booleano `or`. Para que toda la expresión se evalúe como `True`, al menos una de las subexpresiones debe ser `True`. Si ninguna de las subexpresiones es `True`, toda la expresión se evalúa como `False`. Por ejemplo, en la expresión siguiente, toda la expresión de prueba se evalúa como `True`, porque se ha cumplido una de las condiciones de las subexpresiones:\n"
   ]
  },
  {
   "cell_type": "code",
   "execution_count": null,
   "metadata": {},
   "outputs": [],
   "source": [
    "a = 23\n",
    "b = 34\n",
    "if a == 34 or b == 34:\n",
    "    print(a + b)"
   ]
  },
  {
   "attachments": {},
   "cell_type": "markdown",
   "metadata": {},
   "source": [
    "Si las dos subexpresiones son true, toda la expresión de prueba también se evalúa como `True`.\n",
    "\n",
    "Una expresión booleana que usa `or` tiene la sintaxis siguiente:\n",
    "\n",
    "```\n",
    "sub-expression1 or sub-expression2\n",
    "```"
   ]
  },
  {
   "attachments": {},
   "cell_type": "markdown",
   "metadata": {},
   "source": [
    "### El operador `and`\n",
    "También puede conectar dos expresiones de prueba mediante el operador booleano and. Las dos condiciones de la expresión de prueba deben cumplirse para que toda la expresión de prueba se evalúe como True. En cualquier otro caso, la expresión de prueba es False. En el ejemplo siguiente, toda la expresión de prueba se evalúa como False, porque solo una de las condiciones de las subexpresiones es true:\n"
   ]
  },
  {
   "cell_type": "code",
   "execution_count": null,
   "metadata": {},
   "outputs": [],
   "source": [
    "a = 23\n",
    "b = 34\n",
    "if a == 34 and b == 34:\n",
    "    print (a + b)"
   ]
  },
  {
   "attachments": {},
   "cell_type": "markdown",
   "metadata": {},
   "source": [
    "Una expresión booleana que usa `and` tiene la sintaxis siguiente:\n",
    "```\n",
    "sub-expression1 and sub-expression2\n",
    "```\n",
    "\n",
    "### Diferencia entre `and` y `or`\n",
    "Para resaltar la diferencia entre los dos operadores booleanos, puede usar una tabla de verdad. Una tabla de verdad muestra cómo se evalúa toda la expresión de prueba en función de las dos subexpresiones.\n",
    "\n",
    "Esta es la tabla de verdad para `and`:\n",
    "\n",
    "|subexpression1\t|Operador\t|subexpression2\t|Resultado|\n",
    "|---|---|---|---|\n",
    "|`True`\t|`and`\t|`True`\t|`True`|\n",
    "|`True`\t|`and`\t|`False`\t|`False`|\n",
    "|`False`\t|`and`\t|`True`\t|`False`|\n",
    "|`False`\t|`and`\t|`False`\t|`False`|\n",
    "\n",
    "Esta es la tabla de verdad para or:\n",
    "\n",
    "|subexpression1\t|Operador\t|subexpression2\t|Resultado|\n",
    "|---|---|---|---|\n",
    "|`True`\t|`or`\t|`True`\t|`True`|\n",
    "|`True`\t|`or`\t|`False`\t|`True`|\n",
    "|`False`\t|`or`\t|`True`\t|`True`|\n",
    "|`False`\t|`or`\t|`False`\t|`False`|\n"
   ]
  }
 ],
 "metadata": {
  "kernelspec": {
   "display_name": "cursoMS",
   "language": "python",
   "name": "python3"
  },
  "language_info": {
   "codemirror_mode": {
    "name": "ipython",
    "version": 3
   },
   "file_extension": ".py",
   "mimetype": "text/x-python",
   "name": "python",
   "nbconvert_exporter": "python",
   "pygments_lexer": "ipython3",
   "version": "3.10.10"
  },
  "orig_nbformat": 4
 },
 "nbformat": 4,
 "nbformat_minor": 2
}
