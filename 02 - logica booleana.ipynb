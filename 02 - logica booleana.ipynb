{
 "cells": [
  {
   "attachments": {},
   "cell_type": "markdown",
   "metadata": {},
   "source": [
    "# 2. Lógica booleana\n",
    "\n",
    "## 2.1. Operadores lógicos\n",
    "\n",
    "Para expresar la lógica condicional en Python, se usan expresiones de prueba, que se basan en los operadores lógicos. Python admite los operadores lógicos comunes de matemáticas: igual, no igual, menor que, menor o igual que, mayor que y mayor o igual que. Probablemente esté acostumbrado a ver que estos operadores se muestran mediante símbolos, que también es la forma en que se representan en Python.\n",
    "\n",
    "* Es igual que: `a == b`\n",
    "* No es igual a: `a != b`\n",
    "* Menor que: `a < b`\n",
    "* Menor o igual que: `a <= b`\n",
    "* Mayor que: `a > b`\n",
    "* Mayor o igual que: `a >= b`"
   ]
  },
  {
   "attachments": {},
   "cell_type": "markdown",
   "metadata": {},
   "source": [
    "\n",
    "## 2.2. Expresiones lógicas o de prueba\n",
    "Son expresiones lógicas que se evalúan como `True` o `False`. Son una combinación de operadores de lógicos y conectores que nos permites establecer si un escenario (una serie de condiciones) se cumplen.\n"
   ]
  },
  {
   "cell_type": "code",
   "execution_count": null,
   "metadata": {},
   "outputs": [],
   "source": [
    "a = 20\n",
    "b = 30\n",
    "c = 40"
   ]
  },
  {
   "cell_type": "code",
   "execution_count": null,
   "metadata": {},
   "outputs": [],
   "source": [
    "a == b"
   ]
  },
  {
   "cell_type": "code",
   "execution_count": null,
   "metadata": {},
   "outputs": [],
   "source": [
    "a != b"
   ]
  },
  {
   "cell_type": "code",
   "execution_count": null,
   "metadata": {},
   "outputs": [],
   "source": [
    "a < b"
   ]
  },
  {
   "cell_type": "code",
   "execution_count": null,
   "metadata": {},
   "outputs": [],
   "source": [
    "a <= b"
   ]
  },
  {
   "cell_type": "code",
   "execution_count": null,
   "metadata": {},
   "outputs": [],
   "source": [
    "a > b"
   ]
  },
  {
   "cell_type": "code",
   "execution_count": null,
   "metadata": {},
   "outputs": [],
   "source": [
    "a >= b"
   ]
  },
  {
   "attachments": {},
   "cell_type": "markdown",
   "metadata": {},
   "source": [
    "Se pueden combinar estas expresiones con los conectores lógicos `and`, `or` y `not`."
   ]
  },
  {
   "attachments": {},
   "cell_type": "markdown",
   "metadata": {},
   "source": [
    "En ocasiones, es posible que quiera combinar expresiones de prueba para evaluar varias. En este caso, usaría los operadores booleanos `and` y `or`.\n",
    "\n",
    "### 2.2.1. El operador `or`\n",
    "Puede conectar dos expresiones booleanas, o de prueba, mediante el operador booleano `or`. Para que toda la expresión se evalúe como `True`, al menos una de las subexpresiones debe ser `True`. Si ninguna de las subexpresiones es `True`, toda la expresión se evalúa como `False`. \n",
    "\n",
    "Si las dos subexpresiones son true, toda la expresión de prueba también se evalúa como `True`.\n",
    "\n",
    "Una expresión booleana que usa `or` tiene la sintaxis siguiente:\n",
    "\n",
    "```\n",
    "sub-expression1 or sub-expression2\n",
    "```\n"
   ]
  },
  {
   "cell_type": "code",
   "execution_count": null,
   "metadata": {},
   "outputs": [],
   "source": [
    "a == b or b == c"
   ]
  },
  {
   "cell_type": "code",
   "execution_count": null,
   "metadata": {},
   "outputs": [],
   "source": [
    "a < b or b == c"
   ]
  },
  {
   "cell_type": "code",
   "execution_count": null,
   "metadata": {},
   "outputs": [],
   "source": [
    "a == b or b < c"
   ]
  },
  {
   "cell_type": "code",
   "execution_count": null,
   "metadata": {},
   "outputs": [],
   "source": [
    "a < b or b < c"
   ]
  },
  {
   "attachments": {},
   "cell_type": "markdown",
   "metadata": {},
   "source": [
    "\n",
    "Esta es la tabla de verdad para or:\n",
    "\n",
    "|sub-expression1\t|Operador\t|sub-expression2\t|Resultado|\n",
    "|---|---|---|---|\n",
    "|`True`\t|`or`\t|`True`\t|`True`|\n",
    "|`True`\t|`or`\t|`False`\t|`True`|\n",
    "|`False`\t|`or`\t|`True`\t|`True`|\n",
    "|`False`\t|`or`\t|`False`\t|`False`|"
   ]
  },
  {
   "attachments": {},
   "cell_type": "markdown",
   "metadata": {},
   "source": [
    "### 2.2.2. El operador `and`\n",
    "También puede conectar dos expresiones de prueba mediante el operador booleano `and`. Las dos condiciones de la expresión de prueba deben cumplirse para que toda la expresión de prueba se evalúe como `True`. En cualquier otro caso, la expresión de prueba es `False`. \n",
    "\n",
    "Una expresión booleana que usa `and` tiene la sintaxis siguiente:\n",
    "```\n",
    "sub-expression1 and sub-expression2\n",
    "```\n"
   ]
  },
  {
   "cell_type": "code",
   "execution_count": null,
   "metadata": {},
   "outputs": [],
   "source": [
    "a == b and b == c"
   ]
  },
  {
   "cell_type": "code",
   "execution_count": null,
   "metadata": {},
   "outputs": [],
   "source": [
    "a < b and b == c"
   ]
  },
  {
   "cell_type": "code",
   "execution_count": null,
   "metadata": {},
   "outputs": [],
   "source": [
    "a == b and b < c"
   ]
  },
  {
   "cell_type": "code",
   "execution_count": null,
   "metadata": {},
   "outputs": [],
   "source": [
    "a < b and b < c"
   ]
  },
  {
   "attachments": {},
   "cell_type": "markdown",
   "metadata": {},
   "source": [
    "\n",
    "\n",
    "Esta es la tabla de verdad para `and`:\n",
    "\n",
    "|sub-expression1\t|Operador\t|sub-expression2\t|Resultado|\n",
    "|---|---|---|---|\n",
    "|`True`\t|`and`\t|`True`\t|`True`|\n",
    "|`True`\t|`and`\t|`False`\t|`False`|\n",
    "|`False`\t|`and`\t|`True`\t|`False`|\n",
    "|`False`\t|`and`\t|`False`\t|`False`|\n",
    "\n",
    "\n",
    "\n"
   ]
  },
  {
   "attachments": {},
   "cell_type": "markdown",
   "metadata": {},
   "source": [
    "> **Nota:** En Python, `None` y `0` también se interpretan como `False`."
   ]
  },
  {
   "cell_type": "code",
   "execution_count": null,
   "metadata": {},
   "outputs": [],
   "source": [
    "False"
   ]
  },
  {
   "cell_type": "code",
   "execution_count": null,
   "metadata": {},
   "outputs": [],
   "source": [
    "bool(0)"
   ]
  },
  {
   "cell_type": "code",
   "execution_count": null,
   "metadata": {},
   "outputs": [],
   "source": [
    "bool(None)"
   ]
  },
  {
   "attachments": {},
   "cell_type": "markdown",
   "metadata": {},
   "source": [
    "### 2.2.3. Operador `not`\n",
    "\n",
    "Es un operador unario (que solo toma un solo operando) que se asocia por la derecha (que el operando se encuentra a la derecha) que invierte el valor lógico del operando; es decir, si el operando es `True` conviete la expresión en `False` y viceversa.\n",
    "\n",
    "Una expresión booleana que usa `not` tiene la siguiente estructura:\n",
    "\n",
    "```\n",
    "not expresión\n",
    "```\n"
   ]
  },
  {
   "cell_type": "code",
   "execution_count": null,
   "metadata": {},
   "outputs": [],
   "source": [
    "not a < b"
   ]
  },
  {
   "cell_type": "code",
   "execution_count": null,
   "metadata": {},
   "outputs": [],
   "source": [
    "not False"
   ]
  },
  {
   "attachments": {},
   "cell_type": "markdown",
   "metadata": {},
   "source": [
    "\n",
    "\n",
    "Y su tabla de verdad es:\n",
    "\n",
    "|operador|expresión|Resultado|\n",
    "|---|---|---|\n",
    "`not`|`True`|`False`\n",
    "`not` | `False` | `True`"
   ]
  },
  {
   "attachments": {},
   "cell_type": "markdown",
   "metadata": {},
   "source": [
    "## 2.3. Expresiones compuestas\n",
    "\n",
    "Se pueden combinar los operadores lógicos para crear expresiones más complejas que permitan verificar una condición, por ejemplo:"
   ]
  },
  {
   "cell_type": "code",
   "execution_count": null,
   "metadata": {},
   "outputs": [],
   "source": [
    "a == b and b == c or a < b"
   ]
  },
  {
   "attachments": {},
   "cell_type": "markdown",
   "metadata": {},
   "source": [
    "En este ejemplo, se emplean dos operadores. Se evalúan de izquierda a derecha; es decir que se evalúa primero el `and` y después el `or`, por lo que la siguiente expresión es equivalente:"
   ]
  },
  {
   "cell_type": "code",
   "execution_count": null,
   "metadata": {},
   "outputs": [],
   "source": [
    "(a == b and b == c) or a < b"
   ]
  },
  {
   "attachments": {},
   "cell_type": "markdown",
   "metadata": {},
   "source": [
    "> El uso de los paréntesis permite desambiguar la expresión, para que sea claro cual es el orden en el que se realizan las operaciones. Recomiendo utilizar paréntesis para ganar claridad.\n",
    "\n",
    "Si quisieramos que se evalúe primero el `or` hay que usar paréntesis:"
   ]
  },
  {
   "cell_type": "code",
   "execution_count": null,
   "metadata": {},
   "outputs": [],
   "source": [
    "a == b and (b == c or a < b)"
   ]
  },
  {
   "attachments": {},
   "cell_type": "markdown",
   "metadata": {},
   "source": [
    "En este caso el valor de la expresión es diferente debido al cambio de órden en la evaluación de las operaciones.\n",
    "\n",
    "Siempre es recomendable preferir la claridad. Aunque las variables se pueden definir con cualquier nombre, es recomendable darles uno que sea descriptivo; para que de esta forma la codificación de la lógica del programa sea más fácil de entender."
   ]
  },
  {
   "cell_type": "code",
   "execution_count": null,
   "metadata": {},
   "outputs": [],
   "source": [
    "temperatura_alta = True\n",
    "humedad_alta = True\n",
    "hay_polvo = True\n",
    "recibo_electricidad_alto = True\n",
    "silencio_necesario = False\n",
    "\n",
    "ventilar = ((temperatura_alta and not recibo_electricidad_alto) or (hay_polvo and humedad_alta)) and not silencio_necesario\n",
    "ventilar"
   ]
  },
  {
   "cell_type": "code",
   "execution_count": null,
   "metadata": {},
   "outputs": [],
   "source": [
    "print('TA', 'HA', 'POLVO', 'REA', 'SN', 'VENT?', sep='\\t| ', end='\\t|\\n')\n",
    "print('-'*50)\n",
    "for temperatura_alta in [True, False]:\n",
    "    for humedad_alta in [True, False]:\n",
    "        for hay_polvo in [True, False]:\n",
    "            for recibo_electricidad_alto in [True, False]:\n",
    "                for silencio_necesario in [True, False]:\n",
    "                    ventilar = ((temperatura_alta and not recibo_electricidad_alto) or (hay_polvo and humedad_alta)) and not silencio_necesario\n",
    "                    print(temperatura_alta, humedad_alta, hay_polvo, recibo_electricidad_alto, silencio_necesario, ventilar, sep='\\t| ', end='\\t|\\n')"
   ]
  },
  {
   "cell_type": "markdown",
   "metadata": {},
   "source": [
    "# Ejercicios"
   ]
  },
  {
   "cell_type": "markdown",
   "metadata": {},
   "source": [
    "## I. Calcular la tabla de verdad de las siguientes expresiones:\n",
    "\n",
    "1. `a or b and c`\n",
    "1. `(x and not y) or (not x and y)`"
   ]
  },
  {
   "cell_type": "code",
   "execution_count": null,
   "metadata": {},
   "outputs": [],
   "source": [
    "# Agregue aquí su código para la tabla de verdad de la expresión 1\n"
   ]
  },
  {
   "cell_type": "code",
   "execution_count": null,
   "metadata": {},
   "outputs": [],
   "source": [
    "# Agregue aquí su código para la tabla de verdad de la expresión 2\n"
   ]
  },
  {
   "cell_type": "markdown",
   "metadata": {},
   "source": [
    "## II. Implementar `XOR` utilizando operadores lógicos\n",
    "\n",
    "Una compuerta lógica `XOR` corresponde a la siguiente tabla de verdad:\n",
    "\n",
    "| A\t| op\t| B\t|Resultado|\n",
    "|---|---|---|---|\n",
    "|`True`\t|`xor`\t|`True`\t|`False`|\n",
    "|`True`\t|`xor`\t|`False`\t|`True`|\n",
    "|`False`\t|`xor`\t|`True`\t|`True`|\n",
    "|`False`\t|`xor`\t|`False`\t|`False`|"
   ]
  },
  {
   "cell_type": "code",
   "execution_count": null,
   "metadata": {},
   "outputs": [],
   "source": [
    "# Agrege aquí su código \n"
   ]
  },
  {
   "attachments": {},
   "cell_type": "markdown",
   "metadata": {},
   "source": [
    "# Resumen\n",
    "En esta sección hemos aprendido sobre la lógica Booleana, sobre las expresiones lógicas, así como de los operadores que nos permiten crear este tipo de expresiones. Analizamos las tablas de verdad de los operadores lógicos y vimos cómo combinar los operadores en expresiones compuestas"
   ]
  }
 ],
 "metadata": {
  "kernelspec": {
   "display_name": "cursoMS",
   "language": "python",
   "name": "python3"
  },
  "language_info": {
   "codemirror_mode": {
    "name": "ipython",
    "version": 3
   },
   "file_extension": ".py",
   "mimetype": "text/x-python",
   "name": "python",
   "nbconvert_exporter": "python",
   "pygments_lexer": "ipython3",
   "version": "3.10.10"
  },
  "orig_nbformat": 4
 },
 "nbformat": 4,
 "nbformat_minor": 2
}
