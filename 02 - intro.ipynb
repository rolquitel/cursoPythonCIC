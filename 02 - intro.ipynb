{
 "cells": [
  {
   "attachments": {},
   "cell_type": "markdown",
   "metadata": {},
   "source": [
    "# Trabajo con salidas\n",
    "\n",
    "Cuando empiece a aprender cualquier lenguaje de programación, primero pruebe algunas instrucciones de código en un bucle read-evaluate-print loop (REPL). Sin embargo, no tardará en tener que evolucionar a una fase de desarrollo más importante. Esto supone aprender más sobre el lenguaje, cómo estructurar un programa y mucho más."
   ]
  },
  {
   "attachments": {},
   "cell_type": "markdown",
   "metadata": {},
   "source": [
    "## Un programa de Python\n",
    "Para crear un programa en Python, debe almacenarlo en un archivo. El archivo debe tener la extensión .py.\n",
    "\n",
    "La idea de un programa es hacer algo o llevar a cabo una tarea. Para conseguir que el programa haga algo, usted deberá agregar las instrucciones necesarias para que realice la tarea. Por ejemplo, una instrucción podría imprimir texto o calcular algo. Un programa de ejemplo como python.py puede tener un aspecto parecido al siguiente:"
   ]
  },
  {
   "cell_type": "code",
   "execution_count": 1,
   "metadata": {},
   "outputs": [
    {
     "name": "stdout",
     "output_type": "stream",
     "text": [
      "3\n"
     ]
    }
   ],
   "source": [
    "# program.py\n",
    "sum = 1 + 2\n",
    "print(sum)"
   ]
  },
  {
   "attachments": {},
   "cell_type": "markdown",
   "metadata": {},
   "source": [
    "## Ejecutar un programa\n",
    "\n",
    "Suponga que ha creado un programa que consta de varias instrucciones. Para ejecutarlo, inicie el programa ejecutable de Python en una consola. Una consola es una aplicación de línea de comandos que le permite interactuar con el sistema operativo. Para ejecutar un programa, escriba el nombre del programa ejecutable de Python, seguido del nombre del programa. Este es un ejemplo de una ejecución de este tipo:\n",
    "\n",
    "```\n",
    "python3 program.py\n",
    "```\n",
    "\n",
    "La ejecución de este tipo de programa mostraría el siguiente resultado en la consola:\n",
    "\n",
    "```\n",
    "3\n",
    "```\n"
   ]
  },
  {
   "attachments": {},
   "cell_type": "markdown",
   "metadata": {},
   "source": [
    "## Función `print()`\n",
    "\n",
    "Una de las primeras cosas que es probable que haga es imprimir en una consola. En la consola, puede ejecutar comandos y programas. También puede escribir información y mostrarla como texto en la pantalla.\n",
    "\n",
    "Para escribir información en la consola, puede usar la función `print()` e implementarla como una función principal. Como se trata de una función principal, tendrá acceso a ella si Python está instalado. Para usarlo `print()` en el programa, asígnele un argumento:\n"
   ]
  },
  {
   "cell_type": "code",
   "execution_count": null,
   "metadata": {},
   "outputs": [],
   "source": [
    "print(\"show this in the console\")"
   ]
  },
  {
   "attachments": {},
   "cell_type": "markdown",
   "metadata": {},
   "source": [
    "Observe cómo el comando anterior llama a `print()` mediante el uso de paréntesis. Así es como se ejecuta una función. Si ha usado corchetes (`[]`) en lugar de paréntesis, no funcionará, ya que observará si ejecuta el programa de nuevo con este código:\n"
   ]
  },
  {
   "cell_type": "code",
   "execution_count": null,
   "metadata": {},
   "outputs": [],
   "source": [
    "print[\"show this in the console\"]"
   ]
  },
  {
   "attachments": {},
   "cell_type": "markdown",
   "metadata": {},
   "source": [
    "Otro aspecto que hay que tener en cuenta es el uso de comillas dobles (`\"\"`). Así es como se declara un literal de cadena, con un valor como el que se va a imprimir: `\"mostrar esto en la consola\"`.\n",
    "\n",
    "## Variables\n",
    "Para llegar a cualquier lugar con la codificación, debe comprender que está trabajando con datos. Como el programa funciona con datos, es posible que tenga que recordar un valor determinado durante la ejecución del programa. Para ello, se usan variables.\n",
    "\n",
    "En el ejemplo siguiente se realiza un cálculo que se almacena en variables:\n"
   ]
  },
  {
   "cell_type": "code",
   "execution_count": null,
   "metadata": {},
   "outputs": [],
   "source": [
    "sum = 1 + 2 # 3\n",
    "product = sum * 2\n",
    "print(product)"
   ]
  },
  {
   "attachments": {},
   "cell_type": "markdown",
   "metadata": {},
   "source": [
    "## Tipos de datos\n",
    "\n",
    "Una variable asume un tipo de datos. En el programa anterior, sum obtiene el tipo `int`. Sin embargo, hay muchos más tipos de datos. Probablemente pueda encontrar algunos de los siguientes:\n",
    "\n",
    "|Tipo|Descripción|Ejemplo|\n",
    "|---|---|---|\n",
    "Tipo numérico|\tNúmero, con o sin decimales\t|`int, float, complex, no = 3`\n",
    "Tipo de texto|\tCadena de caracteres\t| `str = \"a literal string\"`\n",
    "Tipo booleano|\tBoolean\t| `continue = True`\n",
    "\n",
    "\n",
    "Hay tipos más complejos, pero vamos a empezar por estos.\n",
    "\n",
    "Este es un fragmento de código que muestra algunos de los tipos anteriores:\n"
   ]
  },
  {
   "cell_type": "code",
   "execution_count": 2,
   "metadata": {},
   "outputs": [],
   "source": [
    "planets_in_solar_system = 8 # int, pluto used to be the 9th planet, but is too small\n",
    "distance_to_alpha_centauri = 4.367 # float, lightyears\n",
    "can_liftoff = True\n",
    "shuttle_landed_on_the_moon = \"Apollo 11\" #string "
   ]
  },
  {
   "attachments": {},
   "cell_type": "markdown",
   "metadata": {},
   "source": [
    "¿Cómo saber qué tipo tiene algo? Si ve que los datos se asignan a la variable como se muestra en el código siguiente, puede detectarlo:"
   ]
  },
  {
   "cell_type": "code",
   "execution_count": null,
   "metadata": {},
   "outputs": [],
   "source": [
    "distance_to_alpha_centauri = 4.367 # looks like a float"
   ]
  },
  {
   "attachments": {},
   "cell_type": "markdown",
   "metadata": {},
   "source": [
    "La otra manera es usar la función `type()`:"
   ]
  },
  {
   "cell_type": "code",
   "execution_count": 3,
   "metadata": {},
   "outputs": [
    {
     "data": {
      "text/plain": [
       "float"
      ]
     },
     "execution_count": 3,
     "metadata": {},
     "output_type": "execute_result"
    }
   ],
   "source": [
    "type(distance_to_alpha_centauri) ## <class 'float'>"
   ]
  },
  {
   "attachments": {},
   "cell_type": "markdown",
   "metadata": {},
   "source": [
    "Operadores\n",
    "Los operadores permiten realizar varias operaciones en las variables y sus valores. La idea general es que hay un lado izquierdo, un lado derecho y un operador en el medio:\n",
    "\n",
    "```\n",
    "<left side> <operator> <right side>\n",
    "```\n",
    "\n",
    "Este es el aspecto que tendría un ejemplo real del código de marcador de posición anterior:\n",
    "\n"
   ]
  },
  {
   "cell_type": "code",
   "execution_count": null,
   "metadata": {},
   "outputs": [],
   "source": [
    "left_side = 10\n",
    "right_side = 5\n",
    "left_side / right_side # 2"
   ]
  },
  {
   "attachments": {},
   "cell_type": "markdown",
   "metadata": {},
   "source": [
    "En este ejemplo se usa una barra diagonal (`/`) para dividir el valor `left_side` por el valor `right_side`.\n",
    "\n",
    "Hay muchos más operadores. En esta unidad se describen algunos aspectos importantes que es probable que encuentre.\n",
    "\n",
    "Python usa dos tipos de operadores: aritmético y asignación.\n",
    "\n",
    "### Operadores aritméticos\n",
    "Con los operadores aritméticos, se hacen cálculos como suma, resta, división y multiplicación. Este es un subconjunto de operadores aritméticos que puede usar:\n",
    "\n",
    "|Tipo|Descripción|Ejemplo|\n",
    "|---|---|---|\n",
    "`+`\t|Operador de suma que agrega dos valores juntos\t|`1 + 1`\n",
    "`-`\t|Operador de resta que quita el valor del lado derecho del lado izquierdo\t|`1 - 2`\n",
    "`/`\t|Operador de división que divide el lado izquierdo tantas veces como el lado derecho especifica\t|`10 / 2`\n",
    "`*`\t|Operador de multiplicación\t|`2 * 2`\n",
    "\n",
    "### Operadores de asignación\n",
    "Puede usar operadores de asignaciónpara asignar valores a una variable a lo largo del ciclo de vida de la variable. Estos son algunos operadores de asignación que es probable que encuentre a medida que aprende a compilar programas:\n",
    "\n",
    "|Operador|Ejemplo|\n",
    "|---|---|\n",
    "`=`\t    |`x = 2` <br/>x ahora contiene 2.\n",
    "`+=`\t|`x += 2` <br/>x incrementado en 2. Si contenía 2 antes, ahora tiene un valor de 4.\n",
    "`-=`\t|`x -= 2` <br/>x reducido en 2. Si contenía 2 antes, ahora tiene un valor de 0.\n",
    "`/=`\t|`x /= 2` <br/>x dividido por 2. Si contenía 2 antes, ahora tiene un valor de 1.\n",
    "`*=`\t|`x *= 2` <br/>x multiplicado por 2. Si contenía 2 antes, ahora tiene un valor de 4.\n",
    "\n",
    "## Fechas\n",
    "Al compilar programas, es probable que interactúe con fechas. Una fecha en un programa suele indicar tanto la fecha del calendario como la hora.\n",
    "\n",
    "Puede usar una fecha en varias aplicaciones, como en estos ejemplos:\n",
    "\n",
    "* **Archivo de copia de seguridad:** El uso de una fecha como parte del nombre de un archivo de copia de seguridad es una buena manera de indicar cuándo se realizó una copia de seguridad y cuándo es necesario realizarla de nuevo.\n",
    "* **Condición:** Es posible que quiera llevar una lógica específica cuando haya una fecha determinada.\n",
    "* **Métrica:** Las fechas se usan para comprobar el rendimiento del código para, por ejemplo, medir el tiempo necesario para ejecutar una función.\n",
    "\n",
    "Para trabajar con una fecha, debe importar el módulo date. A continuación, puede llamar a las funciones con las que quiere trabajar. Para obtener la fecha de hoy, puede llamar a la función `today()`. Para mostrar la fecha en la consola, puede usar la función `print()`. La función print() adopta muchos tipos de datos como entrada. Aquí se muestra cómo puede mostrar la fecha de hoy:\n"
   ]
  },
  {
   "cell_type": "code",
   "execution_count": 5,
   "metadata": {},
   "outputs": [
    {
     "name": "stdout",
     "output_type": "stream",
     "text": [
      "2023-03-25\n"
     ]
    }
   ],
   "source": [
    "from datetime import date\n",
    "\n",
    "print(date.today())"
   ]
  },
  {
   "attachments": {},
   "cell_type": "markdown",
   "metadata": {},
   "source": [
    "### Conversión de tipos de datos\n",
    "Quiere usar una fecha con algo, normalmente una cadena. Si, por ejemplo, desea mostrar la fecha de hoy en la consola, podría experimentar algún problema:"
   ]
  },
  {
   "cell_type": "code",
   "execution_count": 6,
   "metadata": {},
   "outputs": [
    {
     "ename": "TypeError",
     "evalue": "can only concatenate str (not \"datetime.date\") to str",
     "output_type": "error",
     "traceback": [
      "\u001b[0;31m---------------------------------------------------------------------------\u001b[0m",
      "\u001b[0;31mTypeError\u001b[0m                                 Traceback (most recent call last)",
      "Cell \u001b[0;32mIn[6], line 1\u001b[0m\n\u001b[0;32m----> 1\u001b[0m \u001b[39mprint\u001b[39m(\u001b[39m\"\u001b[39;49m\u001b[39mToday\u001b[39;49m\u001b[39m'\u001b[39;49m\u001b[39ms date is: \u001b[39;49m\u001b[39m\"\u001b[39;49m \u001b[39m+\u001b[39;49m date\u001b[39m.\u001b[39;49mtoday())\n",
      "\u001b[0;31mTypeError\u001b[0m: can only concatenate str (not \"datetime.date\") to str"
     ]
    }
   ],
   "source": [
    "print(\"Today's date is: \" + date.today())"
   ]
  },
  {
   "attachments": {},
   "cell_type": "markdown",
   "metadata": {},
   "source": [
    "La última fila del mensaje le indica cuál es el problema. Está intentando usar el operador `+` y combinar dos tipos de datos diferentes, una cadena y una fecha.\n",
    "\n",
    "Para que este código funcione, debe convertir la fecha en una cadena. Para realizar esta conversión, use la función de utilidad `str()`:"
   ]
  },
  {
   "cell_type": "code",
   "execution_count": 7,
   "metadata": {},
   "outputs": [
    {
     "name": "stdout",
     "output_type": "stream",
     "text": [
      "Today's date is: 2023-03-25\n"
     ]
    }
   ],
   "source": [
    "print(\"Today's date is: \" + str(date.today()))"
   ]
  },
  {
   "attachments": {},
   "cell_type": "markdown",
   "metadata": {},
   "source": [
    "# Recopilación de entradas\n",
    "\n",
    "Hasta ahora, ha aprendido varias construcciones del lenguaje de programación Python. También ha escrito un par de programas. Sin embargo, los programas funcionan con datos, y los datos proceden de algún lugar. En esta unidad, echará un vistazo más de cerca a cómo puede recopilar entradas tanto a partir de la línea de comandos como a partir de la entrada del usuario.\n",
    "\n",
    "## Entrada de la línea de comandos\n",
    "Al iniciar un programa mediante python3, se le asigna el nombre del archivo que se va a iniciar. También puede asignarle un conjunto de argumentos: datos a los que el programa tendrá acceso al ejecutarse. Este es el aspecto que puede tener:\n",
    "\n",
    "```\n",
    "python3 backup.py 2023-01-01\n",
    "```\n",
    "\n",
    "En el código anterior, la cadena \"2023-01-01\" se puede usar como instrucción para que el programa backup.py inicie una copia de seguridad a partir de esa fecha. Lo que se consigue mediante el uso de argumentos de la línea de comandos es flexibilidad. El programa puede comportarse de forma diferente en función de su entrada externa.\n",
    "\n",
    "Argumentos de la línea de comandos\n",
    "¿Cómo se capturan estos comandos desde la perspectiva de la codificación? Mediante el módulo sys, puede recuperar los argumentos de la línea de comandos y usarlos en el programa. Observe el código siguiente:\n"
   ]
  },
  {
   "cell_type": "code",
   "execution_count": 8,
   "metadata": {},
   "outputs": [
    {
     "name": "stdout",
     "output_type": "stream",
     "text": [
      "['/Users/rolando/opt/anaconda3/envs/cursoMS/lib/python3.10/site-packages/ipykernel_launcher.py', '--ip=127.0.0.1', '--stdin=9027', '--control=9025', '--hb=9024', '--Session.signature_scheme=\"hmac-sha256\"', '--Session.key=b\"79f11ce9-43fe-41d8-a4ac-e84796cd6376\"', '--shell=9026', '--transport=\"tcp\"', '--iopub=9028', '--f=/Users/rolando/Library/Jupyter/runtime/kernel-v2-10265rCwUY9UHu4sk.json']\n",
      "/Users/rolando/opt/anaconda3/envs/cursoMS/lib/python3.10/site-packages/ipykernel_launcher.py\n",
      "--ip=127.0.0.1\n"
     ]
    }
   ],
   "source": [
    "import sys\n",
    "\n",
    "print(sys.argv)\n",
    "print(sys.argv[0]) # program name\n",
    "print(sys.argv[1]) # first arg"
   ]
  },
  {
   "attachments": {},
   "cell_type": "markdown",
   "metadata": {},
   "source": [
    "`sys.argv` es una matriz o estructura de datos que contiene muchos elementos. La primera posición, que se indica como 0 en la matriz, contiene el nombre del programa. La segunda posición, 1, contiene el primer argumento. Supongamos que el programa backup.py contiene el código de ejemplo y lo ejecuta de la siguiente manera:\n",
    "\n",
    "```\n",
    "python3 backup.py 2023-01-01\n",
    "```\n",
    "\n",
    "A continuación, el programa genera el siguiente resultado:\n",
    "\n",
    "```\n",
    "['backup.py', '2023-01-01'] \n",
    "backup.py\n",
    "2023-01-01\n",
    "```\n",
    "\n",
    "## Entrada de usuario\n",
    "\n",
    "Otra manera de pasar datos al programa es hacer que el usuario escriba los datos. Puede codificarlo para que el programa indique al usuario que escriba información. Guarde los datos especificados en el programa y, a continuación, trabaje con ellos.\n",
    "\n",
    "Para capturar información del usuario, use la función `input()`. Este es un ejemplo:\n",
    "\n"
   ]
  },
  {
   "cell_type": "code",
   "execution_count": 9,
   "metadata": {},
   "outputs": [
    {
     "name": "stdout",
     "output_type": "stream",
     "text": [
      "Welcome to the greeter program\n",
      "Greetings Rolando\n"
     ]
    }
   ],
   "source": [
    "print(\"Welcome to the greeter program\")\n",
    "name = input(\"Enter your name: \")\n",
    "print(\"Greetings \" + name)"
   ]
  },
  {
   "attachments": {},
   "cell_type": "markdown",
   "metadata": {},
   "source": [
    "Supongamos que el programa input.py contiene el mismo código y lo ejecuta de la siguiente manera:\n",
    "\n",
    "```\n",
    "python3 input.py\n",
    "```\n",
    "\n",
    "Al ejecutar el programa, se le invita a escribir su nombre, por ejemplo:\n",
    "\n",
    "```\n",
    "Welcome to the greeter program\n",
    "Enter your name: \n",
    "```\n",
    "\n",
    "Después de escribir un valor y presionar Enter (Entrar), se devuelve el saludo:\n",
    "\n",
    "```\n",
    "Welcome to the greeter program\n",
    "Enter your name: Picard\n",
    "Greetings Picard\n",
    "```\n",
    "\n",
    "### Trabajo con números\n",
    "La función `input()` almacena un resultado como una cadena, por lo que es posible que el código siguiente no haga lo que quiera:\n",
    "\n",
    "La ejecución de este programa le invita a escribir el primer número, supongamos: 3\n",
    "\n",
    "Después de presionar Enter (Entrar), puede escribir el segundo número, supongamos: 4\n"
   ]
  },
  {
   "cell_type": "code",
   "execution_count": 10,
   "metadata": {},
   "outputs": [
    {
     "name": "stdout",
     "output_type": "stream",
     "text": [
      "calculator program\n",
      "34\n"
     ]
    }
   ],
   "source": [
    "print(\"calculator program\")\n",
    "first_number = input(\"first number: \")\n",
    "second_number = input(\"second number: \")\n",
    "print(first_number + second_number)"
   ]
  },
  {
   "attachments": {},
   "cell_type": "markdown",
   "metadata": {},
   "source": [
    "Probablemente ha pensado en que este programa le responda con 7 lugar de 34. ¿Qué ha fallado?\n",
    "\n",
    "La explicación es que `first_number` y `second_number` son cadenas. Para que el cálculo funcione correctamente, debe cambiar esas cadenas a números mediante la función `int()`. Al modificar la última línea del programa para usar `int()`, puede resolver el problema:\n"
   ]
  },
  {
   "cell_type": "code",
   "execution_count": 11,
   "metadata": {},
   "outputs": [
    {
     "name": "stdout",
     "output_type": "stream",
     "text": [
      "7\n"
     ]
    }
   ],
   "source": [
    "print(int(first_number) + int(second_number))"
   ]
  }
 ],
 "metadata": {
  "kernelspec": {
   "display_name": "cursoMS",
   "language": "python",
   "name": "python3"
  },
  "language_info": {
   "codemirror_mode": {
    "name": "ipython",
    "version": 3
   },
   "file_extension": ".py",
   "mimetype": "text/x-python",
   "name": "python",
   "nbconvert_exporter": "python",
   "pygments_lexer": "ipython3",
   "version": "3.10.10"
  },
  "orig_nbformat": 4
 },
 "nbformat": 4,
 "nbformat_minor": 2
}
