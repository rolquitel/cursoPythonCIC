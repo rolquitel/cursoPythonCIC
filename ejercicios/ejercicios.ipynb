{
 "cells": [
  {
   "cell_type": "markdown",
   "metadata": {},
   "source": [
    "# Ejercicios de programación en Python"
   ]
  },
  {
   "cell_type": "markdown",
   "metadata": {},
   "source": [
    "## Nivel I\n",
    "\n",
    "Uso de lenguaje y algorítmica básica.\n",
    "\n",
    "> Nota: Estos programas son los que deben poder hacer los estudiantes que terminaron el curso de Programación I (primer semestre). Es recomendable que sean desarrollados durante dicho curso. En el caso de los problemas que piden una función o rutina que realice una tarea específica, es necesario un programa dondes sea probada. Es en este nivel donde es importante inculcar buenas costumbres de codificación."
   ]
  },
  {
   "cell_type": "markdown",
   "metadata": {},
   "source": [
    "### I.1. Uso básico del lenguaje"
   ]
  },
  {
   "cell_type": "markdown",
   "metadata": {},
   "source": [
    "1. Escribir un programa que imprima un mensaje en la pantalla.\n",
    "2. Escribir un programa que declare y defina 2 variables de distinto tipo y muestre en pantalla sus valores. La impresión puede ir acompañada de mensajes. Se puede llamar una o más veces a la función printf.\n",
    "3. Un programa que lea del teclado los valores de dos variables y los imprima.\n",
    "4. Un programa que calcule el área de un triángulo dados la altura y la base o los tres lados. Se puede continuar hasta que el usuario desee.\n",
    "5. Calcularconunciclolasumade1hastan. Elvalordenpuedeserfijoocapturadodelteclado.\n",
    "6. Calcular la suma de los números pares e impares del 1 hasta n. El valor de n puede ser fijo o capturado del teclado.\n",
    "7. Tablas de conversión de unidades: metros a pies, pulgadas a centímetros, grados Farenheit a Celsius, kilogramos a libras, kilómetros a millas. Se puede hacer un programa que dé una tabla una vez que el usuario da los límites y el incremento o se puede utilizar un menú para determinar el tipo de conversión que el usuario desea, utilizando un switch. Opcionalmente, el programa puede preguntar por la cantidad a convertir.\n",
    "8. Escribir macros (usando la directiva de preprocesador #define) para calcular el menor y mayor de dos y tres números dados, así como la mediana de tres números dados.\n",
    "9. Escribir macros (usando la directiva de preprocesador #define) para calcular el cuadrado de un número dado.\n",
    "10. Escribir macros para calcular la cantidad de bits que utiliza cada tipo de dato, de al menos dos formas.\n",
    "11. Escribir una función que indique si el caracter recibido es una vocal. Puede hacerse también utilizando una macro.\n",
    "12. Escribir segmentos de cógico utilizando las sentencias if y goto de manera que se simule el comportamiento de las sentencias de control while, for, do-while y switch.\n",
    "13. Escribir toda la tabla de códigos ASCII imprimibles en la pantalla, tanto el código como el símbolo. Opcionalmente se debe poder escribir los caracteres extendidos (128 - 255). Utilícese varias columnas de tal manera que todos qepan en la pantalla.\n",
    "14. Presentar una tabla de evaluación de cuatro funciones en seis puntos distintos.\n",
    "15. Hacer un programa para comparar la velocidad de cada tipo de ciclo haciendo uso del Turbo Profiler (while, for, do-while).\n",
    "16. Escribir un programa que indique la cantidad de bytes asignados a un char, int, short int, long int y otros.\n",
    "17. Escribir una función que reciba un flotante y dos enteros e indique cuántos de eses enteros dividen al flotante. (0 si ninguno lo divide.) Es claro que si el flotante tiene parte fraccionaria ninguno lo dividirá.\n",
    "18. Escribir una función que reciba dos enteros y regrese la suma de los múltiplos de 3 que están en el intervalo cerrrado determinado por los dos números."
   ]
  },
  {
   "cell_type": "markdown",
   "metadata": {},
   "source": [
    "### I.2. Rutinas Matemáticas"
   ]
  },
  {
   "cell_type": "markdown",
   "metadata": {},
   "source": [
    "1. Calcular las raíces de una ecuación cuadrática dada. Considérense las raíces complejas. El usuario capturará los coeficientes.\n",
    "2. Implementar la función factorial iterativa y recursivamente.\n",
    "3. Generar los números de Fibonacci. Ir calculando los cocientes de dos números consecutivos en esta misma serie (el último entre el anterior). Escribir una versión recursiva y otra iterativa. Vale la pena comparar el desempeño de las rutinas.\n",
    "4. Generar los números primos en el rango que el usuario indique, por ejemplo del 100 al 200.\n",
    "5. Escriba una rutina para calcular la suma de los números primos menores o iguales a n.\n",
    "6. Escriba una función que encuentre los números primos que son de la forma n!+1.\n",
    "7. Escribir una función que calcule el mcm de dos números enteros dados y otra que calcule el mcm de tres enteros dados.\n",
    "8. Escribir una función que calcule el mcd de dos números enteros dados y otra que calcule el mcd de tres enteros dados.\n",
    "9. Calcular la media y la moda de un conjunto de números enteros.\n",
    "10. Un generador de números aleatorios sencillo. También un generador de números aleatorios con distribución gausiana.\n",
    "11. Obtener la descomposición canónica de un entero dado, como el comando factor de UNIX.\n",
    "12. Dado un arreglo con los enteros consecutivos comenzando en 2, utilice la criba de Eratóstenes para obtener los números primos del arreglo. Optimizar lo más posible esta rutina.\n",
    "13. Escribir una rutina que calcule la suma y el producto de dos polinomios. Cada polinomio estará definido por el arreglo de dobles de sus coeficientes (hay al menos dos posibles versiones para cada operación).\n",
    "14. Programar una rutina de evaluación de polinomios haciendo uso de división sintética.\n",
    "15. Una rutina óptima (o al menos eficiente) para calcular combinaciones y otra para permutaciones. Tales rutinas deberán permitir cálculos con números muy grandes.\n",
    "16. Dos rutinas diferentes que encuentren la subsucesión de suma máxima de un conjunto lineal de números enteros dado.\n",
    "17. Una función que calcule cuántas combinaciones de enteros positivos suman n.\n",
    "18. De todas los conjuntos de números positivos que suman n, encontrar la combinación de producto máximo. Puede fijarse el cardinal de los conjuntos, por ejemplo buscar en puros conjuntos de tres números.\n",
    "19. Escribir una rutina que genere en orden ascendente todos los múltiplos de los números primos que se indiquen.\n",
    "20. Rutinas para sumar, restar y multiplicar matrices.\n",
    "21. Implementar el método de Gauss-Jordan para solución de sistemas de ecuaciones lineales. Háganse rutinas con y sin pivoteo.\n",
    "22. Una rutina que calcule el determinante de una matriz.\n",
    "23. Programar rutinas para aproximar con polinomios de McLaurin las funciones seno, coseno, logaritmo, raíz cuadrada.\n",
    "24. Un programa que cambie de una base numérica a otra.\n",
    "25. Un programa que aproxime arbitrariamente los números π, e y raíz de 2.\n",
    "26. Para los problemas anteriores que trabajan con punto flotante, opcionalmente el usuario podrá especificar la precisión de despliegue utilizada (dos decimales, tres decimales,...).\n",
    "27. Programar funciones para el manejo aritmético de números enteros muy grandes. Extiéndase para números reales."
   ]
  },
  {
   "cell_type": "markdown",
   "metadata": {},
   "source": [
    "### I.3. Manejo básico de arreglos"
   ]
  },
  {
   "cell_type": "markdown",
   "metadata": {},
   "source": [
    "1. Escribir un programa que capture desde el teclado una cadena de caracteres y la imprima. Otra variante es que el valor de la variable se defina en tiempo de compilación.\n",
    "2. Escribir un programa que capture desde el teclado una cadena de caracteres e imprima su longitud.\n",
    "3. Una función que rote el valor de tres variables dadas (la llamada Rotate(&a, &b, &c) deberá dejar el valor deaenb, el debency el decena).\n",
    "4. Una rutina que diga cuántas vocales hay en una cadena dada.\n",
    "5. Dado un arreglo de números, encontrar el mayor y el menor.\n",
    "6. Invertir el orden de un arreglo de enteros dado.\n",
    "7. Escribir una función que indique si un arreglo está ordenado.\n",
    "8. Dado un conjunto de números, calcular la media mayor de cada dos consecutivos (2 3 5 1 4 2 deberá obtener 4=(5+3)/2).\n",
    "9. Calcular el producto punto de dos vectores n dimensionales. También el producto cruz.\n",
    "10. Calcular la tabla de multiplicar y de sumar hasta el 15, almacenarlas en un arreglo.\n",
    "11. Dada una matriz, calcular su transpuesta.\n",
    "12. Programar un ordenamiento por burbuja.\n",
    "13. Programar una búsqueda binaria en un arreglo de números.\n",
    "14. Rutinas que intercambien el valor de dos variables del mismo tipo (char, unsigned char, char *, unsigned char *, int, ..., struct x *, ...).\n",
    "15. Una función que llene un arreglo de números enteros con números aleatorios (con y sin repetición).\n",
    "16. Presentar los argumentos de la función main."
   ]
  },
  {
   "cell_type": "markdown",
   "metadata": {},
   "source": [
    "### I.4. Manejo de cadenas"
   ]
  },
  {
   "cell_type": "markdown",
   "metadata": {},
   "source": [
    "1. Implementar las funciones tipo `C`: `strlen`, `strcat`, `strcmp`, `strcpy`, `strchr`, `strset`, `strnset`, `isalpha`, `isdigit`, `islower`, `isupper`, `tolower`, `toupper`, `strrev`\n",
    "\n",
    "1. Invertir las mayúsculas y minúsculas de una cadena dada\n",
    "\n",
    "1. Implementar la función `strcmp` de tal forma que opcionalmente distinga o no entre mayúsculas y minúsculas\n",
    "\n",
    "1. Una función que reciba una cadena y un carácter y elimine todas las apariciones de dicho carácter en la cadena. `(“Esta es la cadena”, ‘ ‘)` deberá producir `“Estaeslacadena”`\n",
    "\n",
    "1. Una función que reciba una cadena y dos caracteres y sustituya todas las apariciones del primer carácter en la cadena por el segundo. `(“Esta es la cadena”, ‘a‘, ‘x’)` deberá producir `“Estx es lx cxdenx”`\n",
    "\n",
    "1. Una función que reciba dos cadenas y un entero `n>0`. Las dos cadenas se van a mezclar para formar la salida. La mezcla se realizará tomando `n` caracteres de cada una de las cadenas y copiándolas en la salida. Si se llega al fin de una cadena se concatenará el resto de la otra. La llamada `(“ABCDE”, “abcde”, 2)` deberá producirá la cadena `“ABabCDcdEe”`\n",
    "\n",
    "1. Revise si la cadena es un palindroma.\n",
    "\n",
    "1. Una función que reciba una cadena y un entero `n>0` que invierta cada `n` caracteres, por ejemplo, si recibe `(“ABCDEFGH”,2)` cambiará la cadena a `“BADCFEHG”`, si recibe `(“ABCDEFGH”,3)` cambiará la cadena a `“CBAFEDHG”`. `n=1` dejará la cadena igual.\n",
    "\n",
    "1. Implementar las funciones `atoi()`, `atof()`, `itoa()`, `ftoa()`, `ltoa()`.\n",
    "\n",
    "1. Programar un ordenamiento burbuja que ordene un arreglo de cadenas. \n",
    "\n",
    "1. Programar una búsqueda binaria para un arreglo ordenado de cadenas.\n",
    "\n",
    "1. Ordenar un arreglo de cadenas utilizando el algoritmo de selección. \n",
    "\n",
    "1. Escriba una función que reciba un número entero y que regrese el producto de sus dígitos.\n",
    "\n",
    "1. Escriba una rutina que busque los números que son iguales al producto de sus dígitos.\n",
    "\n",
    "1. Dado una lista de cadenas, insertarlas de manera aleatoria en una matriz cuadrada de caracteres en donde cada lado mida el doble de la longitud de la cadena mayor. La inserción puede contemplar que se crucen dos o más cadenas. El resto de las posiciones de la matriz son llenadas con caracteres de manera aleatoria. Esta es la construcción de un juego de sopa de letras.\n"
   ]
  },
  {
   "cell_type": "markdown",
   "metadata": {},
   "source": [
    "### I.5. Manipulación de bits"
   ]
  },
  {
   "cell_type": "markdown",
   "metadata": {},
   "source": [
    "1. Implementar distintos procedimientos para calcular la cantidad de bits de cada tipo de dato (al menos tres).\n",
    "2. Una función que cuente la cantidad de bits puestos en 1 de un dato recibido.\n",
    "3. Una función que muestre la representación binaria de variables tipo char, unsigned char, int y unsigned int haciendo uso de operaciones bit a bit, usando el operador módulo y mediante una unión de cada tipo de dato con una estructura con campos de bits.\n",
    "4. Hacer una función que reciba un unsigned y una dirección a caracter y regrese la misma dirección de la cadena con la representación binaria del dato recibido (ver problema anterior).\n",
    "5. Hacer un programa que haga lo contrario del problema anterior: a partir de la notación binaria escrita en una cadena de caracteres, genere el número entero correspondiente.\n",
    "6. Hacer una función que indique si un tipo de datos tiene una disposición palindrómica de bits.\n",
    "7. Hacer una función que reciba un byte (o más) y que regrese sus bits en sentido contrario (usando espacio extra y\n",
    "sin usarlo). 10111000 deberá ser convertido en 00011101.\n",
    "8. Implementar rutinas para realizar operaciones con conjuntos, utilizando operaciones bit a bit en variables unsigned long int. Esto implica que el universo estará restringido, pero pueden considerarse arreglos de este tipo de variables para ampliarlo.\n",
    "9. Implementar una rutina que reciba uno o dos bytes y regrese los b siguientes bits que resultan de saltarse los primerosamenossignificativos. Porejemplo,sillegaelbyte00101101ya=2,b=3,elresultadodeberáser 00000011.\n",
    "10. Escriba una función que reciba dos tipos char y que los regrese en un solo tipo int. Se puede también regresar dos enteros acomodados en un entero largo. Intentarlo también con 5 grupos de 3 bits acomodados en 2 bytes.\n",
    "11. Escribir una función que regrese el resultado de rotar n posiciones los bits del entero que recibe: la llamada Nuevo = Rotate_L(Dato, Pos) con Dato=10001101 y Pos=3 dejará Nuevo=01101100. También se puede implementar una que haga rotaciones a la derecha, que podría llamarse Rotate_R."
   ]
  },
  {
   "cell_type": "markdown",
   "metadata": {},
   "source": [
    "### I.6. Manejo de archivos"
   ]
  },
  {
   "cell_type": "markdown",
   "metadata": {},
   "source": [
    "1. Crear dos archivos de texto con números al azar, uno con repeticiones y el otro sin repeticiones. Leer los archivos y almacenarlos en arreglos. (Este problema son dos programas: uno para escritura y otro para lectura.)\n",
    "2. Crear un archivo de texto con cadenas de longitud variada. Leer este archivo y almacenarlo mediante un arreglo de apuntadores. (Este problema son dos programas: uno para escritura y otro para lectura.)\n",
    "3. Hacer uso de los argumentos de main para leer o escribir los archivos generados al azar en los dos puntos anteriores.\n",
    "4. Un programa que muestre la incidencia de cada símbolo en un archivo de texto. El nombre del archivo debe poder ser dado en la línea de comando.\n",
    "5. Programar versiones sencillas los comandos de UNIX wc, diff, cut, sort, rev, grep, cat, tail, paste, more. Consúltese algún libro sobre UNIX.\n",
    "6. Un programa que cuente cuántas palabras de un archivo tiene como primer vocal a la a. Hacerlo para cada vocal.\n",
    "7. Un programa que intercale las líneas de dos archivos.\n",
    "8. Un programa que cuente cuántas palabras con n vocales (distintas y en total) hay en un archivo (n=1,2,3,4). Contar las vocales repetidas en la misma palabra.\n",
    "9. Un preprocesador de C que inserte archivos de cabecera. La salida deberá ser otro programa en C en el que no haya instrucciones #include.\n",
    "10. Un programa que cuente las ocurrencias de las palabras de un archivo de texto.\n",
    "11. Un programa que cuente cuántas palabras hay de la misma longitud. El mismo programa se puede repetir cuándo el estudiante haya visto tablas hash.\n",
    "12. Un programa que construya la tabla de incidencias de cada pareja de letras de un archivo dado. \n",
    "13. Un programa que sustituya toda ocurrencia de una palabra dada por alguna otra en un archivo. \n",
    "14. Un programa que sustituya espacios en un archivo por tabuladores y viceversa.\n",
    "15. Un programa que justifique un archivo de texto a un ancho dado.\n",
    "16. Un programa que ponga números de línea en un archivo de texto.\n",
    "17. Construya un juego de sopa de letras, donde el conjunto de cadenas que se ocultarán será leido de un archivo."
   ]
  },
  {
   "cell_type": "markdown",
   "metadata": {},
   "source": [
    "### I.7. Gráficos\n",
    "\n",
    "> En esta sección es muy importante el uso de coordenadas relativas, como parte de la práctica de buenas costumbres de codificación."
   ]
  },
  {
   "cell_type": "markdown",
   "metadata": {},
   "source": [
    "1. Una función que dados dos pares de coordenadas en el plano dibuje una línea en modo texto (con asteriscos).\n",
    "2. Una función que dados dos pares de coordenadas en el plano dibuje un rectángulo en modo texto (con asteriscos).\n",
    "3. Una función que grafique un círculo en modo de texto (con asteriscos), dado un radio.\n",
    "4. Un programa que grafique una función escrita en el mismo código fuente, dados el dominio y el rango.\n",
    "5. Un programa que grafique el histograma de un conjunto de números leídos de un archivo.\n",
    "6. Un caleidoscopio sencillo (sólo 4 u 8 reflejos).\n",
    "7. Un programa que dibuje algún objeto en dos dimensiones conocido (un gato, un carro, una mesa vista en perspectiva, una computadora).\n",
    "8. Un programa donde el usuario determine dos ppuntos con el ratón y que se trace el segmento de recta correspondiente. Extenderlo a otras figuras.\n",
    "9. Un programa que mueva una pelota en un cuadro dibujado y que la haga rebotar en los bordes. Una variante de este programa es el simular una caída libre y considerar la aceleración causada por la fuerza de gravedad."
   ]
  },
  {
   "cell_type": "markdown",
   "metadata": {},
   "source": [
    "### I.8. Recursos del Sistema\n"
   ]
  },
  {
   "cell_type": "markdown",
   "metadata": {},
   "source": [
    "1. Mostrar la cantidad de memoria disponible, cercana (near) y lejana (far).\n",
    "2. Rutinas con manejo directo de la memoria de video para dibujar marcos y cambiar los atributos de una región dada.\n",
    "3. Rutinas para salvar la información de la pantalla y recuperarla cuando el programa termine.\n",
    "4. Rutinas para el manejo del ratón.\n",
    "5. Escribir una rutina que escriba directamente en la memoria de la video una cadena en modo de texto, especificando posición y atributo.\n",
    "6. Modificar la rutina anterior para utilizar dos atributos para hacer notar algún símbolo en especial (como hot keys en un menú).\n",
    "7. UnarutinaGet_Keyb()quefuncioneparatodoelteclado.\n",
    "8. Una función para desplegar una cadena dada en una posición y longitud máxima de despliegue dados.\n",
    "9. Un editor de líneas haciendo uso de los dos puntos anteriores.\n",
    "10. Un programa que presente las características del sistema en que se está. 11.Rutinas para la captura de la interrupción del teclado."
   ]
  },
  {
   "cell_type": "markdown",
   "metadata": {},
   "source": [
    "### I.9. Miscelánea"
   ]
  },
  {
   "cell_type": "markdown",
   "metadata": {},
   "source": [
    "1. Programar el juego del gato de 4x4 entre la computadora y el usuario. El juego sólo tiene que revisar primero si puede ganar, segundo evitar que el usuario gane o tercero colocar una marca en alguna de las columnas o diagonales más vacías.\n",
    "2. Programar el juego de adivinar los números de una combinación al azar obtenida por la computadora, dando pistas de cuántos están en la combinación y cuántos están en posición correcta. Debe haber un límite de intentos para el usuario. Con 4 dígitos es suficiente. Este juego se conoce como Master Mind. Preferentemente utilizar modo gráfico con fichas de colores (adivinar 4 fichas de 6 posibles).\n",
    "3. Hacer un programa que genere una secuencia de sonidos aleatoria que el usuario deberá repetir. Cada turno, la computadora deberá agregar un sonido más, comenzando con uno sólo al inicio del juego. Este se conoce como “Simón dice”. Prepárese una presentación donde con colores se ayude al usuario.\n",
    "4. Dada una matriz de caracteres (una sopa de letras) y un arreglo de cadenas, hacer un programa que indique cuáles cadenas están en la matriz.\n",
    "5. Escribir un programa que dada una cadena de caracteres presente y ejecute su clave Morse y viceversa (dada la clave Morse, escribir la cadena correspondiente).\n",
    "6. Programar el juego del 15 (Taken) para que el usuario lo juegue.\n",
    "7. Un programa para ver en cuántas barajadas perfectas se regresa al orden original en un mazo de n cartas. El número de cartas será dado por el usuario. Visualización opcional.\n",
    "8. Un juego que no permita caer una pelota hasta la parte baja de la pantalla. La barra con que se tocará la pelota será manipulada por las flechas de movimiento horizontal y la velocidad podrá ir aumentando. Se puede ir llevando la puntuación.\n",
    "9. Un graficador de funciones que al tocar la curva graficada con el mouse, muestre la pendiente en ese punto.\n",
    "10. Escriba una función que maneje una lista variable de argumentos enteros y que presente su suma en el formato que se le envía como primer argumento.\n",
    "11. Escriba una versión sencilla de la función printf.\n",
    "12. Escriba una función que regrese un flotante y que reciba enteros, flotantes y fracciones. Por ejemplo, la llamada Suma(“ffere”, 23.5, 7.4, 12, 2, 3, 67) deberá regresar la suma 23.5 + 7.4 + 12 + 2/3 + 67."
   ]
  },
  {
   "cell_type": "markdown",
   "metadata": {},
   "source": [
    "## Nivel II\n",
    "\n",
    "Haciendo uso de estructuras básicas como listas y árboles.\n",
    "\n",
    "> Nota: Estos problemas de programación son los adecuados para los estudiantes que están cursando Estructuras de Datos (segundo semestre). Versiones estáticas y dinámicas son posibles en varios casos, así como manejar nodos cabecera. Se pueden utilizar macros para determinar qué versión compilar, así como para los procedimientos de depuración."
   ]
  },
  {
   "cell_type": "markdown",
   "metadata": {},
   "source": [
    "### II.1. Uso de pilas"
   ]
  },
  {
   "cell_type": "markdown",
   "metadata": {},
   "source": [
    "1. Un revisor de palindromas que haga uso de una pila.\n",
    "2. Escribir una rutina que encuentre números primos palindrómicos usando pilas.\n",
    "3. Un verificador de paréntesis en expresiones y en programas en lenguaje C.\n",
    "4. Un evaluador de notación postfija que marque mensajes adecuados con expresiones erróneas.\n",
    "5. Funciones que conviertan expresiones en notación infija a postfija y prefija.\n",
    "6. Un programa que utilice dos pilas para realizar el ordenamiento de un conjunto de datos.\n",
    "7. ProgramarunaversiónsencilladelcomandobcdeUNIX.\n",
    "8. Un programa que indente uniformemente un programa en lenguaje C.\n",
    "9. Escribir una variante para el programa anterior en donde las dos pilas estén en un arreglo. Debe verificarse que las pilas no choquen.\n"
   ]
  },
  {
   "cell_type": "markdown",
   "metadata": {},
   "source": [
    "### II.2. Uso de recursividad"
   ]
  },
  {
   "cell_type": "markdown",
   "metadata": {},
   "source": [
    "1. Programar la función de Ackerman. Se sugiere controlar el tamaño del stack para la versión recursiva.\n",
    "2. Programar y comparar la eficiencia de dos funciones que calculen el enésimo número de la sucesión de Fibonacci, una iterativa y otra recursiva.\n",
    "3. Un graficador de fractales.\n",
    "4. Programar el juego de las torres de Hannoi para que el usuario visualice los movimientos. Utilizar 3 torres."
   ]
  },
  {
   "cell_type": "markdown",
   "metadata": {},
   "source": [
    "### II.3. Uso de colas y listas generales"
   ]
  },
  {
   "cell_type": "markdown",
   "metadata": {},
   "source": [
    "1. Un shell manejador de colas que vaya agregando a una cola los números que el usuario vaya capturando. Si el usuario teclea el signo - se retira un elemento de la cola. Si el usuario teclea la p se presenta la cola en la pantalla. ? presenta la ayuda del programa. La tecla ESC deberá dar por terminado el programa.\n",
    "2. Hacer un simulador con colas de llegadas de clientes a las cajas de un banco. Se considerará un horario para el banco, un rango de tiempo fijo para el despacho de cada cliente y llegadas aleatorias de clientes. Puede ser una cola atendida por varios cajeros o una cola para cada cajero.\n",
    "3. Un juego para contestar con el teclado las letras que se van generando al azar. Se debe contestar en el orden en el que van llegando. Al aparecer una nueva letra, las anteriores bajarán una posición. Aquí hay que considerar posibles niveles de dificultad.\n",
    "4. Programar rutinas para realizar las operaciones entre conjuntos unión, intersección, complemento, diferencia y diferencia simétrica utilizando listas para almacenar los elementos de cada conjunto.\n",
    "5. Leer datos de un archivo y ordenarlos en una lista (números, nombres). Una variante para este problema es el mandarle a la función que realiza la inserción de cada nuevo elemento la dirección de la función de comparación que determina el orden de los elementos.\n",
    "6. Una función que reciba una lista y determine cuántos nodos tiene.\n",
    "7. Una función que reciba una lista desordenada de elementos y elimine los repetidos.\n",
    "8. Diseñar e implementar un programa para comparar la eficiencia temporal del esquema de listas contra el esquema de arreglos.\n",
    "9. Una función que reciba el inicio de una lista simplemente ligada y que invierta su orden en tiempo lineal.\n",
    "10. Una función que reciba una lista y que regrese la dirección donde está un arreglo de enteros con la misma información y en el mismo orden. El arreglo puede ser de números, apuntadores a caracter, estructuras o cualquier otro tipo.\n",
    "11. Una función que reciba el inicio de dos listas ligadas ordenadas y que las mezcle para obtener una sola lista ordenada. La mezcla de las dos listas estará en una dirección nueva cuya cabeza también será recibida.\n",
    "12. Una función que reciba una lista ordenada de números enteros y que deje sólo los números pares en la lista que recibe. Deberá regresar el inicio de la lista de números impares.\n",
    "13. Una función que recibe una lista y un elemento. Si el elemento está en la lista, pasará a ser la nueva cabeza de la lista. En caso contrario, la lista queda intacta.\n",
    "14. Un programa que dada la lista de un grupo y el conjunto de los equipos de trabajo, construya nuevos equipos de tal forma que en cada nuevo equipo esté la menor cantidad de gente de los equipos originales. Esto es, disgregar los equipos.\n",
    "15. Hacer un programa ilustrativo visual del problema de Flavio José.\n",
    "16. Preparar una lista doblemente ligada donde cada nodo contenga dos campos. En un sentido, la lista debe estar ordenada por el primer campo y en el sentido inverso por el otro campo. Úsese un nodo cabecera.\n",
    "17. Escribir rutinas para sumar, restar y multiplicar números enteros muy grandes.\n",
    "18. A las versiones sencillas los comandos de UNIX wc, diff, cut, sort, rev, grep, cat, tail, paste y more programadas en la sección de manejo de archivos del Nivel I, agregarles el uso de comodines en la línea de comandos."
   ]
  },
  {
   "cell_type": "markdown",
   "metadata": {},
   "source": [
    "### II.4. Manipulación de árboles"
   ]
  },
  {
   "cell_type": "markdown",
   "metadata": {},
   "source": [
    "1. Leer datos de un archivo y ordenarlos en un árbol binario de búsqueda (números, nombres). Una variante para este problema es el mandarle a la función que realiza la inserción de cada nuevo elemento la dirección de la función de comparación que determina el orden de los elementos.\n",
    "2. Elaborar versiones recursivas e iterativas de diferentes tipos de recorridos en un árbol binario.\n",
    "3. Una función que reciba un árbol y determine cuántos nodos tiene.\n",
    "4. Escribir una rutina que escriba un árbol en la pantalla. Limitar lo ancho del árbol para que la impresión se vea bien. El usuario debe poder elegir un tipo de recorrido en el árbol y viajar por los nodos usando las flechas.\n",
    "5. Generar el árbol de una expresión dada en notación infija. Debe detectar errores e indicar su naturaleza y posición.\n",
    "6. Hacer un graficador al que se le indique la función a graficar y el rango durante el tiempo de ejecución.\n",
    "7. Rutinas para inserción, borrado y recorrido de árboles binarios de búsqueda balanceados y de otros tipos (al menos AVL y B).\n",
    "8. Programar un derivador simbólico.\n",
    "9. Rutinas para manipular árboles con las etiquetas sucesor en preorden y profundidad.\n",
    "10. Rutinas para pasar de un árbol binario a una lista de niveles, donde en cada nodo nivel inicia la lista de nodos de ese nivel. Cada nodo por nivel debe saber la dirección del nodo de la lista del nivel anterior a que corresponde. Escribir las rutinas de inserción y borrado.\n",
    "11. Un shell manejador de colas, pilas y árboles binarios para agregar, presentar (con recorridos diferentes para los árboles) y eliminar datos en cada instancia de cada tipo de estructura.\n",
    "12. Hacer un programa que permita comparar la eficiencia de montículos binomiales con montículos de Fibonacci. 13.Leer datos de un archivo y ordenarlos en un árbol rojo-negro.\n"
   ]
  },
  {
   "cell_type": "markdown",
   "metadata": {},
   "source": [
    "### II.5.  Algoritmos de ordenamiento"
   ]
  },
  {
   "cell_type": "markdown",
   "metadata": {},
   "source": [
    "1. Programar los algoritmos de ordenamiento Shell Sort, Quick Sort, Heap Sort, Merge Sort, Conteo y alguno basado en la representación de bits de la información a ordenar. Se debe poder hacer un programa que permita comparar la eficiencia de un método con respecto a los otros.\n",
    "2. Hacer un programa para verificar la estabilidad de los algoritmos del punto anterior.\n",
    "3. Hacer un programa como en el punto anterior, que permita visualizar lo que cada algoritmo va haciendo.\n",
    "4. Hacer dos programas que ordenen cadenas de caracteres. Uno de ellos intercambiará las cadenas y el otro solo intercambiará los apuntadores a las cadenas. Medir el desempeño de cada esquema haciendo uso de la utiliería Turbo Profiler.\n",
    "5. Programar el comando sort de tal manera que el usuario decida con qué algoritmo se realizará la ordenación. Dar al menos tres algoritmos opcionales."
   ]
  },
  {
   "cell_type": "markdown",
   "metadata": {},
   "source": [
    "### II.6. Algoritmos de búsqueda"
   ]
  },
  {
   "cell_type": "markdown",
   "metadata": {},
   "source": [
    "1. Programar rutinas de búsqueda binaria, por interpolación y por interpolación robusta.\n",
    "2. Programar el comando grep de tal manera que el usuario decida que algoritmo de búsqueda de cadenas utilizar (Knuth-Morris-Pratt, Boyer-Moore, Rabin-Karp).\n",
    "3. Programar un diccionario haciendo uso de tablas hash. El diccionario a deberá tener una interfaz agradable sin exageraciones y deberá permitir manejar varios diccionarios, agregar palabras, modificar significados, buscar cadenas incompletas con grep (optando por que la cadena incompleta sea prefijo o cualquier subcadena) y otras cosas.\n",
    "4. Hacer un diccionario como el del punto anterior, pero utilizando árboles B."
   ]
  },
  {
   "cell_type": "markdown",
   "metadata": {},
   "source": [
    "### II.7. Miscelánea"
   ]
  },
  {
   "cell_type": "markdown",
   "metadata": {},
   "source": [
    "1. Programar el juego del gato de 4x4 entre la computadora y el usuario. La computadora deberá jugar inteligentemente.\n",
    "2. Un preprocesador de C que sustituya definiciones e inclusiones (#define e #include). La salida deberá ser otro programa en C en el que no haya instrucciones de preprocesador de este tipo, con extensión “.p”.\n",
    "3. Un programa que lea un archivo en modo texto y que las palabras las separe, convierta a minúsculas e inserte en una lista ordenada lexicográficamente quitando las repeticiones. Posteriormente que busque cada una en un diccionario, eliminando aquellas que si encontró y al final presentando las restantes. Una estructura no lineal es lo más recomendable.\n",
    "4. Como variante para el problema anterior, escribir una función que busque palabras de escritura parecida para ofrecerlas como opciones al usuario."
   ]
  },
  {
   "cell_type": "markdown",
   "metadata": {},
   "source": [
    "## Nivel III\n",
    "\n",
    "Programas de aplicación. Requieren un buen manejo de estructuras de datos, algoritmia y/o algún conocimiento de otras áreas.\n",
    "\n",
    "> Nota: Estos programas son los que un estudiante que ya cursó Estructuras de Datos debe poder hacer."
   ]
  },
  {
   "cell_type": "markdown",
   "metadata": {},
   "source": [
    "### III.1. Algoritmos de grafos"
   ]
  },
  {
   "cell_type": "markdown",
   "metadata": {},
   "source": [
    "1. Programar el algoritmo de Warshall.\n",
    "2. Programar los algoritmos Prim y Kruskal para árboles de mínima expansión.\n",
    "3. Programar los algoritmos de Dijkstra y Floyd para rutas mínimas en digráficas.\n",
    "4. Determinar si un grafo es conexo o una gráfica es fuertemente conexa.\n",
    "5. Dada una gráfica y dos subconjuntos ajenos de nodos, determinar los arcos que forman el corte para dichos conjuntos.\n",
    "6. Un programa que encuentre trayectorias Hamiltonianas y Eulerianas en una gráfica. Pueden contemplarse rutas casi Eulerians o casi Hamiltonianas.\n",
    "7. Un programa para determinar el isomorfismo de gráficas y digráficas."
   ]
  },
  {
   "cell_type": "markdown",
   "metadata": {},
   "source": [
    "### III.2. Algoritmos de geometría computacional"
   ]
  },
  {
   "cell_type": "markdown",
   "metadata": {},
   "source": [
    "1. Un programa para encontrar la envolvente convexa de un conjunto de puntos en el plano.\n",
    "2. Un programa para encontrar los puntos maximales de un conjunto de puntos en el plano.\n",
    "3. Un programa que obtenga las cadenas de Freeman de una matriz binaria dada.\n",
    "4. Una rutina que dada la cadena de Freeman obtenga el número de forma correspondiente.\n",
    "5. Una rutina que dados dos segmentos de recta determine si se intersectan.\n",
    "6. Un rutina que dados dos segmentos de recta determine si son paralelos.\n",
    "7. Una rutina que dado un conjunto de puntos determine cuál es el par más cercano.\n",
    "8. Rutinas para escribir en varias ventanas superpuestas, cambiándose de ventana secuencialmente con las teclas o seleccionándola con el mouse.\n",
    "9. Extender el problema anterior al caso de cubos en el espacio: dado un conjunto de cubos y un punto, determinar en cuáles cubos está el punto.\n",
    "10. Dada una matriz de ceros y unos, encontrar el patrón conexo repetido de mayor área (mayor cantidad de celdas) formado por puros unos. Este problema posee una gran cantidad de variantes: patrón no conexo, matriz no booleana, mismo patrón pero rotado, matriz de tres dimensiones y otros.\n"
   ]
  },
  {
   "cell_type": "markdown",
   "metadata": {},
   "source": [
    "### III.3. Juegos"
   ]
  },
  {
   "cell_type": "markdown",
   "metadata": {},
   "source": [
    "1. Programar un juego de laberinto con tres niveles de dificultad fijos (tres laberintos grabados en archivos).\n",
    "2. Programar una rutina para que la computadora resuelva los laberintos del problema anterior.\n",
    "3. Programar el juego del Timbiriche para jugarlo contra la computadora. La dificultad debe poder ser indicadca por el jugador.\n",
    "4. Un juego de damas.\n",
    "5. Programar el juego de las torres de Hannoi para que el usuario visualice los movimientos. Utilizar más de tres torres y al menos dos algoritmos óptimos.\n"
   ]
  },
  {
   "cell_type": "markdown",
   "metadata": {},
   "source": [
    "### III.4. Miscelánea"
   ]
  },
  {
   "cell_type": "markdown",
   "metadata": {},
   "source": [
    "1. Rutinas para inserción, borrado y recorrido de árboles balanceados B+ y rojo-negro.\n",
    "2. Dado un lenguaje (un alfabeto y una gramática), escribir una rutina que determine la pertenencia de una palabra a dicho lenguaje.\n",
    "3. Un programa que convierta de números arábigos a romanos y viceversa.\n",
    "4. Convertir un autómata a expresión regular y viceversa.\n",
    "5. Dado un archivo con las transiciones que correspondena una Máquina de Turing, obtener su codificación en binario.\n",
    "6. Un procesador de textos que incluya un corrector de ortografía.\n",
    "7. Un generador eficiente de números aleatorios.\n",
    "8. Programar un algoritmo para comprimir archivos utilizando el código de Huffman y algún otro método.\n",
    "9. Un encriptador y su desencriptador.\n",
    "10. Dado un número de año, computar el calendario.\n",
    "11. Obtener la tabla de verdad de una expresión lógica dada con los operadores and, or, not, implicación, doble implicación, paréntesis y variables de una sola letra.\n",
    "12. Programar un graficador en 3D. Las funciones serán dadas en tiempo de ejecución. 13.Un editor de grafos y digrafos."
   ]
  },
  {
   "cell_type": "markdown",
   "metadata": {},
   "source": [
    "## Nivel IV\n",
    "\n",
    "Programas que requieren un manejo muy especializado de estructuras de datos, algoritmos y/o conocimiento sólido de otras áreas.\n",
    "> Nota: Estos programas son los que un estudiante del último año debe poder hacer."
   ]
  },
  {
   "cell_type": "markdown",
   "metadata": {},
   "source": [
    "1. Invertir un archivo de gran tamaño (mayor a 20 Mb).\n",
    "2. Realizar el ordenamiento de archivos de gran tamaño (usando ordenamiento externo).\n",
    "3. Programar un algoritmo de programación matemática lineal y su anális de sensibilidad.\n",
    "4. Implementar una versión sencilla del algoritmo de optimización de flujo en redes Ford-Fulkerson.\n",
    "5. Dada una gráfica, programar una rutina que la grafique con el menor número de cruces de aristas posible.\n",
    "6. Programar un graficador sencillo, pero que incluya el uso de puntos de control en curvas (haciendo uso del ratón). Extiéndase para tres dimensiones.\n",
    "7. Programar un intérprete BASIC.\n",
    "8. Una función play que reciba como argumento una cadena y que la ejecute de manera similar al comando play de BASIC.\n",
    "9. Programar un traductor de BASIC a C o de Pascal a C.\n",
    "10. Un procesador de textos que incluya un corrector de ortografía y varios niveles de deshacer y rehacer. Deberá poder justificar texto al centro, derecha e izquierda y manejar fuentes distintas.\n",
    "11. Programar rutinas para decodificación y codificación de formatos GIF y JPEG.\n",
    "12. Un programa que dado un arbol, permita agregar un arco (con lo cual se forma un ciclo) y posteriormente eliminar otro arco del ciclo formado. La estructura tiene que reorganizarse (se descuelgue una rama del árbol).\n",
    "13. Programar el juego del 15 (Taken) para que la computadora lo resuelva con 2 algoritmos diferentes. 14.Obtener los testores típicos de una matriz de aprendizaje dura con clases no disjuntas dada."
   ]
  }
 ],
 "metadata": {
  "language_info": {
   "name": "python"
  }
 },
 "nbformat": 4,
 "nbformat_minor": 2
}
