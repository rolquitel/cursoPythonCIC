{
 "cells": [
  {
   "cell_type": "markdown",
   "metadata": {},
   "source": [
    "# Ejercicios de programación en Python"
   ]
  },
  {
   "cell_type": "markdown",
   "metadata": {},
   "source": [
    "## Nivel I\n",
    "\n",
    "Uso de lenguaje y algorítmica básica.\n",
    "\n",
    "> Nota: Estos programas son los que deben poder hacer los estudiantes que terminaron el curso de Programación I (primer semestre). Es recomendable que sean desarrollados durante dicho curso. En el caso de los problemas que piden una función o rutina que realice una tarea específica, es necesario un programa dondes sea probada. Es en este nivel donde es importante inculcar buenas costumbres de codificación."
   ]
  },
  {
   "cell_type": "markdown",
   "metadata": {},
   "source": [
    "### I.1. Uso básico del lenguaje"
   ]
  },
  {
   "cell_type": "markdown",
   "metadata": {},
   "source": [
    "#### Imprimir un mensaje en la pantalla"
   ]
  },
  {
   "cell_type": "code",
   "execution_count": null,
   "metadata": {},
   "outputs": [],
   "source": [
    "print('Hola Python')"
   ]
  },
  {
   "cell_type": "markdown",
   "metadata": {},
   "source": [
    "#### Declare y defina 2 variables de distinto tipo y muestre en pantalla sus valores"
   ]
  },
  {
   "cell_type": "code",
   "execution_count": null,
   "metadata": {},
   "outputs": [],
   "source": [
    "a = 1\n",
    "b = 2\n",
    "\n",
    "print(f'El valor de a es %d y el valor de b es %d' % (a, b))"
   ]
  },
  {
   "cell_type": "markdown",
   "metadata": {},
   "source": [
    "#### Un programa que lea del teclado los valores de dos variables y los imprima"
   ]
  },
  {
   "cell_type": "code",
   "execution_count": null,
   "metadata": {},
   "outputs": [],
   "source": [
    "a = input('Ingrese un valor para a: ')\n",
    "b = input('Ingrese un valor para b: ')\n",
    "\n",
    "print(f'El valor de a es %s y el valor de b es %s' % (a, b))"
   ]
  },
  {
   "cell_type": "markdown",
   "metadata": {},
   "source": [
    "#### Un programa que calcule el área de un triángulo dados la altura y la base. Se puede continuar hasta que el usuario desee"
   ]
  },
  {
   "cell_type": "code",
   "execution_count": null,
   "metadata": {},
   "outputs": [],
   "source": [
    "continuar = True\n",
    "\n",
    "while continuar:\n",
    "    b = int(input('Ingrese un valor para la base: '))\n",
    "    a = int(input('Ingrese un valor para la altura: '))\n",
    "    print(f'El area del triángulo es %f' % (b * a / 2))\n",
    "    continuar = input('Desea continuar? (s/n) ') == 's'"
   ]
  },
  {
   "cell_type": "markdown",
   "metadata": {},
   "source": [
    "#### Calcular con un ciclo la suma de `1` hasta `n`"
   ]
  },
  {
   "cell_type": "code",
   "execution_count": null,
   "metadata": {},
   "outputs": [],
   "source": [
    "n = 100\n",
    "suma = 0\n",
    "for i in range(1, n+1):\n",
    "    suma += i\n",
    "\n",
    "print(f'La suma de los primeros %d números es %d' % (n, suma))"
   ]
  },
  {
   "cell_type": "markdown",
   "metadata": {},
   "source": [
    "#### Calcular la suma de los números pares e impares del `1` hasta `n`"
   ]
  },
  {
   "cell_type": "code",
   "execution_count": null,
   "metadata": {},
   "outputs": [],
   "source": [
    "n = 100\n",
    "suma_par = 0\n",
    "suma_impar = 0\n",
    "for i in range(1, n+1):\n",
    "    if i % 2 == 0:\n",
    "        suma_par += i\n",
    "    else:\n",
    "        suma_impar += i\n",
    "\n",
    "print(f'La suma de los primeros %d números pares es %d' % (n, suma_par))\n",
    "print(f'La suma de los primeros %d números impares es %d' % (n, suma_impar))"
   ]
  },
  {
   "cell_type": "markdown",
   "metadata": {},
   "source": [
    "#### Tablas de conversión de unidades: \n",
    "1. metros a pies, \n",
    "1. pulgadas a centímetros, \n",
    "1. grados Farenheit a Celsius, \n",
    "1. kilogramos a libras, \n",
    "1. kilómetros a millas. \n",
    "> Se puede hacer que el programa que dé una tabla una vez que el usuario da los límites y el incremento o se puede utilizar un menú para determinar el tipo de conversión que el usuario desea. "
   ]
  },
  {
   "cell_type": "code",
   "execution_count": null,
   "metadata": {},
   "outputs": [],
   "source": [
    "def menu():\n",
    "    print('\\nSELECCIONE UNA OPCIÓN')\n",
    "    print('---------------------')\n",
    "    print('1. Metros a pies')\n",
    "    print('2. Pulgadas a centímetros')\n",
    "    print('3. Farenheit a celcius')\n",
    "    print('4. Kilogramos a libras')\n",
    "    print('5. Kilómetros a millas')\n",
    "    print('6. Salir')\n",
    "\n",
    "    opcion = int(input('Ingrese una opción: '))\n",
    "    while opcion < 1 or opcion > 6:\n",
    "        opcion = int(input('Ingrese una opción válida: '))\n",
    "\n",
    "    return opcion\n",
    "\n",
    "\n",
    "def tabla(min, max, step, f):\n",
    "    x = min\n",
    "    while x <= max:\n",
    "        print(f'| %-7.4f | %-7.4f |' % (x, f(x)))\n",
    "        x += step\n",
    "\n",
    "\n",
    "opcion = menu()\n",
    "min = float(input('Ingrese el valor mínimo: '))\n",
    "max = float(input('Ingrese el valor máximo: '))\n",
    "step = float(input('Ingrese el paso: '))\n",
    "while opcion != 6:\n",
    "    if opcion == 1:\n",
    "        print('Metros a pies.')\n",
    "        tabla(min, max, step, lambda x: x * 3.28084)\n",
    "    elif opcion == 2:\n",
    "        print('Pulgadas a centímetros.')\n",
    "        tabla(min, max, step, lambda x: x * 2.54)\n",
    "    elif opcion == 3:\n",
    "        print('Farenheit a celcius.')\n",
    "        tabla(min, max, step, lambda x: (x - 32) * 5 / 9)\n",
    "    elif opcion == 4:\n",
    "        print('Kilogramos a libras.')\n",
    "        tabla(min, max, step, lambda x: x * 2.20462)\n",
    "    elif opcion == 5:\n",
    "        print('Kilómetros a millas.')\n",
    "        tabla(min, max, step, lambda x: x * 0.621371)\n",
    "\n",
    "    opcion = menu()\n"
   ]
  },
  {
   "cell_type": "markdown",
   "metadata": {},
   "source": [
    "#### Escribir toda la tabla de códigos ASCII imprimibles en la pantalla, tanto el código como el símbolo. \n",
    "\n",
    "Utilícense varias columnas de tal manera que todos quepan en la pantalla."
   ]
  },
  {
   "cell_type": "code",
   "execution_count": null,
   "metadata": {},
   "outputs": [],
   "source": [
    "print(\"ASCII Code\\tSymbol \\t\\t ASCII Code\\tSymbol \\t\\t ASCII Code\\tSymbol \\t\\t ASCII Code\\tSymbol\")\n",
    "print(\"---------------------- \\t\\t---------------------- \\t\\t---------------------- \\t\\t----------------------\")\n",
    "for i in range(24):\n",
    "    print(f\"{i+32}\\t\\t{chr(i+32)} \\t\\t {i+56}\\t\\t{chr(i+56)} \\t\\t {i+80}\\t\\t{chr(i+80)} \\t\\t {i+104}\\t\\t{chr(i+104)}\")\n"
   ]
  },
  {
   "cell_type": "markdown",
   "metadata": {},
   "source": [
    "#### Indique la cantidad de bytes asignados a un `char`, `int`, `float`, `bool`, `complex`"
   ]
  },
  {
   "cell_type": "code",
   "execution_count": null,
   "metadata": {},
   "outputs": [],
   "source": [
    "import sys\n",
    "\n",
    "entero = 1\n",
    "flotante = 1.5\n",
    "booleano = True\n",
    "caracter = chr(55)\n",
    "complejo = 10+10j\n",
    "\n",
    "print(f'Tamaño de {type(entero)}: {sys.getsizeof(entero)}')\n",
    "print(f'Tamaño de {type(flotante)}: {sys.getsizeof(flotante)}')\n",
    "print(f'Tamaño de {type(booleano)}: {sys.getsizeof(booleano)}')\n",
    "print(f'Tamaño de {type(caracter)}: {sys.getsizeof(caracter)}')\n",
    "print(f'Tamaño de {type(complejo)}: {sys.getsizeof(complejo)}')\n"
   ]
  },
  {
   "cell_type": "markdown",
   "metadata": {},
   "source": [
    "#### Escribir una función que reciba dos enteros y regrese la suma de los múltiplos de 3 que están en el intervalo cerrado determinado por los dos números"
   ]
  },
  {
   "cell_type": "code",
   "execution_count": null,
   "metadata": {},
   "outputs": [],
   "source": [
    "def multiplos_3(a,b):\n",
    "    suma = 0\n",
    "    for i in range(a, b+1):\n",
    "        if i % 3 == 0:\n",
    "            suma += i   \n",
    "\n",
    "    return suma\n",
    "\n",
    "a = 10\n",
    "b = 50\n",
    "print(f'La suma de los múltiplos de 3 entre {a} y {b} es {multiplos_3(a,b)}')"
   ]
  },
  {
   "cell_type": "markdown",
   "metadata": {},
   "source": [
    "### I.2. Rutinas Matemáticas"
   ]
  },
  {
   "cell_type": "markdown",
   "metadata": {},
   "source": [
    "#### Calcular las raíces de una ecuación cuadrática dada. \n",
    "\n",
    "> Considérense las raíces complejas. El usuario capturará los coeficientes."
   ]
  },
  {
   "cell_type": "code",
   "execution_count": null,
   "metadata": {},
   "outputs": [],
   "source": [
    "print('Proporcione los coeficientes del polinomio de segundo grado')\n",
    "a = float(input('a: '))\n",
    "b = float(input('b: '))\n",
    "c = float(input('c: '))\n",
    "\n",
    "if a == 0:\n",
    "    print('El coeficiente a no puede ser cero en una ecuación cuadrática. Al serlo se convierte en una lineal, por lo que: x =', -c/b)\n",
    "else:\n",
    "    discriminante = b**2 - 4*a*c\n",
    "    if discriminante < 0:\n",
    "        x1 = -b / (2*a) + (-discriminante)**0.5 / (2*a) * 1j\n",
    "        x2 = -b / (2*a) - (-discriminante)**0.5 / (2*a) * 1j\n",
    "    elif discriminante == 0:\n",
    "        x = -b / (2*a)\n",
    "        print(f'El polinomio tiene una solución real: {x}')\n",
    "    else:\n",
    "        x1 = (-b + discriminante**0.5) / (2*a)\n",
    "        x2 = (-b - discriminante**0.5) / (2*a)\n",
    "        print(f'El polinomio tiene dos soluciones reales: {x1} y {x2}')"
   ]
  },
  {
   "cell_type": "markdown",
   "metadata": {},
   "source": [
    "#### Función factorial iterativa y recursivamente."
   ]
  },
  {
   "cell_type": "code",
   "execution_count": null,
   "metadata": {},
   "outputs": [],
   "source": [
    "def factorial(n):\n",
    "    return 1 if n == 0 else n * factorial(n-1)\n",
    "\n",
    "def factorial_iterativo(n):\n",
    "    f = 1\n",
    "    for i in range(1, n+1):\n",
    "        f *= i\n",
    "\n",
    "    return f\n",
    "\n",
    "n = 6\n",
    "print(f'El factorial de {n} es {factorial(n)}')\n",
    "print(f'El factorial de {n} es {factorial_iterativo(n)}')"
   ]
  },
  {
   "cell_type": "markdown",
   "metadata": {},
   "source": [
    "#### Generar los números de Fibonacci"
   ]
  },
  {
   "cell_type": "code",
   "execution_count": null,
   "metadata": {},
   "outputs": [],
   "source": [
    "def fibonacci_iterativo(n, l=[0, 1]):\n",
    "    if n < len(l):\n",
    "        return l\n",
    "    else:\n",
    "        for i in range(len(l), n+1):\n",
    "            l.append(l[i-1] + l[i-2])\n",
    "\n",
    "        return l\n",
    "   \n",
    "\n",
    "n = 10\n",
    "print(f'Los {n} primeros números de la serie de Fibonacci son {fibonacci_iterativo(n)}')"
   ]
  },
  {
   "cell_type": "markdown",
   "metadata": {},
   "source": [
    "#### Generar los números primos en el rango que el usuario indique, por ejemplo del 100 al 200."
   ]
  },
  {
   "cell_type": "code",
   "execution_count": null,
   "metadata": {},
   "outputs": [],
   "source": [
    "def primos(inicio, fin):\n",
    "    primos = []\n",
    "    for i in range(inicio, fin+1):\n",
    "        if i < 2:\n",
    "            continue\n",
    "        es_primo = True\n",
    "        for j in range(2, i):\n",
    "            if i % j == 0:\n",
    "                es_primo = False\n",
    "                break\n",
    "        if es_primo:\n",
    "            primos.append(i)\n",
    "\n",
    "    return primos\n",
    "\n",
    "inicio = 100\n",
    "fin = 200\n",
    "print(f'Los números primos entre {inicio} y {fin} son {primos(inicio, fin)}')"
   ]
  },
  {
   "cell_type": "markdown",
   "metadata": {},
   "source": [
    "#### Función que encuentre los números primos que son de la forma `n!+1`"
   ]
  },
  {
   "cell_type": "code",
   "execution_count": null,
   "metadata": {},
   "outputs": [],
   "source": [
    "def primos_factorial(n):\n",
    "    primos = []\n",
    "    for i in range(1, n+1):\n",
    "        p = factorial(i) + 1\n",
    "        es_primo = True\n",
    "        for j in range(2, p):\n",
    "            if p % j == 0:\n",
    "                es_primo = False\n",
    "                break\n",
    "        if es_primo:\n",
    "            primos.append(p)\n",
    "\n",
    "    return primos\n",
    "\n",
    "n = 10\n",
    "print(f'Los números primos de la forma n!+1 para n={n} son {primos_factorial(n)}')"
   ]
  },
  {
   "cell_type": "markdown",
   "metadata": {},
   "source": [
    "#### Función que calcule el mcm de dos números enteros dados y otra que calcule el mcm de tres enteros dados."
   ]
  },
  {
   "cell_type": "code",
   "execution_count": null,
   "metadata": {},
   "outputs": [],
   "source": [
    "def mcd(a, b):\n",
    "    while b != 0:\n",
    "        a, b = b, a % b\n",
    "\n",
    "    return a\n",
    "\n",
    "def mcm(a, b):\n",
    "    return a * b // mcd(a, b)\n",
    "\n",
    "def mcm3(a, b, c):\n",
    "    return mcm(a, mcm(b, c))\n",
    "\n",
    "a = 12\n",
    "b = 18\n",
    "c = 24\n",
    "\n",
    "print(f'El mcm de {a} y {b} es {mcm(a, b)}')\n",
    "print(f'El mcm de {a}, {b} y {c} es {mcm3(a, b, c)}')"
   ]
  },
  {
   "cell_type": "markdown",
   "metadata": {},
   "source": [
    "#### Calcular la media y la moda de un conjunto de números enteros"
   ]
  },
  {
   "cell_type": "code",
   "execution_count": null,
   "metadata": {},
   "outputs": [],
   "source": [
    "def media_moda(numeros):\n",
    "    suma = 0\n",
    "    frecuencias = {}\n",
    "    for n in numeros:\n",
    "        suma += n\n",
    "        if n in frecuencias:\n",
    "            frecuencias[n] += 1\n",
    "        else:\n",
    "            frecuencias[n] = 1\n",
    "\n",
    "    media = suma / len(numeros)\n",
    "    moda = max(frecuencias, key=frecuencias.get)\n",
    "\n",
    "    return media, moda\n",
    "\n",
    "numeros = [1, 2, 3, 4, 5, 6, 7, 8, 9, 10, 1, 2, 3, 4, 5, 6, 7, 8, 9, 10, 1, 2, 3, 4, 5, 6, 7, 8, 9, 10]\n",
    "media, moda = media_moda(numeros)\n",
    "print(f'La media de los números es {media} y la moda es {moda}')"
   ]
  },
  {
   "cell_type": "markdown",
   "metadata": {},
   "source": [
    "#### Un generador de números aleatorios sencillo. También un generador de números aleatorios con distribución gausiana."
   ]
  },
  {
   "cell_type": "code",
   "execution_count": null,
   "metadata": {},
   "outputs": [],
   "source": [
    "# Un generador de números aleatorios sencillo utilizando funciones de tiempo. También un generador de números aleatorios con distribución gausiana.\n",
    "\n",
    "import time\n",
    "import math\n",
    "\n",
    "def generate_random_number():\n",
    "    current_time = int(time.time())\n",
    "    random_number = (current_time % 1000) / 1000\n",
    "    return random_number\n",
    "\n",
    "def aleatorio_gaussiano(mu, sigma):\n",
    "    return mu + sigma * math.sqrt(-2 * math.log(generate_random_number())) * math.cos(2 * math.pi * generate_random_number())\n",
    "\n",
    "print(f'Número aleatorio: {generate_random_number()}')\n",
    "print(f'Número aleatorio gaussiano: {aleatorio_gaussiano(0, 1)}')"
   ]
  },
  {
   "cell_type": "markdown",
   "metadata": {},
   "source": [
    "#### Utilice la criba de Eratóstenes para obtener los números primos hasta `n`"
   ]
  },
  {
   "cell_type": "code",
   "execution_count": null,
   "metadata": {},
   "outputs": [],
   "source": [
    "def criba_de_eratostenes(n):\n",
    "    primos = [True] * (n+1)\n",
    "    primos[0] = primos[1] = False\n",
    "\n",
    "    p = 2\n",
    "    while p * p <= n:\n",
    "        if primos[p]:\n",
    "            for i in range(p * p, n+1, p):\n",
    "                primos[i] = False\n",
    "        p += 1\n",
    "\n",
    "    return [i for i in range(2, n+1) if primos[i]]\n",
    "\n",
    "n = 100\n",
    "print(criba_de_eratostenes(n))\n"
   ]
  },
  {
   "cell_type": "markdown",
   "metadata": {},
   "source": [
    "#### Rutina de evaluación de polinomios haciendo uso de división sintética"
   ]
  },
  {
   "cell_type": "code",
   "execution_count": null,
   "metadata": {},
   "outputs": [],
   "source": [
    "def evaluar_polinomio(coeficientes, x):\n",
    "    n = len(coeficientes)\n",
    "    resultado = coeficientes[0]\n",
    "    for i in range(1, n):\n",
    "        resultado = resultado * x + coeficientes[i]\n",
    "    return resultado\n",
    "\n",
    "\n",
    "coeficientes = [1, 2, -2, 1]  # x^3 + 2x^2 - 2x + 1\n",
    "x = 2\n",
    "resultado = evaluar_polinomio(coeficientes, x)\n",
    "print(f\"El resultado de evaluar el polinomio en x = {x} es {resultado}\")\n"
   ]
  },
  {
   "cell_type": "markdown",
   "metadata": {},
   "source": [
    "#### Rutina para calcular combinaciones y otra para permutaciones"
   ]
  },
  {
   "cell_type": "code",
   "execution_count": null,
   "metadata": {},
   "outputs": [],
   "source": [
    "def combinaciones(lista, k):\n",
    "    if k == 0:\n",
    "        return [[]]\n",
    "    \n",
    "    if len(lista) == 0:\n",
    "        return []\n",
    "\n",
    "    result = []\n",
    "    first = lista[0]\n",
    "    rest = lista[1:]\n",
    "\n",
    "    for comb in combinaciones(rest, k - 1):\n",
    "        result.append([first] + comb)\n",
    "\n",
    "    result.extend(combinaciones(rest, k))\n",
    "\n",
    "    return result\n",
    "\n",
    "\n",
    "lista = [1, 2, 3, 4]\n",
    "k = 2\n",
    "c = combinaciones(lista, k)\n",
    "print(f\"{len(c)} combinaciones de {lista} de longitud {k}: {c}\")\n"
   ]
  },
  {
   "cell_type": "code",
   "execution_count": null,
   "metadata": {},
   "outputs": [],
   "source": [
    "def permutaciones(lista, k):\n",
    "    if k == 0:\n",
    "        return [[]]\n",
    "    \n",
    "    result = []\n",
    "    for i in range(len(lista)):\n",
    "        elemento = lista[i]\n",
    "        restantes = lista[:i] + lista[i+1:]\n",
    "        permutaciones_restantes = permutaciones(restantes, k-1)\n",
    "        for permutacion in permutaciones_restantes:\n",
    "            result.append([elemento] + permutacion)\n",
    "    \n",
    "    return result\n",
    "\n",
    "lista = [1, 2, 3, 4]\n",
    "k = 2\n",
    "p = permutaciones(lista, k)\n",
    "print(f\"{len(p)} permutaciones de {lista} de longitud {k}: {p}\")\n"
   ]
  },
  {
   "cell_type": "markdown",
   "metadata": {},
   "source": [
    "#### Una función que calcule las combinaciones de enteros positivos suman `n`"
   ]
  },
  {
   "cell_type": "code",
   "execution_count": null,
   "metadata": {},
   "outputs": [],
   "source": [
    "def combinaciones_suma(n, k=1, suma=0):\n",
    "    if k + suma > n:\n",
    "        return []\n",
    "\n",
    "    result = []\n",
    "\n",
    "    for i in range(k, n):\n",
    "        if i + suma == n:\n",
    "            result.append([i])\n",
    "        \n",
    "        if i + suma < n:\n",
    "            combinaciones_restantes = combinaciones_suma(n, i+1, suma+i)\n",
    "            for c in combinaciones_restantes:\n",
    "                result.append([i] + c)\n",
    "\n",
    "    return result\n",
    "\n",
    "\n",
    "n = 12\n",
    "resultado = combinaciones_suma(n)\n",
    "print(f\"Las combinaciones de enteros positivos que suman {n} son: {resultado}\")\n"
   ]
  },
  {
   "cell_type": "markdown",
   "metadata": {},
   "source": [
    "#### Rutinas para sumar, restar y multiplicar matrices"
   ]
  },
  {
   "cell_type": "code",
   "execution_count": null,
   "metadata": {},
   "outputs": [],
   "source": [
    "def sumar_matrices(A, B):\n",
    "    if len(A) != len(B) or len(A[0]) != len(B[0]):\n",
    "        return None\n",
    "\n",
    "    m = len(A)\n",
    "    n = len(A[0])\n",
    "    C = [[A[i][j] + B[i][j] for j in range(n)] for i in range(m)]\n",
    "\n",
    "    return C\n",
    "\n",
    "def restar_matrices(A, B):\n",
    "    if len(A) != len(B) or len(A[0]) != len(B[0]):\n",
    "        return None\n",
    "\n",
    "    m = len(A)\n",
    "    n = len(A[0])\n",
    "    C = [[A[i][j] - B[i][j] for j in range(n)] for i in range(m)]\n",
    "\n",
    "    return C\n",
    "\n",
    "def multiplicar_matrices(A, B):\n",
    "    if len(A[0]) != len(B):\n",
    "        return None\n",
    "\n",
    "    m = len(A)\n",
    "    n = len(A[0])\n",
    "    p = len(B[0])\n",
    "    C = [[sum(A[i][k] * B[k][j] for k in range(n)) for j in range(p)] for i in range(m)]\n",
    "\n",
    "    return C   \n",
    "\n",
    "\n",
    "a = [[1, 2], [3, 4]]\n",
    "b = [[5, 6], [7, 8]]\n",
    "c = sumar_matrices(a, b)\n",
    "d = restar_matrices(a, b)\n",
    "e = multiplicar_matrices(a, b)\n",
    "print(f\"La suma de las matrices {a} y {b} es {c}\")\n",
    "print(f\"La resta de las matrices {a} y {b} es {d}\")\n",
    "print(f\"El producto de las matrices {a} y {b} es {e}\")"
   ]
  },
  {
   "cell_type": "markdown",
   "metadata": {},
   "source": [
    "#### Método de Gauss-Jordan para solución de sistemas de ecuaciones lineales"
   ]
  },
  {
   "cell_type": "code",
   "execution_count": 16,
   "metadata": {},
   "outputs": [
    {
     "name": "stdout",
     "output_type": "stream",
     "text": [
      "Solución:\n",
      "[ 2.  3. -1.]\n"
     ]
    }
   ],
   "source": [
    "import numpy as np\n",
    "\n",
    "def gauss_jordan(A, b):\n",
    "    n = len(A)\n",
    "    Ab = np.concatenate((A, b.reshape(n, 1)), axis=1)\n",
    "    Ab = Ab.astype(float)\n",
    "\n",
    "    for i in range(n):\n",
    "        Ab[i] = Ab[i] / Ab[i, i]\n",
    "\n",
    "        for j in range(n):\n",
    "            if j != i:\n",
    "                Ab[j] = Ab[j] - Ab[j, i] * Ab[i]\n",
    "\n",
    "    x = Ab[:, -1]\n",
    "    return x\n",
    "\n",
    "A = np.array([[2, 1, -1], [-3, -1, 2], [-2, 1, 2]])\n",
    "b = np.array([8, -11, -3])\n",
    "\n",
    "x = gauss_jordan(A, b)\n",
    "print(\"Solución:\")\n",
    "print(x)\n"
   ]
  },
  {
   "cell_type": "markdown",
   "metadata": {},
   "source": [
    "#### Rutina que calcule el determinante de una matriz"
   ]
  },
  {
   "cell_type": "code",
   "execution_count": 18,
   "metadata": {},
   "outputs": [
    {
     "name": "stdout",
     "output_type": "stream",
     "text": [
      "Determinante: -1\n"
     ]
    }
   ],
   "source": [
    "def determinante(matrix):\n",
    "    if len(matrix) == 1:\n",
    "        return matrix[0][0]\n",
    "\n",
    "    det = 0\n",
    "    for i in range(len(matrix)):\n",
    "        cofactor = (-1) ** i * matrix[0][i]\n",
    "        submatrix = [row[:i] + row[i+1:] for row in matrix[1:]]\n",
    "        sub_det = determinante(submatrix)\n",
    "        det += cofactor * sub_det\n",
    "\n",
    "    return det\n",
    "\n",
    "matrix = [[2, 1, -1], [-3, -1, 2], [-2, 1, 2]]\n",
    "det = determinante(matrix)\n",
    "print(\"Determinante:\", det)\n"
   ]
  },
  {
   "cell_type": "markdown",
   "metadata": {},
   "source": [
    "#### Rutinas para aproximar con polinomios de McLaurin las funciones seno, coseno, logaritmo, raíz cuadrada"
   ]
  },
  {
   "cell_type": "code",
   "execution_count": 31,
   "metadata": {},
   "outputs": [
    {
     "name": "stdout",
     "output_type": "stream",
     "text": [
      "The sine of 1.0471975511965976 using a Maclaurin polynomial with 10 terms is approximately 0.8660254037844385\n",
      "The cosine of 1.0471975511965976 using a Maclaurin polynomial with 10 terms is approximately 0.5000000000000001\n",
      "The natural logarithm of 1.5 using a Maclaurin polynomial with 10 terms is approximately 0.4054346478174603\n",
      "The square root of 2 using a Maclaurin polynomial with 10 terms is approximately 0.666015625\n"
     ]
    }
   ],
   "source": [
    "import math\n",
    "\n",
    "def maclaurin_sine(x, n=10):\n",
    "    result = 0\n",
    "    for i in range(n):\n",
    "        term = ((-1) ** i) * (x ** (2 * i + 1)) / math.factorial(2 * i + 1)\n",
    "        result += term\n",
    "    return result\n",
    "\n",
    "\n",
    "def maclaurin_cosine(x, n=10):\n",
    "    result = 0\n",
    "    for i in range(n):\n",
    "        term = ((-1) ** i) * (x ** (2 * i)) / math.factorial(2 * i)\n",
    "        result += term\n",
    "    return result\n",
    "\n",
    "\n",
    "def maclaurin_log(x, n=10):\n",
    "    result = 0\n",
    "    for i in range(1, n+1):\n",
    "        term = ((-1) ** (i+1)) * (x ** i) / i\n",
    "        result += term\n",
    "    return result\n",
    "\n",
    "\n",
    "def maclaurin_sqrt(x, n=10):\n",
    "    result = 0\n",
    "    for i in range(n):\n",
    "        term = ((-1) ** i) * (x - 1) ** i / (2 ** i)\n",
    "        result += term\n",
    "    return result\n",
    "\n",
    "\n",
    "x = np.pi / 3 \n",
    "n = 10\n",
    "\n",
    "sine_value = maclaurin_sine(x)\n",
    "cosine_value = maclaurin_cosine(x)\n",
    "log_value = maclaurin_log(0.5)\n",
    "sqrt_value = maclaurin_sqrt(2)\n",
    "\n",
    "print(f\"The sine of {x} using a Maclaurin polynomial with {n} terms is approximately {sine_value}\")\n",
    "print(f\"The cosine of {x} using a Maclaurin polynomial with {n} terms is approximately {cosine_value}\")\n",
    "print(f\"The natural logarithm of 1.5 using a Maclaurin polynomial with {n} terms is approximately {log_value}\")\n",
    "print(f\"The square root of 2 using a Maclaurin polynomial with {n} terms is approximately {sqrt_value}\")\n"
   ]
  },
  {
   "cell_type": "markdown",
   "metadata": {},
   "source": [
    "\n",
    "24. Un programa que cambie de una base numérica a otra.\n",
    "\n",
    "25. Un programa que aproxime arbitrariamente los números π, e y raíz de 2.\n",
    "\n",
    "26. Para los problemas anteriores que trabajan con punto flotante, opcionalmente el usuario podrá especificar la precisión de despliegue utilizada (dos decimales, tres decimales,...).\n",
    "\n",
    "27. Programar funciones para el manejo aritmético de números enteros muy grandes. Extiéndase para números reales."
   ]
  },
  {
   "cell_type": "markdown",
   "metadata": {},
   "source": [
    "### I.3. Manejo básico de listas"
   ]
  },
  {
   "cell_type": "markdown",
   "metadata": {},
   "source": [
    "1. Escribir un programa que capture desde el teclado una cadena de caracteres y la imprima. Otra variante es que el valor de la variable se defina en tiempo de compilación.\n",
    "\n",
    "2. Escribir un programa que capture desde el teclado una cadena de caracteres e imprima su longitud.\n",
    "\n",
    "3. Una función que rote el valor de tres variables dadas (la llamada Rotate(&a, &b, &c) deberá dejar el valor deaenb, el debency el decena).\n",
    "\n",
    "4. Una rutina que diga cuántas vocales hay en una cadena dada.\n",
    "\n",
    "5. Dado un arreglo de números, encontrar el mayor y el menor.\n",
    "\n",
    "6. Invertir el orden de un arreglo de enteros dado.\n",
    "\n",
    "7. Escribir una función que indique si un arreglo está ordenado.\n",
    "\n",
    "8. Dado un conjunto de números, calcular la media mayor de cada dos consecutivos (2 3 5 1 4 2 deberá obtener 4=(5+3)/2).\n",
    "\n",
    "9. Calcular el producto punto de dos vectores n dimensionales. También el producto cruz.\n",
    "\n",
    "10. Calcular la tabla de multiplicar y de sumar hasta el 15, almacenarlas en un arreglo.\n",
    "\n",
    "11. Dada una matriz, calcular su transpuesta.\n",
    "\n",
    "12. Programar un ordenamiento por burbuja.\n",
    "\n",
    "13. Programar una búsqueda binaria en un arreglo de números.\n",
    "\n",
    "14. Rutinas que intercambien el valor de dos variables del mismo tipo (char, unsigned char, char *, unsigned char *, int, ..., struct x *, ...).\n",
    "\n",
    "15. Una función que llene un arreglo de números enteros con números aleatorios (con y sin repetición).\n",
    "\n",
    "16. Presentar los argumentos de la función main."
   ]
  },
  {
   "cell_type": "markdown",
   "metadata": {},
   "source": [
    "### I.4. Manejo de cadenas"
   ]
  },
  {
   "cell_type": "markdown",
   "metadata": {},
   "source": [
    "1. Implementar las funciones tipo `C`: `strlen`, `strcat`, `strcmp`, `strcpy`, `strchr`, `strset`, `strnset`, `isalpha`, `isdigit`, `islower`, `isupper`, `tolower`, `toupper`, `strrev`\n",
    "\n",
    "1. Invertir las mayúsculas y minúsculas de una cadena dada\n",
    "\n",
    "1. Implementar la función `strcmp` de tal forma que opcionalmente distinga o no entre mayúsculas y minúsculas\n",
    "\n",
    "1. Una función que reciba una cadena y un carácter y elimine todas las apariciones de dicho carácter en la cadena. `(“Esta es la cadena”, ‘ ‘)` deberá producir `“Estaeslacadena”`\n",
    "\n",
    "1. Una función que reciba una cadena y dos caracteres y sustituya todas las apariciones del primer carácter en la cadena por el segundo. `(“Esta es la cadena”, ‘a‘, ‘x’)` deberá producir `“Estx es lx cxdenx”`\n",
    "\n",
    "1. Una función que reciba dos cadenas y un entero `n>0`. Las dos cadenas se van a mezclar para formar la salida. La mezcla se realizará tomando `n` caracteres de cada una de las cadenas y copiándolas en la salida. Si se llega al fin de una cadena se concatenará el resto de la otra. La llamada `(“ABCDE”, “abcde”, 2)` deberá producirá la cadena `“ABabCDcdEe”`\n",
    "\n",
    "1. Revise si la cadena es un palindroma.\n",
    "\n",
    "1. Una función que reciba una cadena y un entero `n>0` que invierta cada `n` caracteres, por ejemplo, si recibe `(“ABCDEFGH”,2)` cambiará la cadena a `“BADCFEHG”`, si recibe `(“ABCDEFGH”,3)` cambiará la cadena a `“CBAFEDHG”`. `n=1` dejará la cadena igual.\n",
    "\n",
    "1. Implementar las funciones `atoi()`, `atof()`, `itoa()`, `ftoa()`, `ltoa()`.\n",
    "\n",
    "1. Programar un ordenamiento burbuja que ordene un arreglo de cadenas. \n",
    "\n",
    "1. Programar una búsqueda binaria para un arreglo ordenado de cadenas.\n",
    "\n",
    "1. Ordenar un arreglo de cadenas utilizando el algoritmo de selección. \n",
    "\n",
    "1. Escriba una función que reciba un número entero y que regrese el producto de sus dígitos.\n",
    "\n",
    "1. Escriba una rutina que busque los números que son iguales al producto de sus dígitos.\n",
    "\n",
    "1. Dado una lista de cadenas, insertarlas de manera aleatoria en una matriz cuadrada de caracteres en donde cada lado mida el doble de la longitud de la cadena mayor. La inserción puede contemplar que se crucen dos o más cadenas. El resto de las posiciones de la matriz son llenadas con caracteres de manera aleatoria. Esta es la construcción de un juego de sopa de letras.\n"
   ]
  },
  {
   "cell_type": "markdown",
   "metadata": {},
   "source": [
    "### I.5. Manipulación de bits"
   ]
  },
  {
   "cell_type": "markdown",
   "metadata": {},
   "source": [
    "1. Implementar distintos procedimientos para calcular la cantidad de bits de cada tipo de dato (al menos tres).\n",
    "\n",
    "2. Una función que cuente la cantidad de bits puestos en 1 de un dato recibido.\n",
    "\n",
    "3. Una función que muestre la representación binaria de variables tipo char, unsigned char, int y unsigned int haciendo uso de operaciones bit a bit, usando el operador módulo y mediante una unión de cada tipo de dato con una estructura con campos de bits.\n",
    "\n",
    "4. Hacer una función que reciba un unsigned y una dirección a caracter y regrese la misma dirección de la cadena con la representación binaria del dato recibido (ver problema anterior).\n",
    "\n",
    "5. Hacer un programa que haga lo contrario del problema anterior: a partir de la notación binaria escrita en una cadena de caracteres, genere el número entero correspondiente.\n",
    "\n",
    "6. Hacer una función que indique si un tipo de datos tiene una disposición palindrómica de bits.\n",
    "\n",
    "7. Hacer una función que reciba un byte (o más) y que regrese sus bits en sentido contrario (usando espacio extra y\n",
    "sin usarlo). 10111000 deberá ser convertido en 00011101.\n",
    "\n",
    "8. Implementar rutinas para realizar operaciones con conjuntos, utilizando operaciones bit a bit en variables unsigned long int. Esto implica que el universo estará restringido, pero pueden considerarse arreglos de este tipo de variables para ampliarlo.\n",
    "\n",
    "9. Implementar una rutina que reciba uno o dos bytes y regrese los b siguientes bits que resultan de saltarse los primerosamenossignificativos. Porejemplo,sillegaelbyte00101101ya=2,b=3,elresultadodeberáser 00000011.\n",
    "\n",
    "10. Escriba una función que reciba dos tipos char y que los regrese en un solo tipo int. Se puede también regresar dos enteros acomodados en un entero largo. Intentarlo también con 5 grupos de 3 bits acomodados en 2 bytes.\n",
    "\n",
    "11. Escribir una función que regrese el resultado de rotar n posiciones los bits del entero que recibe: la llamada Nuevo = Rotate_L(Dato, Pos) con Dato=10001101 y Pos=3 dejará Nuevo=01101100. También se puede implementar una que haga rotaciones a la derecha, que podría llamarse Rotate_R."
   ]
  },
  {
   "cell_type": "markdown",
   "metadata": {},
   "source": [
    "### I.6. Manejo de archivos"
   ]
  },
  {
   "cell_type": "markdown",
   "metadata": {},
   "source": [
    "1. Crear dos archivos de texto con números al azar, uno con repeticiones y el otro sin repeticiones. Leer los archivos y almacenarlos en arreglos. (Este problema son dos programas: uno para escritura y otro para lectura.)\n",
    "\n",
    "2. Crear un archivo de texto con cadenas de longitud variada. Leer este archivo y almacenarlo mediante un arreglo de apuntadores. (Este problema son dos programas: uno para escritura y otro para lectura.)\n",
    "\n",
    "3. Hacer uso de los argumentos de main para leer o escribir los archivos generados al azar en los dos puntos anteriores.\n",
    "\n",
    "4. Un programa que muestre la incidencia de cada símbolo en un archivo de texto. El nombre del archivo debe poder ser dado en la línea de comando.\n",
    "\n",
    "5. Programar versiones sencillas los comandos de UNIX wc, diff, cut, sort, rev, grep, cat, tail, paste, more. Consúltese algún libro sobre UNIX.\n",
    "\n",
    "6. Un programa que cuente cuántas palabras de un archivo tiene como primer vocal a la a. Hacerlo para cada vocal.\n",
    "\n",
    "7. Un programa que intercale las líneas de dos archivos.\n",
    "\n",
    "8. Un programa que cuente cuántas palabras con n vocales (distintas y en total) hay en un archivo (n=1,2,3,4). Contar las vocales repetidas en la misma palabra.\n",
    "\n",
    "9. Un preprocesador de C que inserte archivos de cabecera. La salida deberá ser otro programa en C en el que no haya instrucciones #include.\n",
    "\n",
    "10. Un programa que cuente las ocurrencias de las palabras de un archivo de texto.\n",
    "\n",
    "11. Un programa que cuente cuántas palabras hay de la misma longitud. El mismo programa se puede repetir cuándo el estudiante haya visto tablas hash.\n",
    "\n",
    "12. Un programa que construya la tabla de incidencias de cada pareja de letras de un archivo dado. \n",
    "\n",
    "13. Un programa que sustituya toda ocurrencia de una palabra dada por alguna otra en un archivo. \n",
    "\n",
    "14. Un programa que sustituya espacios en un archivo por tabuladores y viceversa.\n",
    "\n",
    "15. Un programa que justifique un archivo de texto a un ancho dado.\n",
    "\n",
    "16. Un programa que ponga números de línea en un archivo de texto.\n",
    "\n",
    "17. Construya un juego de sopa de letras, donde el conjunto de cadenas que se ocultarán será leido de un archivo."
   ]
  },
  {
   "cell_type": "markdown",
   "metadata": {},
   "source": [
    "### I.7. Gráficos\n",
    "\n",
    "> En esta sección es muy importante el uso de coordenadas relativas, como parte de la práctica de buenas costumbres de codificación."
   ]
  },
  {
   "cell_type": "markdown",
   "metadata": {},
   "source": [
    "1. Una función que dados dos pares de coordenadas en el plano dibuje una línea en modo texto (con asteriscos).\n",
    "\n",
    "2. Una función que dados dos pares de coordenadas en el plano dibuje un rectángulo en modo texto (con asteriscos).\n",
    "\n",
    "3. Una función que grafique un círculo en modo de texto (con asteriscos), dado un radio.\n",
    "\n",
    "4. Un programa que grafique una función escrita en el mismo código fuente, dados el dominio y el rango.\n",
    "\n",
    "5. Un programa que grafique el histograma de un conjunto de números leídos de un archivo.\n",
    "\n",
    "6. Un caleidoscopio sencillo (sólo 4 u 8 reflejos).\n",
    "\n",
    "7. Un programa que dibuje algún objeto en dos dimensiones conocido (un gato, un carro, una mesa vista en perspectiva, una computadora).\n",
    "\n",
    "8. Un programa donde el usuario determine dos ppuntos con el ratón y que se trace el segmento de recta correspondiente. Extenderlo a otras figuras.\n",
    "\n",
    "9. Un programa que mueva una pelota en un cuadro dibujado y que la haga rebotar en los bordes. Una variante de este programa es el simular una caída libre y considerar la aceleración causada por la fuerza de gravedad."
   ]
  },
  {
   "cell_type": "markdown",
   "metadata": {},
   "source": [
    "### I.8. Recursos del Sistema\n"
   ]
  },
  {
   "cell_type": "markdown",
   "metadata": {},
   "source": [
    "1. Mostrar la cantidad de memoria disponible, cercana (near) y lejana (far).\n",
    "\n",
    "2. Rutinas con manejo directo de la memoria de video para dibujar marcos y cambiar los atributos de una región dada.\n",
    "\n",
    "3. Rutinas para salvar la información de la pantalla y recuperarla cuando el programa termine.\n",
    "\n",
    "4. Rutinas para el manejo del ratón.\n",
    "\n",
    "5. Escribir una rutina que escriba directamente en la memoria de la video una cadena en modo de texto, especificando posición y atributo.\n",
    "\n",
    "6. Modificar la rutina anterior para utilizar dos atributos para hacer notar algún símbolo en especial (como hot keys en un menú).\n",
    "\n",
    "7. UnarutinaGet_Keyb()quefuncioneparatodoelteclado.\n",
    "\n",
    "8. Una función para desplegar una cadena dada en una posición y longitud máxima de despliegue dados.\n",
    "\n",
    "9. Un editor de líneas haciendo uso de los dos puntos anteriores.\n",
    "\n",
    "10. Un programa que presente las características del sistema en que se está. 11.Rutinas para la captura de la interrupción del teclado."
   ]
  },
  {
   "cell_type": "markdown",
   "metadata": {},
   "source": [
    "### I.9. Miscelánea"
   ]
  },
  {
   "cell_type": "markdown",
   "metadata": {},
   "source": [
    "1. Programar el juego del gato de 4x4 entre la computadora y el usuario. El juego sólo tiene que revisar primero si puede ganar, segundo evitar que el usuario gane o tercero colocar una marca en alguna de las columnas o diagonales más vacías.\n",
    "\n",
    "2. Programar el juego de adivinar los números de una combinación al azar obtenida por la computadora, dando pistas de cuántos están en la combinación y cuántos están en posición correcta. Debe haber un límite de intentos para el usuario. Con 4 dígitos es suficiente. Este juego se conoce como Master Mind. Preferentemente utilizar modo gráfico con fichas de colores (adivinar 4 fichas de 6 posibles).\n",
    "\n",
    "3. Hacer un programa que genere una secuencia de sonidos aleatoria que el usuario deberá repetir. Cada turno, la computadora deberá agregar un sonido más, comenzando con uno sólo al inicio del juego. Este se conoce como “Simón dice”. Prepárese una presentación donde con colores se ayude al usuario.\n",
    "\n",
    "4. Dada una matriz de caracteres (una sopa de letras) y un arreglo de cadenas, hacer un programa que indique cuáles cadenas están en la matriz.\n",
    "\n",
    "5. Escribir un programa que dada una cadena de caracteres presente y ejecute su clave Morse y viceversa (dada la clave Morse, escribir la cadena correspondiente).\n",
    "\n",
    "6. Programar el juego del 15 (Taken) para que el usuario lo juegue.\n",
    "\n",
    "7. Un programa para ver en cuántas barajadas perfectas se regresa al orden original en un mazo de n cartas. El número de cartas será dado por el usuario. Visualización opcional.\n",
    "\n",
    "8. Un juego que no permita caer una pelota hasta la parte baja de la pantalla. La barra con que se tocará la pelota será manipulada por las flechas de movimiento horizontal y la velocidad podrá ir aumentando. Se puede ir llevando la puntuación.\n",
    "\n",
    "9. Un graficador de funciones que al tocar la curva graficada con el mouse, muestre la pendiente en ese punto.\n",
    "\n",
    "10. Escriba una función que maneje una lista variable de argumentos enteros y que presente su suma en el formato que se le envía como primer argumento.\n",
    "\n",
    "11. Escriba una versión sencilla de la función printf.\n",
    "\n",
    "12. Escriba una función que regrese un flotante y que reciba enteros, flotantes y fracciones. Por ejemplo, la llamada Suma(“ffere”, 23.5, 7.4, 12, 2, 3, 67) deberá regresar la suma 23.5 + 7.4 + 12 + 2/3 + 67."
   ]
  },
  {
   "cell_type": "markdown",
   "metadata": {},
   "source": []
  }
 ],
 "metadata": {
  "kernelspec": {
   "display_name": "prope_A23",
   "language": "python",
   "name": "python3"
  },
  "language_info": {
   "codemirror_mode": {
    "name": "ipython",
    "version": 3
   },
   "file_extension": ".py",
   "mimetype": "text/x-python",
   "name": "python",
   "nbconvert_exporter": "python",
   "pygments_lexer": "ipython3",
   "version": "3.10.10"
  }
 },
 "nbformat": 4,
 "nbformat_minor": 2
}
