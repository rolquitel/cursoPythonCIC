{
 "cells": [
  {
   "attachments": {},
   "cell_type": "markdown",
   "metadata": {},
   "source": [
    "# ¿Cuáles son los operadores en Python?\n",
    "\n",
    "Por lo general, las matemáticas implican unas cuatro operaciones principales: suma, resta, multiplicación y división. Python admite estos cuatro operadores y algunos otros. Vamos a explorar los operadores más comunes que usará en los programas.\n",
    "\n",
    "## Suma\n",
    "Python usa para `+` indicar la suma. Usar `+` entre dos números los suma y proporciona el total."
   ]
  },
  {
   "cell_type": "code",
   "execution_count": 1,
   "metadata": {},
   "outputs": [
    {
     "name": "stdout",
     "output_type": "stream",
     "text": [
      "42\n"
     ]
    }
   ],
   "source": [
    "answer = 30 + 12\n",
    "print(answer)"
   ]
  },
  {
   "attachments": {},
   "cell_type": "markdown",
   "metadata": {},
   "source": [
    "> **Nota:** Los operadores se comportan igual cuando se usan números literales (como 42) o variables.\n",
    "\n",
    "## Resta\n",
    "De manera similar, Python utiliza `-` para la resta. Usar `-` entre dos números los resta y proporciona la diferencia."
   ]
  },
  {
   "cell_type": "code",
   "execution_count": 2,
   "metadata": {},
   "outputs": [
    {
     "name": "stdout",
     "output_type": "stream",
     "text": [
      "18\n"
     ]
    }
   ],
   "source": [
    "difference = 30 - 12\n",
    "print(difference)"
   ]
  },
  {
   "attachments": {},
   "cell_type": "markdown",
   "metadata": {},
   "source": [
    "## Multiplicación\n",
    "En Python, `*` es el operador de multiplicación. Proporciona el producto de dos números:\n"
   ]
  },
  {
   "cell_type": "code",
   "execution_count": 3,
   "metadata": {},
   "outputs": [
    {
     "name": "stdout",
     "output_type": "stream",
     "text": [
      "360\n"
     ]
    }
   ],
   "source": [
    "product = 30 * 12\n",
    "print(product)"
   ]
  },
  {
   "attachments": {},
   "cell_type": "markdown",
   "metadata": {},
   "source": [
    "## División\n",
    "Por último, `/` se usa para la división. Proporciona el cociente de dos números:\n"
   ]
  },
  {
   "cell_type": "code",
   "execution_count": 4,
   "metadata": {},
   "outputs": [
    {
     "name": "stdout",
     "output_type": "stream",
     "text": [
      "2.5\n"
     ]
    }
   ],
   "source": [
    "quotient = 30 / 12\n",
    "print(quotient)\n"
   ]
  },
  {
   "attachments": {},
   "cell_type": "markdown",
   "metadata": {},
   "source": [
    "### Uso de la división\n",
    "Imagine que debe convertir un número de segundos en minutos y segundos para su visualización.\n",
    "\n",
    "El primer paso consiste en determinar el número de minutos que hay en 1042 segundos. Con 60 segundos en un minuto, puede dividir por 60 y obtener una respuesta de 17.3666667. El número que le interesa simplemente es 17. Se recomienda redondear hacia abajo, usando lo que se conoce como división de múltiplo inferior. Para realizar una división de este tipo en Python, debe utilizar `//`.\n"
   ]
  },
  {
   "cell_type": "code",
   "execution_count": 5,
   "metadata": {},
   "outputs": [
    {
     "name": "stdout",
     "output_type": "stream",
     "text": [
      "17\n"
     ]
    }
   ],
   "source": [
    "seconds = 1042\n",
    "display_minutes = 1042 // 60\n",
    "print(display_minutes)\n"
   ]
  },
  {
   "attachments": {},
   "cell_type": "markdown",
   "metadata": {},
   "source": [
    "El paso siguiente es determinar el número de segundos. Este número es el resto de 1042 si divide entre 60. Para encontrar el resto, use el operador módulo, que en Python es `%`. El resto de `1042 / 60` es 22, que es el valor que el operador módulo proporcionará.\n"
   ]
  },
  {
   "cell_type": "code",
   "execution_count": 6,
   "metadata": {},
   "outputs": [
    {
     "name": "stdout",
     "output_type": "stream",
     "text": [
      "17\n",
      "22\n"
     ]
    }
   ],
   "source": [
    "seconds = 1042\n",
    "display_minutes = 1042 // 60\n",
    "display_seconds = 1042 % 60\n",
    "\n",
    "print(display_minutes)\n",
    "print(display_seconds)\n"
   ]
  },
  {
   "attachments": {},
   "cell_type": "markdown",
   "metadata": {},
   "source": [
    "## Orden de las operaciones\n",
    "Python respeta el orden de las operaciones en matemáticas. El orden de las operaciones determina que las expresiones se deben evaluar en este orden:\n",
    "\n",
    "1. Paréntesis\n",
    "2. Exponentes\n",
    "3. Multiplicación y división\n",
    "4. Suma y resta\n",
    "\n",
    "Observe que se evalúan los paréntesis antes que cualquier otra operación. Usar paréntesis le permite asegurarse de que el código se ejecute de una manera predecible y el código resulta más fácil de leer y mantener. Como resultado, el procedimiento recomendado es usar paréntesis aunque el orden de las operaciones se evalúe de la misma manera sin ellos. En las dos líneas de código siguientes, la segunda es más comprensible porque el paréntesis indica claramente qué operación se realizará primero.\n"
   ]
  },
  {
   "cell_type": "code",
   "execution_count": 7,
   "metadata": {},
   "outputs": [
    {
     "name": "stdout",
     "output_type": "stream",
     "text": [
      "1084\n",
      "1084\n"
     ]
    }
   ],
   "source": [
    "# The answer is the same in both cases - 1084\n",
    "result_1 = 1032 + 26 * 2\n",
    "result_2 = 1032 + (26 * 2)\n",
    "\n",
    "print(result_1)\n",
    "print(result_2)"
   ]
  },
  {
   "attachments": {},
   "cell_type": "markdown",
   "metadata": {},
   "source": [
    "# Uso de números en Python\n",
    "\n",
    "Más allá de la aritmética básica, puede usar otras operaciones en los números. Es posible que tenga que realizar un redondeo o convertir cadenas en números.\n",
    "\n",
    "En el escenario de este módulo, quiere aceptar la entrada de un usuario. La entrada será una cadena en lugar de un número, por lo que deberá convertirla en un número. Además, es posible que el usuario escriba valores que le den una respuesta negativa que no querrá mostrar. Puede que tenga que convertir la respuesta en el valor absoluto. Afortunadamente, Python proporciona utilidades para estas operaciones.\n",
    "\n",
    "Conversión de cadenas en números\n",
    "Python admite dos tipos principales de números: números enteros (o `int`) y número de punto flotante (o `float`). La diferencia clave entre ambos es la existencia de un separador decimal; los enteros son números enteros, mientras que los números de punto flotante contienen un valor decimal.\n",
    "\n",
    "Al convertir cadenas en números, debe indicar el tipo de número que desea crear. Tiene que decidir si necesita un separador decimal. Se usa `int` para realizar la conversión en un número entero y `float` para hacerlo en un número de punto flotante.\n"
   ]
  },
  {
   "cell_type": "code",
   "execution_count": 8,
   "metadata": {},
   "outputs": [
    {
     "name": "stdout",
     "output_type": "stream",
     "text": [
      "215\n",
      "215.3\n"
     ]
    }
   ],
   "source": [
    "demo_int = int('215')\n",
    "print(demo_int)\n",
    "\n",
    "demo_float = float('215.3')\n",
    "print(demo_float)"
   ]
  },
  {
   "attachments": {},
   "cell_type": "markdown",
   "metadata": {},
   "source": [
    "< **Importante:** Si usa un valor no válido para `int` o `float`, recibirá un error.\n",
    "\n",
    "## Valores absolutos\n",
    "En matemáticas, un valor absoluto es el número no negativo sin su signo. El uso de un valor absoluto puede ser útil en situaciones varias, incluido el ejemplo de búsqueda para determinar la distancia entre dos planetas. Considere los cálculos siguientes:\n",
    "\n"
   ]
  },
  {
   "cell_type": "code",
   "execution_count": 9,
   "metadata": {},
   "outputs": [
    {
     "data": {
      "text/plain": [
       "23"
      ]
     },
     "execution_count": 9,
     "metadata": {},
     "output_type": "execute_result"
    }
   ],
   "source": [
    "39 - 16"
   ]
  },
  {
   "cell_type": "code",
   "execution_count": 10,
   "metadata": {},
   "outputs": [
    {
     "data": {
      "text/plain": [
       "-23"
      ]
     },
     "execution_count": 10,
     "metadata": {},
     "output_type": "execute_result"
    }
   ],
   "source": [
    "16 - 39"
   ]
  },
  {
   "attachments": {},
   "cell_type": "markdown",
   "metadata": {},
   "source": [
    "Observe que la diferencia entre las dos ecuaciones es que los números se invierten. Las respuestas son 23 y -23, respectivamente. Al determinar la distancia entre dos planetas, no importa el orden en el que se escriben los números, ya que la respuesta absoluta es la misma.\n",
    "\n",
    "Use `abs` para convertir el valor negativo en su valor absoluto. Si hace la misma operación mediante `abs` (e imprime las respuestas), verá que muestra 23 para ambas ecuaciones.\n"
   ]
  },
  {
   "cell_type": "code",
   "execution_count": 11,
   "metadata": {},
   "outputs": [
    {
     "name": "stdout",
     "output_type": "stream",
     "text": [
      "23\n",
      "23\n"
     ]
    }
   ],
   "source": [
    "print(abs(39 - 16))\n",
    "print(abs(16 - 39))"
   ]
  },
  {
   "attachments": {},
   "cell_type": "markdown",
   "metadata": {},
   "source": [
    "## Redondeo\n",
    "También es útil la función integrada de Python denominada `round`. Úsela para redondear hacia arriba al entero más cercano si el valor decimal es .5 o mayor, o bien hacia abajo si es menor que .5.\n"
   ]
  },
  {
   "cell_type": "code",
   "execution_count": 12,
   "metadata": {},
   "outputs": [
    {
     "name": "stdout",
     "output_type": "stream",
     "text": [
      "14\n"
     ]
    }
   ],
   "source": [
    "print(round(14.5))"
   ]
  },
  {
   "attachments": {},
   "cell_type": "markdown",
   "metadata": {},
   "source": [
    "## Biblioteca matemática\n",
    "Python tiene bibliotecas para proporcionar operaciones y cálculos más avanzados. Una de las más comunes es la biblioteca `math`. `math` permite hacer el redondeo con `floor` y `ceil`, proporcionar el valor de pi y muchas otras operaciones. Veamos cómo usar esta biblioteca para redondear hacia arriba o hacia abajo.\n",
    "\n",
    "El redondeo de números permite quitar la parte decimal de un número de punto flotante. Puede optar por redondear siempre hacia arriba al número entero más cercano si usa `ceil`, o hacia abajo si usa `floor`.\n"
   ]
  },
  {
   "cell_type": "code",
   "execution_count": null,
   "metadata": {},
   "outputs": [],
   "source": [
    "from math import ceil, floor\n",
    "\n",
    "round_up = ceil(12.5)\n",
    "print(round_up)\n",
    "\n",
    "round_down = floor(12.5)\n",
    "print(round_down)\n"
   ]
  }
 ],
 "metadata": {
  "kernelspec": {
   "display_name": "cursoMS",
   "language": "python",
   "name": "python3"
  },
  "language_info": {
   "codemirror_mode": {
    "name": "ipython",
    "version": 3
   },
   "file_extension": ".py",
   "mimetype": "text/x-python",
   "name": "python",
   "nbconvert_exporter": "python",
   "pygments_lexer": "ipython3",
   "version": "3.10.10"
  },
  "orig_nbformat": 4
 },
 "nbformat": 4,
 "nbformat_minor": 2
}
