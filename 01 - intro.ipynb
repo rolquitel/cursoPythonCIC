{
 "cells": [
  {
   "attachments": {},
   "cell_type": "markdown",
   "metadata": {},
   "source": [
    "# Abriendo tu apetito \n",
    "\n",
    "Si trabaja mucho en computadoras, eventualmente encontrará que hay alguna tarea que le gustaría automatizar. Por ejemplo, es posible que desee realizar una búsqueda y reemplazo en una gran cantidad de archivos de texto, o cambiar el nombre y reorganizar un montón de archivos de fotos de una manera complicada. Tal vez le gustaría escribir una pequeña base de datos personalizada, una aplicación GUI especializada o un juego simple.\n",
    "\n",
    "Si es un desarrollador de software profesional, es posible que deba trabajar con varias bibliotecas C/C++/Java, pero el ciclo habitual de escritura/compilación/prueba/recompilación es demasiado lento. Tal vez esté escribiendo un conjunto de pruebas para una biblioteca de este tipo y encuentre que escribir el código de prueba es una tarea tediosa. O tal vez haya escrito un programa que podría usar un lenguaje de extensión y no desea diseñar e implementar un lenguaje completamente nuevo para su aplicación.\n",
    "\n",
    "Puede escribir un script de shell de Unix o archivos por lotes de Windows para algunas de estas tareas, pero los scripts de shell son mejores para mover archivos y cambiar datos de texto, no son adecuados para aplicaciones GUI o juegos. Podría escribir un programa C/C++/Java, pero puede llevar mucho tiempo de desarrollo obtener incluso un programa preliminar. Python es más fácil de usar, está disponible en los sistemas operativos Windows, macOS y Unix, y lo ayudará a realizar el trabajo más rápidamente.\n",
    "\n",
    "Python es fácil de usar, pero es un lenguaje de programación real, que ofrece mucha más estructura y soporte para programas grandes de lo que pueden ofrecer los scripts de shell o los archivos por lotes. Por otro lado, Python también ofrece mucha más verificación de errores que C y, al ser un lenguaje de muy alto nivel , tiene tipos de datos de alto nivel incorporados, como matrices flexibles y diccionarios. Debido a sus tipos de datos más generales, Python es aplicable a un dominio de problemas mucho más grande que Awk o incluso Perl, sin embargo, muchas cosas son al menos tan fáciles en Python como en esos lenguajes.\n",
    "\n",
    "Python le permite dividir su programa en módulos que pueden reutilizarse en otros programas de Python. Viene con una gran colección de módulos estándar que puede usar como base de sus programas, o como ejemplos para comenzar a aprender a programar en Python. Algunos de estos módulos proporcionan cosas como E/S de archivos, llamadas al sistema, sockets e incluso interfaces para kits de herramientas de interfaz gráfica de usuario como Tk.\n",
    "\n",
    "Python es un lenguaje interpretado, lo que puede ahorrarle un tiempo considerable durante el desarrollo del programa porque no es necesario compilar ni vincular. El intérprete se puede utilizar de forma interactiva, lo que facilita experimentar con las características del lenguaje, escribir programas desechables o probar funciones durante el desarrollo de programas de abajo hacia arriba. También es una práctica calculadora de escritorio.\n",
    "\n",
    "Python permite que los programas se escriban de forma compacta y legible. Los programas escritos en Python suelen ser mucho más cortos que los programas equivalentes en C, C++ o Java, por varias razones:\n",
    "\n",
    "* los tipos de datos de alto nivel le permiten expresar operaciones complejas en una sola declaración;\n",
    "\n",
    "* la agrupación de declaraciones se realiza mediante sangría en lugar de corchetes iniciales y finales;\n",
    "\n",
    "* no se necesitan declaraciones de variables o argumentos.\n",
    "\n",
    "Python es *extensible*: si sabe programar en C, es fácil agregar una nueva función o módulo incorporado al intérprete, ya sea para realizar operaciones críticas a la máxima velocidad, o para vincular programas de Python a bibliotecas que pueden estar solo disponibles. en forma binaria (como una biblioteca de gráficos específica del proveedor). Una vez que esté realmente enganchado, puede vincular el intérprete de Python a una aplicación escrita en C y usarlo como una extensión o lenguaje de comandos para esa aplicación.\n",
    "\n",
    "Para este curso vamos a utilizar cuadernos interactivos de Python (`.ipynb` - *Interactive PYthon NoteBook*), que son como este archivo. Para poder visualizarlos es necesario tener un intérprete, para ello hay varias opciones, las 2 mejores son:\n",
    "\n",
    "* Utilizar Google Colab\n",
    "    * Entrar en https://colab.research.google.com\n",
    "    * Ingresar con su cuenta de Google\n",
    "    * Seleccionar `Subir` o `Nuevo`\n",
    "\n",
    "* Utilizar Visual Studio Code\n",
    "    * Descargar e instalar Python (se recomienda Anaconda - https://www.anaconda.com/)\n",
    "    * Descargar e instalar Visual Studio Code (https://code.visualstudio.com/)\n",
    "    * Abrir VS Code \n",
    "    * Seleccionar `Archivo > Nuevo Archivo` y luego `Jupyter Notebook` (opcionalmente `Archivo > Abrir` y seleccionar cualquier archivo `.ipynb`)  \n",
    "    * Se mostrará un recuadro en la parte inferior derecha preguntando si se desea instalar las herramientas de Python. Seleccionar `Instalar`\n",
    "    * Permitir que se configure (https://youtu.be/wUNYQ8nN1-0)\n"
   ]
  },
  {
   "cell_type": "markdown",
   "metadata": {},
   "source": [
    "# 1. Introducción\n",
    "\n",
    "Muchos de los ejemplos, incluso aquellos ingresados ​​en el indicador interactivo, incluyen comentarios. Los comentarios en Python comienzan con el carácter hash `#` y se extienden hasta el final de la línea física. Un comentario puede aparecer al comienzo de una línea o después de un espacio en blanco o código, pero no dentro de un literal de cadena. Un carácter hash dentro de un literal de cadena es solo un carácter hash. Dado que los comentarios son para aclarar el código y Python no los interpreta, se pueden omitir al escribir ejemplos."
   ]
  },
  {
   "cell_type": "code",
   "execution_count": null,
   "metadata": {},
   "outputs": [],
   "source": [
    "# Éste es el primer comentario\n",
    "spam = 1  # Y este es el segundo comentario\n",
    "          # ... y el tercero!\n",
    "text = \"# Éste no es un comentario porque está entre comillas.\""
   ]
  },
  {
   "cell_type": "markdown",
   "metadata": {},
   "source": [
    "## 1.1. Usando Python como calculadora \n",
    "\n",
    "\n"
   ]
  },
  {
   "cell_type": "markdown",
   "metadata": {},
   "source": [
    "### 1.1.1. Números \n",
    "El cuaderno interactivo puede actuar como una simple calculadora: puede escribir una expresión y escribirá el valor. La sintaxis de las expresiones es sencilla: los operadores `+`, y funcionan como en la mayoría de los demás lenguajes (por ejemplo, Pascal o C) se pueden usar paréntesis `( )` para agrupar. Por ejemplo: `*/()`.\n",
    "\n",
    "> **Nota:** Para ejecutar una celda puede dar clic en el botón ejecutar que aparece a la izquierda de cada celda, o en su defecto las teclas `<Shift>-<Enter>`"
   ]
  },
  {
   "cell_type": "code",
   "execution_count": null,
   "metadata": {},
   "outputs": [
    {
     "data": {
      "text/plain": [
       "4"
      ]
     },
     "metadata": {},
     "output_type": "display_data"
    }
   ],
   "source": [
    "2+2"
   ]
  },
  {
   "cell_type": "code",
   "execution_count": null,
   "metadata": {},
   "outputs": [],
   "source": [
    "50 - 5*6"
   ]
  },
  {
   "cell_type": "code",
   "execution_count": null,
   "metadata": {},
   "outputs": [],
   "source": [
    "(50 - 5*6) / 4"
   ]
  },
  {
   "cell_type": "code",
   "execution_count": null,
   "metadata": {},
   "outputs": [],
   "source": [
    "8 / 5  # La división siempre regresa un número de punto flotante"
   ]
  },
  {
   "cell_type": "markdown",
   "metadata": {},
   "source": [
    "Los números enteros (ej 2, 4, 20) tienen tipo entero (`int`), los que tienen parte fraccionaria (ej 5.0, 1.6) tienen tipo de punto flotante (`float`). Veremos más sobre los tipos numéricos más adelante.\n",
    "\n",
    "La división (`/`) siempre devuelve un flotante. Para hacer una división de piso y obtener un resultado entero, puede usar el operador `//`; para calcular el resto o módulo puedes usar `%`:"
   ]
  },
  {
   "cell_type": "code",
   "execution_count": null,
   "metadata": {},
   "outputs": [],
   "source": [
    "17 / 3  # La división clásica regresa un número de punto flotante"
   ]
  },
  {
   "cell_type": "code",
   "execution_count": null,
   "metadata": {},
   "outputs": [],
   "source": [
    "17 // 3  # La división piso descarta la parte fraccionaria"
   ]
  },
  {
   "cell_type": "code",
   "execution_count": null,
   "metadata": {},
   "outputs": [],
   "source": [
    "17 % 3  # el operador % regresa el resto de la división"
   ]
  },
  {
   "cell_type": "code",
   "execution_count": null,
   "metadata": {},
   "outputs": [],
   "source": [
    "5 * 3 + 2  # cociente piso * divisor + resto"
   ]
  },
  {
   "cell_type": "markdown",
   "metadata": {},
   "source": [
    "Con Python, es posible usar el operador `**` para calcular potencias"
   ]
  },
  {
   "cell_type": "code",
   "execution_count": null,
   "metadata": {},
   "outputs": [],
   "source": [
    "5**2 # 5 al cuadrado"
   ]
  },
  {
   "cell_type": "code",
   "execution_count": null,
   "metadata": {},
   "outputs": [],
   "source": [
    "2**7 # 2 a la 7ma potencia"
   ]
  },
  {
   "cell_type": "markdown",
   "metadata": {},
   "source": [
    "El signo igual (`=`) se utiliza para asignar un valor a una variable. Posteriormente, no se muestra ningún resultado antes del siguiente mensaje interactivo:"
   ]
  },
  {
   "cell_type": "code",
   "execution_count": null,
   "metadata": {},
   "outputs": [],
   "source": [
    "width = 20\n",
    "height = 5 * 9\n",
    "width * height"
   ]
  },
  {
   "cell_type": "markdown",
   "metadata": {},
   "source": [
    "Si una variable no está \"definida\" (no se le ha asignado un valor), intentar usarla le dará un error:"
   ]
  },
  {
   "cell_type": "code",
   "execution_count": null,
   "metadata": {},
   "outputs": [],
   "source": [
    "n # intenta imprimir n"
   ]
  },
  {
   "cell_type": "markdown",
   "metadata": {},
   "source": [
    "Hay soporte completo para punto flotante; Los operadores con operandos de tipo mixto convierten el operando entero en punto flotante:"
   ]
  },
  {
   "cell_type": "code",
   "execution_count": null,
   "metadata": {},
   "outputs": [],
   "source": [
    "4 * 3.75 - 1"
   ]
  },
  {
   "cell_type": "markdown",
   "metadata": {},
   "source": [
    "En modo interactivo, la última expresión impresa se asigna a la variable _. Esto significa que cuando usa Python como calculadora de escritorio, es algo más fácil continuar con los cálculos, por ejemplo:"
   ]
  },
  {
   "cell_type": "code",
   "execution_count": null,
   "metadata": {},
   "outputs": [],
   "source": [
    "tax = 12.5 / 100"
   ]
  },
  {
   "cell_type": "code",
   "execution_count": null,
   "metadata": {},
   "outputs": [],
   "source": [
    "price = 100.50"
   ]
  },
  {
   "cell_type": "code",
   "execution_count": null,
   "metadata": {},
   "outputs": [],
   "source": [
    "price * tax"
   ]
  },
  {
   "cell_type": "code",
   "execution_count": null,
   "metadata": {},
   "outputs": [],
   "source": [
    "price + _"
   ]
  },
  {
   "cell_type": "code",
   "execution_count": null,
   "metadata": {},
   "outputs": [],
   "source": [
    "round(_, 2)"
   ]
  },
  {
   "cell_type": "markdown",
   "metadata": {},
   "source": [
    "El usuario debe tratar esta variable como de solo lectura. No le asigne explícitamente un valor; crearía una variable local independiente con el mismo nombre enmascarando la variable integrada con su comportamiento mágico.\n",
    "\n",
    "Además de `int` y `float`, Python admite otros tipos de números, como *Decimal* y *Fraction*. Python también tiene soporte incorporado para *números complejos* y usa el sufijo `j` o `J` para indicar la parte imaginaria (por ejemplo `3+5j`)."
   ]
  },
  {
   "attachments": {},
   "cell_type": "markdown",
   "metadata": {},
   "source": [
    "### 1.1.2. Función `print()`\n",
    "\n",
    "Una de las primeras cosas que es probable que haga es imprimir en una consola. En la consola, puede ejecutar comandos y programas. También puede escribir información y mostrarla como texto en la pantalla.\n",
    "\n",
    "Para escribir información en la consola, puede usar la función `print()` e implementarla como una función principal. Como se trata de una función principal, tendrá acceso a ella si Python está instalado. Para usarlo `print()` en el programa, asígnele un argumento:\n"
   ]
  },
  {
   "cell_type": "code",
   "execution_count": null,
   "metadata": {},
   "outputs": [],
   "source": [
    "print(\"show this in the console\")"
   ]
  },
  {
   "attachments": {},
   "cell_type": "markdown",
   "metadata": {},
   "source": [
    "Observe cómo el comando anterior llama a `print()` mediante el uso de paréntesis. Así es como se ejecuta una función. Si ha usado corchetes (`[]`) en lugar de paréntesis, no funcionará, ya que observará si ejecuta el programa de nuevo con este código:\n"
   ]
  },
  {
   "cell_type": "code",
   "execution_count": null,
   "metadata": {},
   "outputs": [],
   "source": [
    "print[\"show this in the console\"]"
   ]
  },
  {
   "attachments": {},
   "cell_type": "markdown",
   "metadata": {},
   "source": [
    "Otro aspecto que hay que tener en cuenta es el uso de comillas dobles (`\"\"`). Así es como se declara un literal de cadena, con un valor como el que se va a imprimir: `\"mostrar esto en la consola\"`."
   ]
  },
  {
   "attachments": {},
   "cell_type": "markdown",
   "metadata": {},
   "source": [
    "## 1.2. Variables\n",
    "Para llegar a cualquier lugar con la codificación, debe comprender que está trabajando con datos. Como el programa funciona con datos, es posible que tenga que recordar un valor determinado durante la ejecución del programa. Para ello, se usan variables.\n",
    "\n",
    "En el ejemplo siguiente se realiza un cálculo que se almacena en variables:\n"
   ]
  },
  {
   "cell_type": "code",
   "execution_count": null,
   "metadata": {},
   "outputs": [],
   "source": [
    "sum = 1 + 2 # 3\n",
    "product = sum * 2\n",
    "print(product)"
   ]
  },
  {
   "attachments": {},
   "cell_type": "markdown",
   "metadata": {},
   "source": [
    "### 1.2.1. Tipos de datos\n",
    "\n",
    "Una variable asume un tipo de datos. En el programa anterior, sum obtiene el tipo `int`. Sin embargo, hay muchos más tipos de datos. Probablemente pueda encontrar algunos de los siguientes:\n",
    "\n",
    "|Tipo|Descripción|Ejemplo|\n",
    "|---|---|---|\n",
    "Tipo numérico|\tNúmero, con o sin decimales\t|`int, float, complex, no = 3`\n",
    "Tipo de texto|\tCadena de caracteres\t| `str = \"a literal string\"`\n",
    "Tipo booleano|\tBoolean\t| `continue = True`\n",
    "\n",
    "\n",
    "Hay tipos más complejos, pero vamos a empezar por estos.\n",
    "\n",
    "Este es un fragmento de código que muestra algunos de los tipos anteriores:\n"
   ]
  },
  {
   "cell_type": "code",
   "execution_count": null,
   "metadata": {},
   "outputs": [],
   "source": [
    "planets_in_solar_system = 8 # int, pluto used to be the 9th planet, but is too small\n",
    "distance_to_alpha_centauri = 4.367 # float, lightyears\n",
    "can_liftoff = True\n",
    "shuttle_landed_on_the_moon = \"Apollo 11\" #string "
   ]
  },
  {
   "attachments": {},
   "cell_type": "markdown",
   "metadata": {},
   "source": [
    "¿Cómo saber qué tipo tiene algo? Si ve que los datos se asignan a la variable como se muestra en el código siguiente, puede detectarlo:"
   ]
  },
  {
   "cell_type": "code",
   "execution_count": null,
   "metadata": {},
   "outputs": [],
   "source": [
    "distance_to_alpha_centauri = 4.367 # looks like a float"
   ]
  },
  {
   "attachments": {},
   "cell_type": "markdown",
   "metadata": {},
   "source": [
    "La otra manera es usar la función `type()`:"
   ]
  },
  {
   "cell_type": "code",
   "execution_count": null,
   "metadata": {},
   "outputs": [],
   "source": [
    "type(distance_to_alpha_centauri) ## <class 'float'>"
   ]
  },
  {
   "attachments": {},
   "cell_type": "markdown",
   "metadata": {},
   "source": [
    "#### 1.2.1.1. Fechas\n",
    "Al compilar programas, es probable que interactúe con fechas. Una fecha en un programa suele indicar tanto la fecha del calendario como la hora.\n",
    "\n",
    "Puede usar una fecha en varias aplicaciones, como en estos ejemplos:\n",
    "\n",
    "* **Archivo de copia de seguridad:** El uso de una fecha como parte del nombre de un archivo de copia de seguridad es una buena manera de indicar cuándo se realizó una copia de seguridad y cuándo es necesario realizarla de nuevo.\n",
    "* **Condición:** Es posible que quiera llevar una lógica específica cuando haya una fecha determinada.\n",
    "* **Métrica:** Las fechas se usan para comprobar el rendimiento del código para, por ejemplo, medir el tiempo necesario para ejecutar una función.\n",
    "\n",
    "Para trabajar con una fecha, debe importar el módulo date. A continuación, puede llamar a las funciones con las que quiere trabajar. Para obtener la fecha de hoy, puede llamar a la función `today()`. Para mostrar la fecha en la consola, puede usar la función `print()`. La función print() adopta muchos tipos de datos como entrada. Aquí se muestra cómo puede mostrar la fecha de hoy:"
   ]
  },
  {
   "cell_type": "code",
   "execution_count": null,
   "metadata": {},
   "outputs": [],
   "source": [
    "from datetime import date\n",
    "\n",
    "print(date.today())"
   ]
  },
  {
   "attachments": {},
   "cell_type": "markdown",
   "metadata": {},
   "source": [
    "### 1.2.2. Conversión de tipos de datos\n",
    "Quiere usar una fecha con algo, normalmente una cadena. Si, por ejemplo, desea mostrar la fecha de hoy en la consola, podría experimentar algún problema:"
   ]
  },
  {
   "cell_type": "code",
   "execution_count": null,
   "metadata": {},
   "outputs": [],
   "source": [
    "print(\"Today's date is: \" + date.today())"
   ]
  },
  {
   "cell_type": "markdown",
   "metadata": {},
   "source": [
    "La última fila del mensaje le indica cuál es el problema. Está intentando usar el operador `+` y combinar dos tipos de datos diferentes, una cadena y una fecha.\n",
    "\n",
    "Para que este código funcione, debe convertir la fecha en una cadena. Para realizar esta conversión, use la función de utilidad `str()`:"
   ]
  },
  {
   "cell_type": "code",
   "execution_count": null,
   "metadata": {},
   "outputs": [],
   "source": [
    "print(\"Today's date is: \" + str(date.today()))"
   ]
  },
  {
   "attachments": {},
   "cell_type": "markdown",
   "metadata": {},
   "source": [
    "## 1.3. Operadores\n",
    "Los operadores permiten realizar varias operaciones en las variables y sus valores. La idea general es que hay un lado izquierdo, un lado derecho y un operador en el medio:\n",
    "\n",
    "```\n",
    "<left side> <operator> <right side>\n",
    "```\n",
    "\n",
    "Este es el aspecto que tendría un ejemplo real del código de marcador de posición anterior:\n",
    "\n"
   ]
  },
  {
   "cell_type": "code",
   "execution_count": null,
   "metadata": {},
   "outputs": [],
   "source": [
    "left_side = 10\n",
    "right_side = 5\n",
    "left_side / right_side # 2"
   ]
  },
  {
   "attachments": {},
   "cell_type": "markdown",
   "metadata": {},
   "source": [
    "En este ejemplo se usa una barra diagonal (`/`) para dividir el valor `left_side` por el valor `right_side`.\n",
    "\n",
    "Hay muchos más operadores. En esta unidad se describen algunos aspectos importantes que es probable que encuentre.\n",
    "\n",
    "Python usa dos tipos de operadores: aritmético y asignación."
   ]
  },
  {
   "attachments": {},
   "cell_type": "markdown",
   "metadata": {},
   "source": [
    "### 1.3.1. Operadores aritméticos\n",
    "Con los operadores aritméticos, se hacen cálculos como suma, resta, división y multiplicación. Este es un subconjunto de operadores aritméticos que puede usar:\n",
    "\n",
    "|Tipo|Descripción|Ejemplo|\n",
    "|---|---|---|\n",
    "`+`\t|Operador de suma que agrega dos valores juntos\t|`1 + 1`\n",
    "`-`\t|Operador de resta que quita el valor del lado derecho del lado izquierdo\t|`1 - 2`\n",
    "`/`\t|Operador de división que divide el lado izquierdo tantas veces como el lado derecho especifica\t|`10 / 2`\n",
    "`*`\t|Operador de multiplicación\t|`2 * 2`\n",
    "\n",
    "### 1.3.2. Operadores de asignación\n",
    "Puede usar operadores de asignaciónpara asignar valores a una variable a lo largo del ciclo de vida de la variable. Estos son algunos operadores de asignación que es probable que encuentre a medida que aprende a compilar programas:\n",
    "\n",
    "|Operador|Ejemplo|\n",
    "|---|---|\n",
    "`=`\t    |`x = 2` <br/>x ahora contiene 2.\n",
    "`+=`\t|`x += 2` <br/>x incrementado en 2. Si contenía 2 antes, ahora tiene un valor de 4.\n",
    "`-=`\t|`x -= 2` <br/>x reducido en 2. Si contenía 2 antes, ahora tiene un valor de 0.\n",
    "`/=`\t|`x /= 2` <br/>x dividido por 2. Si contenía 2 antes, ahora tiene un valor de 1.\n",
    "`*=`\t|`x *= 2` <br/>x multiplicado por 2. Si contenía 2 antes, ahora tiene un valor de 4.\n",
    "\n",
    "\n"
   ]
  },
  {
   "attachments": {},
   "cell_type": "markdown",
   "metadata": {},
   "source": [
    "## 1.4. Recopilación de entradas\n",
    "\n",
    "Hasta ahora, ha aprendido varias construcciones del lenguaje de programación Python. También ha escrito un par de programas. Sin embargo, los programas funcionan con datos, y los datos proceden de algún lugar. En esta unidad, echará un vistazo más de cerca a cómo puede recopilar entradas tanto a partir de la línea de comandos como a partir de la entrada del usuario.\n",
    "\n",
    "### 1.4.1. Entrada de la línea de comandos\n",
    "Al iniciar un programa mediante python3, se le asigna el nombre del archivo que se va a iniciar. También puede asignarle un conjunto de argumentos: datos a los que el programa tendrá acceso al ejecutarse. Este es el aspecto que puede tener:\n",
    "\n",
    "```\n",
    "python3 backup.py 2023-01-01\n",
    "```\n",
    "\n",
    "En el código anterior, la cadena \"2023-01-01\" se puede usar como instrucción para que el programa backup.py inicie una copia de seguridad a partir de esa fecha. Lo que se consigue mediante el uso de argumentos de la línea de comandos es flexibilidad. El programa puede comportarse de forma diferente en función de su entrada externa.\n",
    "\n",
    "Argumentos de la línea de comandos\n",
    "¿Cómo se capturan estos comandos desde la perspectiva de la codificación? Mediante el módulo sys, puede recuperar los argumentos de la línea de comandos y usarlos en el programa. Observe el código siguiente:\n"
   ]
  },
  {
   "cell_type": "code",
   "execution_count": null,
   "metadata": {},
   "outputs": [],
   "source": [
    "import sys\n",
    "\n",
    "print(sys.argv)\n",
    "print(sys.argv[0]) # program name\n",
    "print(sys.argv[1]) # first arg"
   ]
  },
  {
   "attachments": {},
   "cell_type": "markdown",
   "metadata": {},
   "source": [
    "`sys.argv` es una matriz o estructura de datos que contiene muchos elementos. La primera posición, que se indica como 0 en la matriz, contiene el nombre del programa. La segunda posición, 1, contiene el primer argumento. Supongamos que el programa backup.py contiene el código de ejemplo y lo ejecuta de la siguiente manera:\n",
    "\n",
    "```\n",
    "python3 backup.py 2023-01-01\n",
    "```\n",
    "\n",
    "A continuación, el programa genera el siguiente resultado:\n",
    "\n",
    "```\n",
    "['backup.py', '2023-01-01'] \n",
    "backup.py\n",
    "2023-01-01\n",
    "```\n",
    "\n",
    "### 1.4.2. Entrada de usuario\n",
    "\n",
    "Otra manera de pasar datos al programa es hacer que el usuario escriba los datos. Puede codificarlo para que el programa indique al usuario que escriba información. Guarde los datos especificados en el programa y, a continuación, trabaje con ellos.\n",
    "\n",
    "Para capturar información del usuario, use la función `input()`. Este es un ejemplo:\n",
    "\n"
   ]
  },
  {
   "cell_type": "code",
   "execution_count": null,
   "metadata": {},
   "outputs": [],
   "source": [
    "print(\"Welcome to the greeter program\")\n",
    "name = input(\"Enter your name: \")\n",
    "print(\"Greetings \" + name)"
   ]
  },
  {
   "attachments": {},
   "cell_type": "markdown",
   "metadata": {},
   "source": [
    "Supongamos que el programa input.py contiene el mismo código y lo ejecuta de la siguiente manera:\n",
    "\n",
    "```\n",
    "python3 input.py\n",
    "```\n",
    "\n",
    "Al ejecutar el programa, se le invita a escribir su nombre, por ejemplo:\n",
    "\n",
    "```\n",
    "Welcome to the greeter program\n",
    "Enter your name: \n",
    "```\n",
    "\n",
    "Después de escribir un valor y presionar Enter (Entrar), se devuelve el saludo:\n",
    "\n",
    "```\n",
    "Welcome to the greeter program\n",
    "Enter your name: Picard\n",
    "Greetings Picard\n",
    "```\n",
    "\n",
    "La función `input()` almacena un resultado como una cadena, por lo que es posible que el código siguiente no haga lo que quiera:\n",
    "\n",
    "La ejecución de este programa le invita a escribir el primer número, supongamos: 3\n",
    "\n",
    "Después de presionar Enter (Entrar), puede escribir el segundo número, supongamos: 4\n"
   ]
  },
  {
   "cell_type": "code",
   "execution_count": null,
   "metadata": {},
   "outputs": [],
   "source": [
    "print(\"calculator program\")\n",
    "first_number = input(\"first number: \")\n",
    "second_number = input(\"second number: \")\n",
    "print(first_number + second_number)"
   ]
  },
  {
   "attachments": {},
   "cell_type": "markdown",
   "metadata": {},
   "source": [
    "Probablemente ha pensado en que este programa le responda con 7 lugar de 34. ¿Qué ha fallado?\n",
    "\n",
    "La explicación es que `first_number` y `second_number` son cadenas. Para que el cálculo funcione correctamente, debe cambiar esas cadenas a números mediante la función `int()`. Al modificar la última línea del programa para usar `int()`, puede resolver el problema:\n"
   ]
  },
  {
   "cell_type": "code",
   "execution_count": null,
   "metadata": {},
   "outputs": [],
   "source": [
    "print(int(first_number) + int(second_number))"
   ]
  }
 ],
 "metadata": {
  "kernelspec": {
   "display_name": "cursoMS",
   "language": "python",
   "name": "python3"
  },
  "language_info": {
   "codemirror_mode": {
    "name": "ipython",
    "version": 3
   },
   "file_extension": ".py",
   "mimetype": "text/x-python",
   "name": "python",
   "nbconvert_exporter": "python",
   "pygments_lexer": "ipython3",
   "version": "3.9.16"
  },
  "orig_nbformat": 4
 },
 "nbformat": 4,
 "nbformat_minor": 2
}
