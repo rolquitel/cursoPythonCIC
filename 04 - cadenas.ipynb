{
 "cells": [
  {
   "attachments": {},
   "cell_type": "markdown",
   "metadata": {},
   "source": [
    "# 4. Uso de cadenas\n",
    "\n",
    "Aunque las cadenas en Python parecen ser sencillas, hay cierta complejidad en las reglas de las cadenas que es importante comprender. El conocimiento de las reglas ayuda a evitar que le sorprenda el comportamiento de las cadenas al modificar valores o dar formato al texto.\n",
    "\n",
    "### 4.1. Inmutabilidad de las cadenas\n",
    "En Python, las cadenas son inmutables. Es decir, no pueden cambiar. Esta propiedad del tipo de cadena puede ser sorprendente, ya que Python no proporciona errores al modificar cadenas.\n",
    "\n",
    "En el ejemplo de este módulo, tiene un único hecho sobre la Luna que está asignado a una variable y debe agregarle otro hecho (una oración). Parece que agregar el segundo hecho podría modificar la variable, tal como en el ejemplo siguiente:\n"
   ]
  },
  {
   "cell_type": "code",
   "execution_count": null,
   "metadata": {},
   "outputs": [],
   "source": [
    "fact = \"The Moon has no atmosphere.\"\n",
    "fact + \" No sound can be heard on the Moon.\""
   ]
  },
  {
   "attachments": {},
   "cell_type": "markdown",
   "metadata": {},
   "source": [
    "Aunque podría parecer que se ha modificado la variable `fact`, una comprobación rápida del valor revela que el valor original no ha cambiado:"
   ]
  },
  {
   "cell_type": "code",
   "execution_count": null,
   "metadata": {},
   "outputs": [],
   "source": [
    "fact"
   ]
  },
  {
   "cell_type": "markdown",
   "metadata": {},
   "source": [
    "Aquí el truco es que se debe usar un valor devuelto. Al agregar cadenas, Python no modifica ninguna, sino que devuelve una cadena nueva como resultado. Para mantener este resultado nuevo, asígnelo a una nueva variable:"
   ]
  },
  {
   "cell_type": "code",
   "execution_count": null,
   "metadata": {},
   "outputs": [],
   "source": [
    "two_facts = fact + \"No sound can be heard on the Moon.\"\n",
    "two_facts"
   ]
  },
  {
   "attachments": {},
   "cell_type": "markdown",
   "metadata": {},
   "source": [
    "Las operaciones en las cadenas siempre generan cadenas nuevas como resultado.\n",
    "\n",
    "## 4.2. Uso de comillas\n",
    "Puede incluir las cadenas de Python entre comillas simples, dobles o triples. Aunque se pueden usar indistintamente, es mejor utilizar un tipo de forma coherente dentro de un proyecto. Por ejemplo, en la cadena siguiente se usan comillas dobles:"
   ]
  },
  {
   "cell_type": "code",
   "execution_count": null,
   "metadata": {},
   "outputs": [],
   "source": [
    "moon_radius = \"The Moon has a radius of 1,080 miles\""
   ]
  },
  {
   "cell_type": "markdown",
   "metadata": {},
   "source": [
    "Pero cuando una cadena contiene palabras, números o caracteres especiales (una subcadena) que también se incluyen entre comillas, debe usar otro estilo. Por ejemplo, si en una subcadena se usan comillas dobles, incluya toda la cadena entre comillas simples, como se muestra aquí:"
   ]
  },
  {
   "cell_type": "code",
   "execution_count": null,
   "metadata": {},
   "outputs": [],
   "source": [
    "'The \"near side\" is the part of the Moon that faces the Earth'"
   ]
  },
  {
   "cell_type": "markdown",
   "metadata": {},
   "source": [
    "Del mismo modo, si en alguna parte de la cadena hay comillas simples (o un apóstrofo, como en Moon's en el ejemplo siguiente), incluya toda la cadena entre comillas dobles:"
   ]
  },
  {
   "cell_type": "code",
   "execution_count": null,
   "metadata": {},
   "outputs": [],
   "source": [
    "\"We only see about 60% of the Moon's surface\""
   ]
  },
  {
   "cell_type": "markdown",
   "metadata": {},
   "source": [
    "Si no se alternan las comillas simples y dobles, el intérprete de Python puede generar un error de sintaxis, como se muestra aquí:"
   ]
  },
  {
   "cell_type": "code",
   "execution_count": null,
   "metadata": {},
   "outputs": [],
   "source": [
    "'We only see about 60% of the Moon's surface'"
   ]
  },
  {
   "cell_type": "markdown",
   "metadata": {},
   "source": [
    "Cuando el texto tiene una combinación de comillas simples y dobles, puede usar comillas triples para evitar problemas con el intérprete:"
   ]
  },
  {
   "cell_type": "code",
   "execution_count": null,
   "metadata": {},
   "outputs": [],
   "source": [
    "\"\"\"We only see about 60% of the Moon's surface, this is known as the \"near side\".\"\"\""
   ]
  },
  {
   "attachments": {},
   "cell_type": "markdown",
   "metadata": {},
   "source": [
    "### 4.2.1. Texto multilínea\n",
    "Hay diferentes maneras de definir varias líneas de texto como una sola variable. Las más comunes son las siguientes:\n",
    "\n",
    "* Usar un carácter de nueva línea (`\\n`).\n",
    "* Usar comillas triples (`\"\"\"`).\n",
    "\n",
    "Los caracteres de nueva línea separan el texto en varias líneas al imprimir la salida:"
   ]
  },
  {
   "cell_type": "code",
   "execution_count": null,
   "metadata": {},
   "outputs": [],
   "source": [
    "multiline = \"Facts about the Moon:\\n There is no atmosphere.\\n There is no sound.\"\n",
    "print(multiline)"
   ]
  },
  {
   "cell_type": "markdown",
   "metadata": {},
   "source": [
    "Puede lograr el mismo resultado con las comillas triples:\n"
   ]
  },
  {
   "cell_type": "code",
   "execution_count": null,
   "metadata": {},
   "outputs": [],
   "source": [
    "multiline = \"\"\"Facts about the Moon:\n",
    "...  There is no atmosphere.\n",
    "...  There is no sound.\"\"\"\n",
    "print(multiline)\n"
   ]
  },
  {
   "attachments": {},
   "cell_type": "markdown",
   "metadata": {},
   "source": [
    "## 4.3. Métodos de cadena en Python\n",
    "\n",
    "Los métodos de cadena son uno de los tipos de método más comunes en Python. A menudo tendrá que manipular cadenas para extraer información o ajustarse a un formato concreto. Python incluye varios métodos de cadena diseñados para realizar las transformaciones más comunes y útiles.\n",
    "\n",
    "Los métodos de cadena forman parte del tipo `str`. Esto significa que los métodos existen como variables de cadena o directamente como parte de la cadena. Por ejemplo, el método `.title()` se puede usar directamente con una cadena:\n"
   ]
  },
  {
   "cell_type": "code",
   "execution_count": null,
   "metadata": {},
   "outputs": [],
   "source": [
    "\"temperatures and facts about the moon\".title()"
   ]
  },
  {
   "attachments": {},
   "cell_type": "markdown",
   "metadata": {},
   "source": [
    "Y el mismo comportamiento y utilización se produce en una variable:"
   ]
  },
  {
   "cell_type": "code",
   "execution_count": null,
   "metadata": {},
   "outputs": [],
   "source": [
    "heading = \"temperatures and facts about the moon\"\n",
    "heading.title()"
   ]
  },
  {
   "attachments": {},
   "cell_type": "markdown",
   "metadata": {},
   "source": [
    "### 4.3.1. División de una cadena\n",
    "Un método de cadena común es `.split()`. Sin argumentos, el método separará la cadena en cada espacio. Esto crearía una lista de todas las palabras o números separados por un espacio:"
   ]
  },
  {
   "cell_type": "code",
   "execution_count": null,
   "metadata": {},
   "outputs": [],
   "source": [
    "temperatures = \"\"\"Daylight: 260 F\n",
    "... Nighttime: -280 F\"\"\"\n",
    "temperatures .split()"
   ]
  },
  {
   "attachments": {},
   "cell_type": "markdown",
   "metadata": {},
   "source": [
    "En este ejemplo, trabaja con varias líneas, por lo que el carácter de nueva línea (implícito) se puede usar para dividir la cadena al final de cada línea, y crear líneas únicas:"
   ]
  },
  {
   "cell_type": "code",
   "execution_count": null,
   "metadata": {},
   "outputs": [],
   "source": [
    "temperatures .split('\\n')"
   ]
  },
  {
   "attachments": {},
   "cell_type": "markdown",
   "metadata": {},
   "source": [
    "Este tipo de división resulta útil cuando se necesita un bucle para procesar o extraer información, o bien cuando se cargan datos desde un archivo de texto.\n",
    "\n",
    "### 4.3.2. Búsqueda de una cadena\n",
    "Algunos métodos de cadena pueden buscar contenido antes del procesamiento, sin necesidad de usar un bucle. Imagine que tiene dos oraciones que analizan las temperaturas de varios planetas y lunas, pero solo le interesan las temperaturas relacionadas con la Luna. Es decir, si las oraciones no se refieren a la Luna, no se deben procesar para extraer información.\n",
    "\n",
    "La manera más sencilla de detectar si existe una palabra, un carácter o un grupo de caracteres determinados en una cadena es usar el operador `in`:\n"
   ]
  },
  {
   "cell_type": "code",
   "execution_count": null,
   "metadata": {},
   "outputs": [],
   "source": [
    "\"Moon\" in \"This text will describe facts and challenges with space travel\""
   ]
  },
  {
   "cell_type": "code",
   "execution_count": null,
   "metadata": {},
   "outputs": [],
   "source": [
    "\"Moon\" in \"This text will describe facts about the Moon\""
   ]
  },
  {
   "attachments": {},
   "cell_type": "markdown",
   "metadata": {},
   "source": [
    "Un enfoque para buscar la posición de una palabra específica en una cadena consiste en usar el método .`find()`:"
   ]
  },
  {
   "cell_type": "code",
   "execution_count": null,
   "metadata": {},
   "outputs": [],
   "source": [
    "temperatures = \"\"\"Saturn has a daytime temperature of -170 degrees Celsius,\n",
    "... while Mars has -28 Celsius.\"\"\"\n",
    "temperatures.find(\"Moon\")"
   ]
  },
  {
   "attachments": {},
   "cell_type": "markdown",
   "metadata": {},
   "source": [
    "El método `.find()` devuelve -1 cuando no se encuentra la palabra, o bien devuelve el índice (el número que representa la posición en la cadena). Así es como se comportaría si busca la palabra Mars:"
   ]
  },
  {
   "cell_type": "code",
   "execution_count": null,
   "metadata": {},
   "outputs": [],
   "source": [
    "temperatures.find(\"Mars\")"
   ]
  },
  {
   "attachments": {},
   "cell_type": "markdown",
   "metadata": {},
   "source": [
    "65 es la posición donde \"Mars\" aparece en la cadena.\n",
    "\n",
    "Otra manera de buscar contenido consiste en usar el método .count(), que devuelve el número total de repeticiones de una palabra determinada en una cadena:"
   ]
  },
  {
   "cell_type": "code",
   "execution_count": null,
   "metadata": {},
   "outputs": [],
   "source": [
    "temperatures.count(\"Mars\")"
   ]
  },
  {
   "cell_type": "code",
   "execution_count": null,
   "metadata": {},
   "outputs": [],
   "source": [
    "temperatures.count(\"Moon\")"
   ]
  },
  {
   "attachments": {},
   "cell_type": "markdown",
   "metadata": {},
   "source": [
    "Las cadenas en Python distinguen mayúsculas de minúsculas, lo que significa que Luna y luna se consideran palabras diferentes. Para realizar una comparación sin distinguir mayúsculas de minúsculas, puede convertir una cadena en letras minúsculas mediante el método `.lower()`:"
   ]
  },
  {
   "cell_type": "code",
   "execution_count": null,
   "metadata": {},
   "outputs": [],
   "source": [
    "\"The Moon And The Earth\".lower()"
   ]
  },
  {
   "attachments": {},
   "cell_type": "markdown",
   "metadata": {},
   "source": [
    "Como sucede con el método `.lower()`, las cadenas tienen un método `.upper()` que hace lo contrario y convierte todos los caracteres en mayúsculas:"
   ]
  },
  {
   "cell_type": "code",
   "execution_count": null,
   "metadata": {},
   "outputs": [],
   "source": [
    "\"The Moon And The Earth\".upper()"
   ]
  },
  {
   "attachments": {},
   "cell_type": "markdown",
   "metadata": {},
   "source": [
    "> **Sugerencia:** Al buscar y comprobar contenido, un enfoque más sólido consiste es convertir en minúsculas una cadena para que el uso de mayúsculas y minúsculas no impida una coincidencia. Por ejemplo, si va a contar el número de veces que aparece la palabra the, el método no contaría las veces en las que aparece The, aunque las dos sean la misma palabra. Puede usar el método .lower() para cambiar todos los caracteres a minúsculas.\n",
    "\n",
    "### 4.3.3. Comprobación del contenido\n",
    "Hay ocasiones en las que procesará texto para extraer información con una presentación irregular. Por ejemplo, la cadena siguiente es más fácil de procesar que un párrafo no estructurado:\n"
   ]
  },
  {
   "cell_type": "code",
   "execution_count": null,
   "metadata": {},
   "outputs": [],
   "source": [
    "temperatures = \"Mars Average Temperature: -60 C\""
   ]
  },
  {
   "attachments": {},
   "cell_type": "markdown",
   "metadata": {},
   "source": [
    "Para extraer la temperatura media en Marte, puede hacerlo con los métodos siguientes:"
   ]
  },
  {
   "cell_type": "code",
   "execution_count": null,
   "metadata": {},
   "outputs": [],
   "source": [
    "parts = temperatures.split(':')\n",
    "parts"
   ]
  },
  {
   "cell_type": "code",
   "execution_count": null,
   "metadata": {},
   "outputs": [],
   "source": [
    "parts[-1]"
   ]
  },
  {
   "attachments": {},
   "cell_type": "markdown",
   "metadata": {},
   "source": [
    "El código anterior confía en que todo lo que hay después de los dos puntos (`:`) es una temperatura. La cadena se divide en `:`, lo que genera una lista de dos elementos. El uso de [-1] en la lista devuelve el último elemento que, en este ejemplo, es la temperatura.\n",
    "\n",
    "Si el texto es irregular, no puede usar los mismos métodos de división para obtener el valor. Debe recorrer en bucle los elementos y comprobar si los valores son de un tipo determinado. Python tiene métodos que ayudan a comprobar el tipo de cadena:"
   ]
  },
  {
   "cell_type": "code",
   "execution_count": null,
   "metadata": {},
   "outputs": [],
   "source": [
    "mars_temperature = \"The highest temperature on Mars is about 30 C\"\n",
    "for item in mars_temperature.split():\n",
    "    if item.isnumeric():\n",
    "        print(item)"
   ]
  },
  {
   "attachments": {},
   "cell_type": "markdown",
   "metadata": {},
   "source": [
    "Como sucede con el método `.isnumeric()`, `.isdecimal()` puede buscar cadenas que parezcan decimales.\n",
    "\n",
    "> **Importante:** Le sorprenderá saber que `\"-70\".isnumeric()` devolverá False. Esto se debe a que todos los caracteres de la cadena tendrían que ser numéricos y el guión (`-`) no lo es. Si tiene que comprobar números negativos en una cadena, el método `.isnumeric()` no funcionará.\n",
    "\n",
    "Hay validaciones adicionales que puede aplicar en las cadenas para comprobar si hay valores. En el caso de los números negativos, el guion se agrega como prefijo al número y se puede detectar con el método `.startswith()`:"
   ]
  },
  {
   "cell_type": "code",
   "execution_count": null,
   "metadata": {},
   "outputs": [],
   "source": [
    "\"-60\".startswith('-')"
   ]
  },
  {
   "attachments": {},
   "cell_type": "markdown",
   "metadata": {},
   "source": [
    "De forma similar, el método .endswith() ayuda a comprobar el último carácter de una cadena:"
   ]
  },
  {
   "cell_type": "code",
   "execution_count": null,
   "metadata": {},
   "outputs": [],
   "source": [
    "if \"30 C\".endswith(\"C\"):\n",
    "    print(\"This temperature is in Celsius\")"
   ]
  },
  {
   "attachments": {},
   "cell_type": "markdown",
   "metadata": {},
   "source": [
    "### 4.3.4. Transformar texto\n",
    "Hay otros métodos que ayudan en situaciones en las que el texto se debe transformar en algo distinto. Hasta ahora, ha visto cadenas que pueden usar C para Celsius y F para Fahrenheit. Puede usar el método `.replace()` para buscar y reemplazar repeticiones de un carácter o grupo de caracteres:\n"
   ]
  },
  {
   "cell_type": "code",
   "execution_count": null,
   "metadata": {},
   "outputs": [],
   "source": [
    "\"Saturn has a daytime temperature of -170 degrees Celsius, while Mars has -28 Celsius.\".replace(\"Celsius\", \"C\")"
   ]
  },
  {
   "attachments": {},
   "cell_type": "markdown",
   "metadata": {},
   "source": [
    "Como se ha mencionado antes, .`lower()` es una buena manera de normalizar el texto para realizar una búsqueda sin distinguir mayúsculas de minúsculas. Ahora se comprobará rápidamente si algún texto analiza las temperaturas:\n"
   ]
  },
  {
   "cell_type": "code",
   "execution_count": null,
   "metadata": {},
   "outputs": [],
   "source": [
    "text = \"Temperatures on the Moon can vary wildly.\"\n",
    "\"temperatures\" in text"
   ]
  },
  {
   "cell_type": "code",
   "execution_count": null,
   "metadata": {},
   "outputs": [],
   "source": [
    "\"temperatures\" in text.lower()"
   ]
  },
  {
   "attachments": {},
   "cell_type": "markdown",
   "metadata": {},
   "source": [
    "Es posible que no tenga que realizar la comprobación sin distinguir mayúsculas de minúsculas todo el tiempo, pero convertir en minúsculas todas las letras es un buen enfoque cuando en el texto se usa una mezcla de mayúsculas y minúsculas.\n",
    "\n",
    "Después de dividir el texto y realizar las transformaciones, es posible que tenga que volver a ensamblar todas las piezas. Al igual que el método `.split()` puede separar caracteres, el método `.join()` puede volver a agruparlos.\n",
    "\n",
    "El método `.join()` necesita un elemento iterable (como una lista de Python) como argumento, por lo que su uso es diferente al de otros métodos de cadena:\n"
   ]
  },
  {
   "cell_type": "code",
   "execution_count": null,
   "metadata": {},
   "outputs": [],
   "source": [
    "moon_facts = [\"The Moon is drifting away from the Earth.\", \"On average, the Moon is moving about 4cm every year\"]\n",
    "'\\n'.join(moon_facts)"
   ]
  },
  {
   "attachments": {},
   "cell_type": "markdown",
   "metadata": {},
   "source": [
    "## 4.4. Formato de cadenas\n",
    "Además de transformar texto y realizar operaciones básicas, como buscar y buscar coincidencias, es esencial dar formato al texto al presentar información. La manera más sencilla de presentar información de texto con Python consiste en usar la función `print()`. Comprobará que es fundamental incluir información en variables y otras estructuras de datos en cadenas que `print()` pueda usar.\n",
    "\n",
    "En esta unidad, aprenderá varias maneras válidas de incluir valores de variable en el texto mediante Python.\n",
    "\n",
    "### 4.4.1. Formato de signo de porcentaje (%)\n",
    "El marcador de posición de la variable de la cadena es `%s`. Después de la cadena, use otro carácter `%` seguido del nombre de la variable. En el ejemplo siguiente, se muestra cómo dar formato mediante el carácter `%`:\n"
   ]
  },
  {
   "cell_type": "code",
   "execution_count": null,
   "metadata": {},
   "outputs": [],
   "source": [
    "mass_percentage = \"1/6\"\n",
    "print(\"On the Moon, you would weigh about %s of your weight on Earth\" % mass_percentage)"
   ]
  },
  {
   "attachments": {},
   "cell_type": "markdown",
   "metadata": {},
   "source": [
    "El uso de varios valores cambia la sintaxis, ya que se necesitan paréntesis para rodear las variables que se pasan:"
   ]
  },
  {
   "cell_type": "code",
   "execution_count": null,
   "metadata": {},
   "outputs": [],
   "source": [
    "print(\"\"\"Both sides of the %s get the same amount of sunlight,\n",
    "... but only one side is seen from %s because\n",
    "... the %s rotates around its own axis when it orbits %s.\"\"\" % (\"Moon\", \"Earth\", \"Moon\", \"Earth\"))\n"
   ]
  },
  {
   "attachments": {},
   "cell_type": "markdown",
   "metadata": {},
   "source": [
    "> **Sugerencia:** Aunque este método sigue siendo una manera válida de dar formato a las cadenas, puede provocar errores y reducir la claridad del código cuando se trabaja con varias variables. Cualquiera de las otras dos opciones de formato descritas en esta unidad sería más adecuada para este propósito.\n",
    "\n",
    "El método `format()`\n",
    "El método `.format()` usa llaves (`{}`) como marcadores de posición dentro de una cadena y utiliza la asignación de variables para reemplazar texto."
   ]
  },
  {
   "cell_type": "code",
   "execution_count": null,
   "metadata": {},
   "outputs": [],
   "source": [
    "mass_percentage = \"1/6\"\n",
    "print(\"On the Moon, you would weigh about {} of your weight on Earth\".format(mass_percentage))"
   ]
  },
  {
   "attachments": {},
   "cell_type": "markdown",
   "metadata": {},
   "source": [
    "No es necesario asignar variables repetidas varias veces, lo que hace que sea menos detallado porque es necesario asignar menos variables:"
   ]
  },
  {
   "cell_type": "code",
   "execution_count": null,
   "metadata": {},
   "outputs": [],
   "source": [
    "print(\"\"\"You are lighter on the {0}, because on the {0} \n",
    "... you would weigh about {1} of your weight on Earth\"\"\".format(\"Moon\", mass_percentage))"
   ]
  },
  {
   "attachments": {},
   "cell_type": "markdown",
   "metadata": {},
   "source": [
    "En lugar de llaves vacías, la sustitución consiste en usar números. `{0}` significa usar el primer argumento (índice cero) de `.format()`, que en este caso es Moon. `{0}` funciona bien para una repetición simple, pero reduce la legibilidad. Para mejorar la legibilidad, use argumentos de palabra clave en `.format()` y, después, haga referencia a los mismos argumentos entre llaves:\n"
   ]
  },
  {
   "cell_type": "code",
   "execution_count": null,
   "metadata": {},
   "outputs": [],
   "source": [
    "print(\"\"\"You are lighter on the {moon}, because on the {moon} \n",
    "... you would weigh about {mass} of your weight on Earth\"\"\".format(moon=\"Moon\", mass=mass_percentage))"
   ]
  },
  {
   "attachments": {},
   "cell_type": "markdown",
   "metadata": {},
   "source": [
    "### 4.4.2. Las cadenas `f-strings`\n",
    "A partir de la versión 3.6 de Python, es posible usar `f-strings`. Estas cadenas parecen plantillas y usan los nombres de variable del código. El uso de `f-strings` en el ejemplo anterior tendría el siguiente aspecto:\n"
   ]
  },
  {
   "cell_type": "code",
   "execution_count": null,
   "metadata": {},
   "outputs": [],
   "source": [
    "print(f\"On the Moon, you would weigh about {mass_percentage} of your weight on Earth\")"
   ]
  },
  {
   "attachments": {},
   "cell_type": "markdown",
   "metadata": {},
   "source": [
    "Las variables se incluyen entre llaves y la cadena debe usar el prefijo `f`.\n",
    "\n",
    "Además de que las `f-strings` son menos detalladas que cualquier otra opción de formato, es posible usar expresiones entre llaves. Estas expresiones pueden ser funciones u operaciones directas. Por ejemplo, si quiere representar el valor 1/6 como un porcentaje con una posición decimal, puede usar directamente la función `round()`:\n"
   ]
  },
  {
   "cell_type": "code",
   "execution_count": null,
   "metadata": {},
   "outputs": [],
   "source": [
    "round(100/6, 1)"
   ]
  },
  {
   "attachments": {},
   "cell_type": "markdown",
   "metadata": {},
   "source": [
    "Con `f-strings`, no es necesario asignar un valor a una variable de antemano:"
   ]
  },
  {
   "cell_type": "code",
   "execution_count": null,
   "metadata": {},
   "outputs": [],
   "source": [
    "print(f\"On the Moon, you would weigh about {round(100/6, 1)}% of your weight on Earth\")"
   ]
  },
  {
   "attachments": {},
   "cell_type": "markdown",
   "metadata": {},
   "source": [
    "Para usar una expresión no es necesaria una llamada de función. Cualquiera de los métodos de cadena también son válidos. Por ejemplo, la cadena podría aplicar un uso específico de mayúsculas y minúsculas para crear un título:"
   ]
  },
  {
   "cell_type": "code",
   "execution_count": null,
   "metadata": {},
   "outputs": [],
   "source": [
    "subject = \"interesting facts about the moon\"\n",
    "f\"{subject.title()}\""
   ]
  },
  {
   "attachments": {},
   "cell_type": "markdown",
   "metadata": {},
   "source": [
    "## 4.5. Ejercicios con cadenas\n",
    "\n",
    "1. Pedir al usuario sus datos personales y generar su CURP.\n",
    "\n",
    "2. Dado un número obtener una cadena que lo represente con palabras para llenar un cheque. Por ejemplo, el número `12535.23` tiene que generar la cadena `'DOCEMIL QUINIENTOS TREINTA Y CINCO 23/100 M.N'`."
   ]
  },
  {
   "attachments": {},
   "cell_type": "markdown",
   "metadata": {},
   "source": [
    "### 4.5.1. CURP\n",
    "\n",
    "Para generar la CURP (Clave Única de Registro de Población) debemos saber cómo es que está formada:\n",
    "\n",
    "```\n",
    "QUTR 75 05 08 H DF NLL XX\n",
    "                       __ > digitos únicos (2)\n",
    "                   ___    > segundas consonantes de 1er ap, 2o ap y nombre (3)\n",
    "                __        > entidad de nacimiento (2)\n",
    "              _           > sexo\n",
    "           __             > día de nacimiento (2)\n",
    "        __                > mes de nacimiento (2)\n",
    "     __                   > año de nacimiento (2)\n",
    "____                      > Iniciales 1er ap (1a letra y siguiente vocal), 2o ap y nombre \n",
    "    \n",
    "```"
   ]
  },
  {
   "attachments": {},
   "cell_type": "markdown",
   "metadata": {},
   "source": [
    "#### Primer intento"
   ]
  },
  {
   "cell_type": "code",
   "execution_count": null,
   "metadata": {},
   "outputs": [],
   "source": [
    "\n",
    "\n",
    "# nombres = input(\"¿Cuál es tu nombre? \").upper()\n",
    "# primer_apellido = input(\"¿Cuál es tu primer apellido? \").upper()\n",
    "# segundo_apellido = input(\"¿Cuál es tu segundo apellido? \").upper()\n",
    "# anio_nacimiento = input(\"¿En qué año naciste? \")\n",
    "# mes_nacimiento = input(\"¿En qué mes naciste? \")\n",
    "# dia_nacimiento = input(\"¿En qué día naciste? \")\n",
    "# sexo = input(\"¿Cuál es tu sexo? \").upper()\n",
    "\n",
    "nombres = 'ROBERTO'\n",
    "primer_apellido = 'GARCIA'\n",
    "segundo_apellido = 'ROBLES'\n",
    "anio_nacimiento = '1980'\n",
    "mes_nacimiento = '01'\n",
    "dia_nacimiento = '21'\n",
    "sexo = 'H'\n",
    "entidad = 'DF'\n",
    "\n",
    "curp = primer_apellido[0:2] + segundo_apellido[0:1] + nombres[0:1] \\\n",
    "    + anio_nacimiento[2:4] + mes_nacimiento + dia_nacimiento \\\n",
    "    + sexo + entidad \\\n",
    "    + primer_apellido[2:3] + segundo_apellido[1:2] + nombres[1:2] + 'XX'\n",
    "\n",
    "print('Tu CURP es: ' + curp)\n"
   ]
  },
  {
   "attachments": {},
   "cell_type": "markdown",
   "metadata": {},
   "source": [
    "La CURP generada no es correcta. Se debe procesar de una mejor manera."
   ]
  },
  {
   "attachments": {},
   "cell_type": "markdown",
   "metadata": {},
   "source": [
    "#### Segundo intento\n",
    "\n",
    "> *Vini vi dividi e venci* - Julio César\n",
    "\n",
    "Hay que separar las operaciones que debemos de realizar. En la definición de la CURP es necesario determinar la primera vocal de una palabra:"
   ]
  },
  {
   "cell_type": "code",
   "execution_count": null,
   "metadata": {},
   "outputs": [],
   "source": [
    "def siguiente_vocal(palabra):\n",
    "    \"\"\"Busca la primera vocal de una palabra\"\"\"\n",
    "    for letra in palabra:\n",
    "        if letra in ['A', 'E', 'I', 'O', 'U']:\n",
    "            return letra\n",
    "    return 'X'"
   ]
  },
  {
   "attachments": {},
   "cell_type": "markdown",
   "metadata": {},
   "source": [
    "Así como la primera consonante:"
   ]
  },
  {
   "cell_type": "code",
   "execution_count": null,
   "metadata": {},
   "outputs": [],
   "source": [
    "def siguiente_consonante(palabra):\n",
    "    \"\"\"Busca la primera consonante de una palabra\"\"\"\n",
    "    for letra in palabra:\n",
    "        if letra not in ['A', 'E', 'I', 'O', 'U']:\n",
    "            return letra\n",
    "    return 'X'"
   ]
  },
  {
   "attachments": {},
   "cell_type": "markdown",
   "metadata": {},
   "source": [
    "Ahora, para calcular la primera parte de la CURP podemos utilizar las funciones que acabamos de crear."
   ]
  },
  {
   "cell_type": "code",
   "execution_count": null,
   "metadata": {},
   "outputs": [],
   "source": [
    "def curp_parte_1(primer_apellido, segundo_apellido, nombres):\n",
    "    \"\"\"Calcula la primera parte de la CURP\"\"\"\n",
    "    curp = primer_apellido[0:1] + siguiente_vocal(primer_apellido[1:]) + segundo_apellido[0:1] + nombres[0:1]\n",
    "    return curp"
   ]
  },
  {
   "attachments": {},
   "cell_type": "markdown",
   "metadata": {},
   "source": [
    "La segunda parte de la curva es un poco más fácil, ya que tenemos el año en cuatro dígitos, así como el mes y el día en dos dígitos."
   ]
  },
  {
   "cell_type": "code",
   "execution_count": null,
   "metadata": {},
   "outputs": [],
   "source": [
    "def curp_parte_2(anio_nacimiento, mes_nacimiento, dia_nacimiento):\n",
    "    \"\"\"Calcula la segunda parte de la CURP\"\"\"\n",
    "    curp = anio_nacimiento[2:4] + mes_nacimiento + dia_nacimiento\n",
    "    return curp"
   ]
  },
  {
   "attachments": {},
   "cell_type": "markdown",
   "metadata": {},
   "source": [
    "Las partes 3 y 4 están dadas directamente por la letra que define el sexo y por la clave de la entidad de nacimiento, respectivamente. Para calcular la quinta parte es necesario utilizar nuevamente las funciones auxiliares que definimos anteriormente."
   ]
  },
  {
   "cell_type": "code",
   "execution_count": null,
   "metadata": {},
   "outputs": [],
   "source": [
    "def curp_parte_5(primer_apellido, segundo_apellido, nombres):\n",
    "    \"\"\"Calcula la quinta parte de la CURP\"\"\"\n",
    "    curp = primera_consonante(primer_apellido[1:]) + \\\n",
    "        siguiente_consonante(segundo_apellido[1:]) + \\\n",
    "        siguiente_consonante(nombres[1:])\n",
    "    return curp"
   ]
  },
  {
   "attachments": {},
   "cell_type": "markdown",
   "metadata": {},
   "source": [
    "Ahora sí, estamos en condiciones de calcular una CURP correcta."
   ]
  },
  {
   "cell_type": "code",
   "execution_count": null,
   "metadata": {},
   "outputs": [],
   "source": [
    "def curp(nombres, primer_apellido, segundo_apellido, anio_nacimiento, \\\n",
    "    mes_nacimiento, dia_nacimiento, sexo, entidad):\n",
    "    \"\"\"Calcula la CURP\"\"\"\n",
    "    curp = curp_parte_1(primer_apellido, segundo_apellido, nombres) + \\\n",
    "        curp_parte_2(anio_nacimiento, mes_nacimiento, dia_nacimiento) + \\\n",
    "        sexo + entidad + \\\n",
    "        curp_parte_5(primer_apellido, segundo_apellido, nombres) + 'XX'\n",
    "    return curp"
   ]
  },
  {
   "cell_type": "code",
   "execution_count": null,
   "metadata": {},
   "outputs": [
    {
     "data": {
      "text/plain": [
       "'PEGJ800101HDFRRNXX'"
      ]
     },
     "metadata": {},
     "output_type": "display_data"
    }
   ],
   "source": [
    "curp('JUAN', 'PEREZ', 'GARCIA', '1980', '01', '01', 'H', 'DF')"
   ]
  },
  {
   "attachments": {},
   "cell_type": "markdown",
   "metadata": {},
   "source": [
    "Ahora bien, para hacerlo un poco más interactivo debemos de leer los datos que nos proporcione un usuario. Nuevamente separaremos en funciones cada parte que queremos leer. Normalmente esto va a ser necesario para poder validar los datos de entrada, es decir los datos que proporcione el usuario. Por ejemplo, necesitamos que la entidad de nacimiento se nos proporcione con dos letras, correspondientes a la clave de la entidad; sin embargo, no siempre se sabe cuál es la clave en cuestión, por eso es posible que sea necesario proporcionar al usuario la información para acceder a esa clase. Otro ejemplo es el de el año, debemos validar que sea un número entero, que sea de cuatro dígitos, y tal vez, que sea de este siglo o del anterior."
   ]
  },
  {
   "attachments": {},
   "cell_type": "markdown",
   "metadata": {},
   "source": [
    "El primer dato para leer es el nombre, puede ser que tenga más de uno; En ese caso se toma el primer nombre, siempre y cuando este primer nombre no sea \"Maria\" o \"José\"."
   ]
  },
  {
   "cell_type": "code",
   "execution_count": 31,
   "metadata": {},
   "outputs": [],
   "source": [
    "def leer_nombres():\n",
    "    \"\"\"Lee los nombres\"\"\"\n",
    "    print('¿Cuáles son tus nombres? (Mayúsculas y sin acentos)')\n",
    "    nombres = input('>>>').upper()\n",
    "    return nombres"
   ]
  },
  {
   "attachments": {},
   "cell_type": "markdown",
   "metadata": {},
   "source": [
    "Leer los apellidos no representa ningún problema, solamente los convertimos a mayúsculas."
   ]
  },
  {
   "cell_type": "code",
   "execution_count": 32,
   "metadata": {},
   "outputs": [],
   "source": [
    "def leer_apellidos():\n",
    "    \"\"\"Lee los apellidos\"\"\"\n",
    "    print('¿Cuáles son tus apellidos? (Mayúsculas y sin acentos)')\n",
    "    primer_apellido = input('Primer apellido: ').upper()\n",
    "    segundo_apellido = input('Segundo apellido: ').upper()\n",
    "    return primer_apellido, segundo_apellido"
   ]
  },
  {
   "attachments": {},
   "cell_type": "markdown",
   "metadata": {},
   "source": [
    "Cómo se mencionó arriba, es necesario validar que el año de nacimiento sea correcto."
   ]
  },
  {
   "cell_type": "code",
   "execution_count": 33,
   "metadata": {},
   "outputs": [],
   "source": [
    "def leer_anio_nacimiento():\n",
    "    \"\"\"Lee el año de nacimiento\"\"\"\n",
    "    print('¿En qué año naciste? (4 dígitos)')\n",
    "    anio_nacimiento = input('>>>')\n",
    "    while not anio_nacimiento.isnumeric() or len(anio_nacimiento) != 4:\n",
    "        anio_nacimiento = input('>>>')\n",
    "    return anio_nacimiento"
   ]
  },
  {
   "attachments": {},
   "cell_type": "markdown",
   "metadata": {},
   "source": [
    "En el caso de los meses, tal vez no quisiéramos pedirle el mes de nacimiento como dos caracteres si no dar al usuario y la opción de elegir su mes de nacimiento a través de un menú."
   ]
  },
  {
   "cell_type": "code",
   "execution_count": 34,
   "metadata": {},
   "outputs": [],
   "source": [
    "def leer_mes_nacimiento():\n",
    "    \"\"\"Lee el mes de nacimiento\"\"\"\n",
    "    print('¿En qué mes naciste? (2 dígitos)')\n",
    "    mes_nacimiento = input('>>>')\n",
    "    while not mes_nacimiento.isnumeric() or len(mes_nacimiento) != 2:\n",
    "        mes_nacimiento = input('>>>')\n",
    "    return mes_nacimiento"
   ]
  },
  {
   "attachments": {},
   "cell_type": "markdown",
   "metadata": {},
   "source": [
    "En el caso del día, debemos validar que sea un número entero positivo, mayor que cero y menor que 32 en unos casos, menor que 31 en otros casos y menor que 30 o 29 en el caso del mes de febrero."
   ]
  },
  {
   "cell_type": "code",
   "execution_count": 35,
   "metadata": {},
   "outputs": [],
   "source": [
    "def leer_dia_nacimiento():\n",
    "    \"\"\"Lee el día de nacimiento\"\"\"\n",
    "    print('¿En qué día naciste? (2 dígitos)')\n",
    "    dia_nacimiento = input('>>>')\n",
    "    while not dia_nacimiento.isnumeric() or len(dia_nacimiento) != 2:\n",
    "        dia_nacimiento = input('>>>')\n",
    "    return dia_nacimiento"
   ]
  },
  {
   "attachments": {},
   "cell_type": "markdown",
   "metadata": {},
   "source": [
    "Leer exceso no representa ningún problema, aunque es posible no proporcionar un valor por cuestiones de diversidad. En tal caso, hay que regresar una \"X\"."
   ]
  },
  {
   "cell_type": "code",
   "execution_count": 36,
   "metadata": {},
   "outputs": [],
   "source": [
    "def leer_sexo():\n",
    "    \"\"\"Lee el sexo\"\"\"\n",
    "    print('¿Cuál es tu sexo? (H/M)')\n",
    "    sexo = input('>>>').upper()\n",
    "    while sexo not in ['H', 'M']:\n",
    "        sexo = input('>>>').upper()\n",
    "    return sexo"
   ]
  },
  {
   "attachments": {},
   "cell_type": "markdown",
   "metadata": {},
   "source": [
    "Cómo se mencionó previamente, para obtener la entidad federativa se puede hacer a través de un menú."
   ]
  },
  {
   "cell_type": "code",
   "execution_count": 37,
   "metadata": {},
   "outputs": [],
   "source": [
    "entidades = {'AG':'Aguascalientes', \n",
    "             'BC':'Baja California', \n",
    "             'BS':'Baja California Sur', \n",
    "             'CC':'Campeche', \n",
    "             'CL':'Coahuila', \n",
    "             'CM':'Colima', \n",
    "             'CS':'Chiapas', \n",
    "             'CH':'Chihuahua', \n",
    "             'DF':'Ciudad de México', \n",
    "             'DG':'Durango', \n",
    "             'GT':'Guanajuato', \n",
    "             'GR':'Guerrero', \n",
    "             'HG':'Hidalgo', \n",
    "             'JC':'Jalisco', \n",
    "             'MC':'México', \n",
    "             'MN':'Michoacán', \n",
    "             'MS':'Morelos', \n",
    "             'NT':'Nayarit', \n",
    "             'NL':'Nuevo León', \n",
    "             'OC':'Oaxaca', \n",
    "             'PL':'Puebla', \n",
    "             'QT':'Querétaro', \n",
    "             'QR':'Quintana Roo', \n",
    "             'SP':'San Luis Potosí', \n",
    "             'SL':'Sinaloa', \n",
    "             'SR':'Sonora', \n",
    "             'TC':'Tabasco', \n",
    "             'TS':'Tamaulipas', \n",
    "             'TL':'Tlaxcala', \n",
    "             'VZ':'Veracruz', \n",
    "             'YN':'Yucatán', \n",
    "             'ZS':'Zacatecas'}\n",
    "\n",
    "def leer_entidad():\n",
    "    \"\"\"Lee la entidad federativa de nacimiento\"\"\"\n",
    "    print('¿En que entidad federativa naciste?\\n(2 letras mayúsculas, \\\n",
    "    por ejemplo: DF; ? para ver la lista de entidades)')\n",
    "    entidad = input('>>>').upper()\n",
    "    while entidad not in entidades:\n",
    "        if entidad == '?':\n",
    "            for clave, valor in entidades.items():\n",
    "                print(clave, ':', valor)\n",
    "            print('')\n",
    "\n",
    "        entidad = input('>>>').upper()\n",
    "    return entidad"
   ]
  },
  {
   "attachments": {},
   "cell_type": "markdown",
   "metadata": {},
   "source": [
    "Finalmente, unificamos todos los llamados en una función que lee todos los datos necesarios para el cálculo de la CURP."
   ]
  },
  {
   "cell_type": "code",
   "execution_count": 38,
   "metadata": {},
   "outputs": [],
   "source": [
    "def leer_datos():\n",
    "    \"\"\"Lee los datos del usuario\"\"\"\n",
    "    nombres = leer_nombres()\n",
    "    primer_apellido, segundo_apellido = leer_apellidos()\n",
    "    anio_nacimiento = leer_anio_nacimiento()\n",
    "    mes_nacimiento = leer_mes_nacimiento()\n",
    "    dia_nacimiento = leer_dia_nacimiento()\n",
    "    sexo = leer_sexo()\n",
    "    entidad = leer_entidad()\n",
    "    return nombres, primer_apellido, segundo_apellido, anio_nacimiento, \\\n",
    "        mes_nacimiento, dia_nacimiento, sexo, entidad"
   ]
  },
  {
   "attachments": {},
   "cell_type": "markdown",
   "metadata": {},
   "source": [
    "Recordemos, como se vio hace tiempo, qué se puede manejar el valor del retorno de una función como una tupla, es decir como una colección de valores. También vimos que las funciones pueden recibir precisamente una tupla, de esta forma realizamos el llamado para el cálculo de la CURP:"
   ]
  },
  {
   "cell_type": "code",
   "execution_count": 39,
   "metadata": {},
   "outputs": [
    {
     "name": "stdout",
     "output_type": "stream",
     "text": [
      "¿Cuáles son tus nombres? (Mayúsculas y sin acentos)\n",
      "¿Cuáles son tus apellidos? (Mayúsculas y sin acentos)\n",
      "¿En qué año naciste? (4 dígitos)\n",
      "¿En qué mes naciste? (2 dígitos)\n",
      "¿En qué día naciste? (2 dígitos)\n",
      "¿Cuál es tu sexo? (H/M)\n",
      "¿En que entidad federativa naciste?\n",
      "(2 letras mayúsculas,     por ejemplo: DF; ? para ver la lista de entidades)\n"
     ]
    },
    {
     "data": {
      "text/plain": [
       "'QUTR750508HDFNLLXX'"
      ]
     },
     "execution_count": 39,
     "metadata": {},
     "output_type": "execute_result"
    }
   ],
   "source": [
    "curp(*leer_datos())"
   ]
  },
  {
   "attachments": {},
   "cell_type": "markdown",
   "metadata": {},
   "source": [
    "#### Tarea\n",
    "> Cómo tarea hay que hacer las adecuaciones que se mencionan en el texto para la validación de las entradas."
   ]
  },
  {
   "attachments": {},
   "cell_type": "markdown",
   "metadata": {},
   "source": [
    "### 4.5.2. De número a cadena"
   ]
  }
 ],
 "metadata": {
  "kernelspec": {
   "display_name": "prope_A23",
   "language": "python",
   "name": "python3"
  },
  "language_info": {
   "codemirror_mode": {
    "name": "ipython",
    "version": 3
   },
   "file_extension": ".py",
   "mimetype": "text/x-python",
   "name": "python",
   "nbconvert_exporter": "python",
   "pygments_lexer": "ipython3",
   "version": "3.10.10"
  },
  "orig_nbformat": 4
 },
 "nbformat": 4,
 "nbformat_minor": 2
}
