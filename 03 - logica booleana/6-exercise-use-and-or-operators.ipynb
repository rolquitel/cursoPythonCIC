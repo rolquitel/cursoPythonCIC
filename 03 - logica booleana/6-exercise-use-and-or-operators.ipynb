{
  "cells": [
    {
      "cell_type": "markdown",
      "source": [
        "# Exercise: Use complex logic to determine possible evasive maneuvers\n",
        "\n",
        "In the previous exercise you created code to test the size of the object. Now you will test both the object's size and proximity. You will use the same threshold for size of 5m<sup>3</sup>. If the object is both larger than the threshold and within 1000km of the ship evasive maneuvers will be required.\n",
        "\n",
        "For this step you will be presented with the goal for the exercise, followed by an empty cell. Enter your Python into the cell and run it. The solution is at the bottom of the exercise.\n",
        "\n",
        "Add the code to the cell below to create two variables: `object_size` and `proximity`. Set `object_size` to 10 to represent 10m<sup>3</sup>. Set `proximity` to 9000.\n",
        "\n",
        "Then add the code to display a message saying **Evasive maneuvers required** if both `object_size` is greater than 5 **and** `proximity` is less than 1000. Otherwise display a message saying **Object poses no threat.**"
      ],
      "metadata": {}
    },
    {
      "cell_type": "code",
      "source": [
        "# Add code below"
      ],
      "outputs": [],
      "execution_count": null,
      "metadata": {}
    },
    {
      "cell_type": "markdown",
      "source": [
        "Your code should look something like this:\n",
        "\n",
        "```python\n",
        "object_size = 10\n",
        "proximity = 9000\n",
        "\n",
        "if object_size > 5 and proximity < 1000:\n",
        "    print('Evasive maneuvers required')\n",
        "else:\n",
        "    print('Object poses no threat')\n",
        "```\n",
        "\n",
        "## Desired output\n",
        "\n",
        "When you run the notebook, you should see the following result displayed:\n",
        "\n",
        "```\n",
        "Object poses no threat\n",
        "```"
      ],
      "metadata": {}
    }
  ],
  "metadata": {
    "interpreter": {
      "hash": "916dbcbb3f70747c44a77c7bcd40155683ae19c65e1c03b4aa3499c5328201f1"
    },
    "kernel_info": {
      "name": "conda-env-py38_default-py"
    },
    "kernelspec": {
      "display_name": "py38_default",
      "language": "python",
      "name": "conda-env-py38_default-py"
    },
    "language_info": {
      "codemirror_mode": {
        "name": "ipython",
        "version": 3
      },
      "file_extension": ".py",
      "mimetype": "text/x-python",
      "name": "python",
      "nbconvert_exporter": "python",
      "pygments_lexer": "ipython3",
      "version": "3.8.10"
    },
    "orig_nbformat": 4,
    "nteract": {
      "version": "nteract-front-end@1.0.0"
    }
  },
  "nbformat": 4,
  "nbformat_minor": 2
}