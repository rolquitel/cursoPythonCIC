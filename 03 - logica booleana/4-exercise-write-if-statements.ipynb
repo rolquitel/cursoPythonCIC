{
  "cells": [
    {
      "cell_type": "markdown",
      "source": [
        "# Exercise: Use logic to examine an object's size\n",
        "\n",
        "You will start your project by creating the code to determine if a piece of space debris is of a dangerous size. For this exercise we will use an arbitrary size of 5 meters cubed (5m<sup>3</sup>); anything larger is a potentially dangerous object.\n",
        "\n",
        "For this step you will be presented with the goal for the exercise, followed by an empty cell. Enter your Python into the cell and run it. The solution is at the bottom of the exercise.\n",
        "\n",
        "In the cell below, add a variable named `object_size` and set it to 10 to represent 10m<sup>3</sup>. Then add an `if` statement to test if `object_size` is greater than 5. If it is, display a message saying **We need to keep an eye on this object.** If it's less than 5, display a message saying **Object poses no threat.**"
      ],
      "metadata": {}
    },
    {
      "cell_type": "code",
      "source": [
        "# Enter code below"
      ],
      "outputs": [],
      "execution_count": null,
      "metadata": {}
    },
    {
      "cell_type": "markdown",
      "source": [
        "Your code could look like the following:\n",
        "\n",
        "```python\n",
        "object_size = 10\n",
        "if object_size > 5:\n",
        "    print('We need to keep an eye on this object')\n",
        "else:\n",
        "    print('Object poses no threat.')\n",
        "```\n",
        "\n",
        "## Desired output\n",
        "\n",
        "When you run the notebook you should see the following result:\n",
        "\n",
        "```python\n",
        "We need to keep an eye on this object\n",
        "```"
      ],
      "metadata": {}
    }
  ],
  "metadata": {
    "interpreter": {
      "hash": "916dbcbb3f70747c44a77c7bcd40155683ae19c65e1c03b4aa3499c5328201f1"
    },
    "kernel_info": {
      "name": "conda-env-py38_default-py"
    },
    "kernelspec": {
      "display_name": "py38_default",
      "language": "python",
      "name": "conda-env-py38_default-py"
    },
    "language_info": {
      "codemirror_mode": {
        "name": "ipython",
        "version": 3
      },
      "file_extension": ".py",
      "mimetype": "text/x-python",
      "name": "python",
      "nbconvert_exporter": "python",
      "pygments_lexer": "ipython3",
      "version": "3.8.10"
    },
    "orig_nbformat": 4,
    "nteract": {
      "version": "nteract-front-end@1.0.0"
    }
  },
  "nbformat": 4,
  "nbformat_minor": 2
}