{
  "cells": [
    {
      "cell_type": "markdown",
      "source": [
        "# Creating reusable applications\n",
        "\n",
        "Having a program with hard-coded values limits its flexibility. Your first officer likes the program you built to convert parsecs to lightyears, but wants the ability to specify a value for parsecs. She wants you to create a program which can accept user input.\n",
        "\n",
        "This exercise is broken into a series of steps. For each step you will be presented with the goal for the step, followed by an empty cell. Enter your Python into the cell and run it. The solution for each step will follow each cell.\n",
        "\n",
        "## Accepting user input\n",
        "\n",
        "In the prior exercise you created code to convert parsecs to lightyears and display the results, which looked like the following:\n",
        "\n",
        "```python\n",
        "parsecs = 11\n",
        "lightyears = parsecs * 3.26\n",
        "print(str(parsecs) + \" parsecs is \" + str(lightyears) + \" lightyears\")\n",
        "```\n",
        "\n",
        "Using this code as a foundation, update how `parsecs` is set. Start by creating a variable named `parsecs_input` and setting it to the result of `input`, which should prompt the user to enter the number of parsecs. Then convert `parsecs_input` to an integer by using `int` and storing it in `parsecs`. Finish by performing the calculation and displaying the result."
      ],
      "metadata": {}
    },
    {
      "cell_type": "code",
      "source": [
        "# Enter code below"
      ],
      "outputs": [],
      "execution_count": null,
      "metadata": {}
    },
    {
      "cell_type": "markdown",
      "source": [
        "Your code should look something like the following:\n",
        "\n",
        "```python\n",
        "parsecs_input = input(\"Input number of parsecs:\")\n",
        "parsecs = int(parsecs_input)\n",
        "lightyears = 3.26156 * parsecs\n",
        "\n",
        "print(parsecs_input + \" parsecs is \" + str(lightyears) + \" lightyears\")\n",
        "```\n",
        "\n"
      ],
      "metadata": {}
    }
  ],
  "metadata": {
    "interpreter": {
      "hash": "916dbcbb3f70747c44a77c7bcd40155683ae19c65e1c03b4aa3499c5328201f1"
    },
    "kernel_info": {
      "name": "conda-env-py38_default-py"
    },
    "kernelspec": {
      "display_name": "py38_default",
      "language": "python",
      "name": "conda-env-py38_default-py"
    },
    "language_info": {
      "codemirror_mode": {
        "name": "ipython",
        "version": 3
      },
      "file_extension": ".py",
      "mimetype": "text/x-python",
      "name": "python",
      "nbconvert_exporter": "python",
      "pygments_lexer": "ipython3",
      "version": "3.8.10"
    },
    "orig_nbformat": 4,
    "nteract": {
      "version": "nteract-front-end@1.0.0"
    }
  },
  "nbformat": 4,
  "nbformat_minor": 2
}